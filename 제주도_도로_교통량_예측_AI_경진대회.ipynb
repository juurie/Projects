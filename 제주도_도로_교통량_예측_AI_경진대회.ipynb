{
  "cells": [
    {
      "cell_type": "markdown",
      "metadata": {
        "id": "view-in-github",
        "colab_type": "text"
      },
      "source": [
        "<a href=\"https://colab.research.google.com/github/juurie/Projects/blob/main/%EC%A0%9C%EC%A3%BC%EB%8F%84_%EB%8F%84%EB%A1%9C_%EA%B5%90%ED%86%B5%EB%9F%89_%EC%98%88%EC%B8%A1_AI_%EA%B2%BD%EC%A7%84%EB%8C%80%ED%9A%8C.ipynb\" target=\"_parent\"><img src=\"https://colab.research.google.com/assets/colab-badge.svg\" alt=\"Open In Colab\"/></a>"
      ]
    },
    {
      "cell_type": "markdown",
      "id": "23439f8c",
      "metadata": {
        "id": "23439f8c"
      },
      "source": [
        "# Import package"
      ]
    },
    {
      "cell_type": "code",
      "execution_count": null,
      "id": "f54974da",
      "metadata": {
        "id": "f54974da",
        "outputId": "181f89ca-7c36-45d2-9be8-b9e37d575f6e"
      },
      "outputs": [
        {
          "data": {
            "text/html": [
              "        <script type=\"text/javascript\">\n",
              "        window.PlotlyConfig = {MathJaxConfig: 'local'};\n",
              "        if (window.MathJax && window.MathJax.Hub && window.MathJax.Hub.Config) {window.MathJax.Hub.Config({SVG: {font: \"STIX-Web\"}});}\n",
              "        if (typeof require !== 'undefined') {\n",
              "        require.undef(\"plotly\");\n",
              "        requirejs.config({\n",
              "            paths: {\n",
              "                'plotly': ['https://cdn.plot.ly/plotly-2.14.0.min']\n",
              "            }\n",
              "        });\n",
              "        require(['plotly'], function(Plotly) {\n",
              "            window._Plotly = Plotly;\n",
              "        });\n",
              "        }\n",
              "        </script>\n",
              "        "
            ]
          },
          "metadata": {},
          "output_type": "display_data"
        },
        {
          "name": "stdout",
          "output_type": "stream",
          "text": [
            "Populating the interactive namespace from numpy and matplotlib\n"
          ]
        }
      ],
      "source": [
        "import requests\n",
        "import xmltodict,json\n",
        "from urllib.parse import urlencode, unquote, quote_plus\n",
        "import re\n",
        "import matplotlib.pyplot as plt\n",
        "from collections import Counter\n",
        "from PIL import Image\n",
        "import seaborn as sns\n",
        "import networkx as nx\n",
        "import os\n",
        "import pandas as pd\n",
        "from sklearn.preprocessing import LabelEncoder\n",
        "import lightgbm as lgb\n",
        "import gc\n",
        "import folium\n",
        "import plotly.graph_objects as go\n",
        "from ipywidgets import interact, interact_manual\n",
        "import ipywidgets as widgets\n",
        "import plotly.express as px\n",
        "import cufflinks as cf\n",
        "cf.go_offline(connected=True)\n",
        "from pandas import DataFrame\n",
        "from sklearn.model_selection import train_test_split\n",
        "from sklearn.metrics import mean_absolute_error\n",
        "from sklearn.feature_selection import f_regression,chi2, SelectKBest\n",
        "#from sklearn.feature_selection import chi2, SelectKBest\n",
        "\n",
        "# 결과 확인을 용이하게 하기 위한 코드\n",
        "from IPython.core.interactiveshell import InteractiveShell\n",
        "InteractiveShell.ast_node_interactivity = 'all'\n",
        "%matplotlib inline\n",
        "%pylab inline"
      ]
    },
    {
      "cell_type": "markdown",
      "id": "d0de0f46",
      "metadata": {
        "id": "d0de0f46"
      },
      "source": [
        "# load data"
      ]
    },
    {
      "cell_type": "code",
      "execution_count": null,
      "id": "3d7374de",
      "metadata": {
        "id": "3d7374de"
      },
      "outputs": [],
      "source": [
        "train = pd.read_parquet('train.parquet')\n",
        "test = pd.read_parquet('test.parquet')"
      ]
    },
    {
      "cell_type": "code",
      "execution_count": null,
      "id": "189072de",
      "metadata": {
        "id": "189072de",
        "outputId": "dd169f42-e62e-4c11-ae74-c20477b60f65"
      },
      "outputs": [
        {
          "data": {
            "text/html": [
              "<div>\n",
              "<style scoped>\n",
              "    .dataframe tbody tr th:only-of-type {\n",
              "        vertical-align: middle;\n",
              "    }\n",
              "\n",
              "    .dataframe tbody tr th {\n",
              "        vertical-align: top;\n",
              "    }\n",
              "\n",
              "    .dataframe thead th {\n",
              "        text-align: right;\n",
              "    }\n",
              "</style>\n",
              "<table border=\"1\" class=\"dataframe\">\n",
              "  <thead>\n",
              "    <tr style=\"text-align: right;\">\n",
              "      <th></th>\n",
              "      <th>id</th>\n",
              "      <th>base_date</th>\n",
              "      <th>day_of_week</th>\n",
              "      <th>base_hour</th>\n",
              "      <th>lane_count</th>\n",
              "      <th>road_rating</th>\n",
              "      <th>road_name</th>\n",
              "      <th>multi_linked</th>\n",
              "      <th>connect_code</th>\n",
              "      <th>maximum_speed_limit</th>\n",
              "      <th>...</th>\n",
              "      <th>height_restricted</th>\n",
              "      <th>road_type</th>\n",
              "      <th>start_node_name</th>\n",
              "      <th>start_latitude</th>\n",
              "      <th>start_longitude</th>\n",
              "      <th>start_turn_restricted</th>\n",
              "      <th>end_node_name</th>\n",
              "      <th>end_latitude</th>\n",
              "      <th>end_longitude</th>\n",
              "      <th>end_turn_restricted</th>\n",
              "    </tr>\n",
              "  </thead>\n",
              "  <tbody>\n",
              "    <tr>\n",
              "      <th>0</th>\n",
              "      <td>TEST_000000</td>\n",
              "      <td>20220825</td>\n",
              "      <td>목</td>\n",
              "      <td>17</td>\n",
              "      <td>3</td>\n",
              "      <td>107</td>\n",
              "      <td>연삼로</td>\n",
              "      <td>0</td>\n",
              "      <td>0</td>\n",
              "      <td>70.0</td>\n",
              "      <td>...</td>\n",
              "      <td>0.0</td>\n",
              "      <td>0</td>\n",
              "      <td>산지2교</td>\n",
              "      <td>33.499427</td>\n",
              "      <td>126.541298</td>\n",
              "      <td>없음</td>\n",
              "      <td>제주은행사거리</td>\n",
              "      <td>33.500772</td>\n",
              "      <td>126.543837</td>\n",
              "      <td>있음</td>\n",
              "    </tr>\n",
              "    <tr>\n",
              "      <th>1</th>\n",
              "      <td>TEST_000001</td>\n",
              "      <td>20220809</td>\n",
              "      <td>화</td>\n",
              "      <td>12</td>\n",
              "      <td>2</td>\n",
              "      <td>103</td>\n",
              "      <td>일반국도12호선</td>\n",
              "      <td>0</td>\n",
              "      <td>0</td>\n",
              "      <td>70.0</td>\n",
              "      <td>...</td>\n",
              "      <td>0.0</td>\n",
              "      <td>3</td>\n",
              "      <td>중문입구</td>\n",
              "      <td>33.258507</td>\n",
              "      <td>126.427003</td>\n",
              "      <td>없음</td>\n",
              "      <td>관광단지입구</td>\n",
              "      <td>33.258119</td>\n",
              "      <td>126.415840</td>\n",
              "      <td>없음</td>\n",
              "    </tr>\n",
              "    <tr>\n",
              "      <th>2</th>\n",
              "      <td>TEST_000002</td>\n",
              "      <td>20220805</td>\n",
              "      <td>금</td>\n",
              "      <td>2</td>\n",
              "      <td>1</td>\n",
              "      <td>103</td>\n",
              "      <td>일반국도16호선</td>\n",
              "      <td>0</td>\n",
              "      <td>0</td>\n",
              "      <td>60.0</td>\n",
              "      <td>...</td>\n",
              "      <td>0.0</td>\n",
              "      <td>0</td>\n",
              "      <td>도순3교</td>\n",
              "      <td>33.258960</td>\n",
              "      <td>126.476508</td>\n",
              "      <td>없음</td>\n",
              "      <td>도순2교</td>\n",
              "      <td>33.259206</td>\n",
              "      <td>126.474687</td>\n",
              "      <td>없음</td>\n",
              "    </tr>\n",
              "    <tr>\n",
              "      <th>3</th>\n",
              "      <td>TEST_000003</td>\n",
              "      <td>20220818</td>\n",
              "      <td>목</td>\n",
              "      <td>23</td>\n",
              "      <td>3</td>\n",
              "      <td>103</td>\n",
              "      <td>일반국도11호선</td>\n",
              "      <td>0</td>\n",
              "      <td>0</td>\n",
              "      <td>70.0</td>\n",
              "      <td>...</td>\n",
              "      <td>0.0</td>\n",
              "      <td>0</td>\n",
              "      <td>아라주공아파트</td>\n",
              "      <td>33.473494</td>\n",
              "      <td>126.545647</td>\n",
              "      <td>없음</td>\n",
              "      <td>인다마을</td>\n",
              "      <td>33.471061</td>\n",
              "      <td>126.545467</td>\n",
              "      <td>없음</td>\n",
              "    </tr>\n",
              "    <tr>\n",
              "      <th>4</th>\n",
              "      <td>TEST_000004</td>\n",
              "      <td>20220810</td>\n",
              "      <td>수</td>\n",
              "      <td>17</td>\n",
              "      <td>3</td>\n",
              "      <td>106</td>\n",
              "      <td>번영로</td>\n",
              "      <td>0</td>\n",
              "      <td>0</td>\n",
              "      <td>70.0</td>\n",
              "      <td>...</td>\n",
              "      <td>0.0</td>\n",
              "      <td>0</td>\n",
              "      <td>부록교 시종점</td>\n",
              "      <td>33.501477</td>\n",
              "      <td>126.569223</td>\n",
              "      <td>없음</td>\n",
              "      <td>봉개교 시종점</td>\n",
              "      <td>33.496863</td>\n",
              "      <td>126.581230</td>\n",
              "      <td>없음</td>\n",
              "    </tr>\n",
              "    <tr>\n",
              "      <th>...</th>\n",
              "      <td>...</td>\n",
              "      <td>...</td>\n",
              "      <td>...</td>\n",
              "      <td>...</td>\n",
              "      <td>...</td>\n",
              "      <td>...</td>\n",
              "      <td>...</td>\n",
              "      <td>...</td>\n",
              "      <td>...</td>\n",
              "      <td>...</td>\n",
              "      <td>...</td>\n",
              "      <td>...</td>\n",
              "      <td>...</td>\n",
              "      <td>...</td>\n",
              "      <td>...</td>\n",
              "      <td>...</td>\n",
              "      <td>...</td>\n",
              "      <td>...</td>\n",
              "      <td>...</td>\n",
              "      <td>...</td>\n",
              "      <td>...</td>\n",
              "    </tr>\n",
              "    <tr>\n",
              "      <th>291236</th>\n",
              "      <td>TEST_291236</td>\n",
              "      <td>20220827</td>\n",
              "      <td>토</td>\n",
              "      <td>5</td>\n",
              "      <td>1</td>\n",
              "      <td>103</td>\n",
              "      <td>일반국도16호선</td>\n",
              "      <td>0</td>\n",
              "      <td>0</td>\n",
              "      <td>80.0</td>\n",
              "      <td>...</td>\n",
              "      <td>0.0</td>\n",
              "      <td>0</td>\n",
              "      <td>월산마을</td>\n",
              "      <td>33.472819</td>\n",
              "      <td>126.463030</td>\n",
              "      <td>없음</td>\n",
              "      <td>도근교</td>\n",
              "      <td>33.470483</td>\n",
              "      <td>126.460846</td>\n",
              "      <td>없음</td>\n",
              "    </tr>\n",
              "    <tr>\n",
              "      <th>291237</th>\n",
              "      <td>TEST_291237</td>\n",
              "      <td>20220819</td>\n",
              "      <td>금</td>\n",
              "      <td>20</td>\n",
              "      <td>2</td>\n",
              "      <td>103</td>\n",
              "      <td>일반국도11호선</td>\n",
              "      <td>0</td>\n",
              "      <td>0</td>\n",
              "      <td>60.0</td>\n",
              "      <td>...</td>\n",
              "      <td>0.0</td>\n",
              "      <td>0</td>\n",
              "      <td>영주교</td>\n",
              "      <td>33.305359</td>\n",
              "      <td>126.598914</td>\n",
              "      <td>없음</td>\n",
              "      <td>하례입구삼거리</td>\n",
              "      <td>33.300796</td>\n",
              "      <td>126.600332</td>\n",
              "      <td>없음</td>\n",
              "    </tr>\n",
              "    <tr>\n",
              "      <th>291238</th>\n",
              "      <td>TEST_291238</td>\n",
              "      <td>20220805</td>\n",
              "      <td>금</td>\n",
              "      <td>11</td>\n",
              "      <td>1</td>\n",
              "      <td>107</td>\n",
              "      <td>신대로</td>\n",
              "      <td>0</td>\n",
              "      <td>0</td>\n",
              "      <td>30.0</td>\n",
              "      <td>...</td>\n",
              "      <td>0.0</td>\n",
              "      <td>0</td>\n",
              "      <td>마리나사거리</td>\n",
              "      <td>33.493624</td>\n",
              "      <td>126.496769</td>\n",
              "      <td>있음</td>\n",
              "      <td>칠오광장사거리</td>\n",
              "      <td>33.497500</td>\n",
              "      <td>126.496946</td>\n",
              "      <td>있음</td>\n",
              "    </tr>\n",
              "    <tr>\n",
              "      <th>291239</th>\n",
              "      <td>TEST_291239</td>\n",
              "      <td>20220812</td>\n",
              "      <td>금</td>\n",
              "      <td>7</td>\n",
              "      <td>2</td>\n",
              "      <td>107</td>\n",
              "      <td>경찰로</td>\n",
              "      <td>0</td>\n",
              "      <td>0</td>\n",
              "      <td>60.0</td>\n",
              "      <td>...</td>\n",
              "      <td>0.0</td>\n",
              "      <td>0</td>\n",
              "      <td>국민의료보험관리공단</td>\n",
              "      <td>33.254782</td>\n",
              "      <td>126.507014</td>\n",
              "      <td>없음</td>\n",
              "      <td>의료보험조합</td>\n",
              "      <td>33.255659</td>\n",
              "      <td>126.507333</td>\n",
              "      <td>없음</td>\n",
              "    </tr>\n",
              "    <tr>\n",
              "      <th>291240</th>\n",
              "      <td>TEST_291240</td>\n",
              "      <td>20220812</td>\n",
              "      <td>금</td>\n",
              "      <td>10</td>\n",
              "      <td>3</td>\n",
              "      <td>106</td>\n",
              "      <td>지방도1132호선</td>\n",
              "      <td>0</td>\n",
              "      <td>0</td>\n",
              "      <td>70.0</td>\n",
              "      <td>...</td>\n",
              "      <td>0.0</td>\n",
              "      <td>0</td>\n",
              "      <td>수모루교차로</td>\n",
              "      <td>33.246996</td>\n",
              "      <td>126.524358</td>\n",
              "      <td>없음</td>\n",
              "      <td>수모루</td>\n",
              "      <td>33.247053</td>\n",
              "      <td>126.523503</td>\n",
              "      <td>없음</td>\n",
              "    </tr>\n",
              "  </tbody>\n",
              "</table>\n",
              "<p>291241 rows × 22 columns</p>\n",
              "</div>"
            ],
            "text/plain": [
              "                 id  base_date day_of_week  base_hour  lane_count  \\\n",
              "0       TEST_000000   20220825           목         17           3   \n",
              "1       TEST_000001   20220809           화         12           2   \n",
              "2       TEST_000002   20220805           금          2           1   \n",
              "3       TEST_000003   20220818           목         23           3   \n",
              "4       TEST_000004   20220810           수         17           3   \n",
              "...             ...        ...         ...        ...         ...   \n",
              "291236  TEST_291236   20220827           토          5           1   \n",
              "291237  TEST_291237   20220819           금         20           2   \n",
              "291238  TEST_291238   20220805           금         11           1   \n",
              "291239  TEST_291239   20220812           금          7           2   \n",
              "291240  TEST_291240   20220812           금         10           3   \n",
              "\n",
              "        road_rating  road_name  multi_linked  connect_code  \\\n",
              "0               107        연삼로             0             0   \n",
              "1               103   일반국도12호선             0             0   \n",
              "2               103   일반국도16호선             0             0   \n",
              "3               103   일반국도11호선             0             0   \n",
              "4               106        번영로             0             0   \n",
              "...             ...        ...           ...           ...   \n",
              "291236          103   일반국도16호선             0             0   \n",
              "291237          103   일반국도11호선             0             0   \n",
              "291238          107        신대로             0             0   \n",
              "291239          107        경찰로             0             0   \n",
              "291240          106  지방도1132호선             0             0   \n",
              "\n",
              "        maximum_speed_limit  ...  height_restricted  road_type  \\\n",
              "0                      70.0  ...                0.0          0   \n",
              "1                      70.0  ...                0.0          3   \n",
              "2                      60.0  ...                0.0          0   \n",
              "3                      70.0  ...                0.0          0   \n",
              "4                      70.0  ...                0.0          0   \n",
              "...                     ...  ...                ...        ...   \n",
              "291236                 80.0  ...                0.0          0   \n",
              "291237                 60.0  ...                0.0          0   \n",
              "291238                 30.0  ...                0.0          0   \n",
              "291239                 60.0  ...                0.0          0   \n",
              "291240                 70.0  ...                0.0          0   \n",
              "\n",
              "        start_node_name  start_latitude start_longitude  \\\n",
              "0                  산지2교       33.499427      126.541298   \n",
              "1                  중문입구       33.258507      126.427003   \n",
              "2                  도순3교       33.258960      126.476508   \n",
              "3               아라주공아파트       33.473494      126.545647   \n",
              "4               부록교 시종점       33.501477      126.569223   \n",
              "...                 ...             ...             ...   \n",
              "291236             월산마을       33.472819      126.463030   \n",
              "291237              영주교       33.305359      126.598914   \n",
              "291238           마리나사거리       33.493624      126.496769   \n",
              "291239       국민의료보험관리공단       33.254782      126.507014   \n",
              "291240           수모루교차로       33.246996      126.524358   \n",
              "\n",
              "        start_turn_restricted  end_node_name end_latitude end_longitude  \\\n",
              "0                          없음        제주은행사거리    33.500772    126.543837   \n",
              "1                          없음         관광단지입구    33.258119    126.415840   \n",
              "2                          없음           도순2교    33.259206    126.474687   \n",
              "3                          없음           인다마을    33.471061    126.545467   \n",
              "4                          없음        봉개교 시종점    33.496863    126.581230   \n",
              "...                       ...            ...          ...           ...   \n",
              "291236                     없음            도근교    33.470483    126.460846   \n",
              "291237                     없음        하례입구삼거리    33.300796    126.600332   \n",
              "291238                     있음        칠오광장사거리    33.497500    126.496946   \n",
              "291239                     없음         의료보험조합    33.255659    126.507333   \n",
              "291240                     없음            수모루    33.247053    126.523503   \n",
              "\n",
              "        end_turn_restricted  \n",
              "0                        있음  \n",
              "1                        없음  \n",
              "2                        없음  \n",
              "3                        없음  \n",
              "4                        없음  \n",
              "...                     ...  \n",
              "291236                   없음  \n",
              "291237                   없음  \n",
              "291238                   있음  \n",
              "291239                   없음  \n",
              "291240                   없음  \n",
              "\n",
              "[291241 rows x 22 columns]"
            ]
          },
          "execution_count": 20,
          "metadata": {},
          "output_type": "execute_result"
        }
      ],
      "source": [
        "train[\"date\"] = pd.to_datetime(train[\"base_date\"],format='%Y%m%d')\n",
        "train['year']= train['date'].dt.year\n",
        "train['month']= train['date'].dt.month\n",
        "train['day']= train['date'].dt.day\n",
        "test"
      ]
    },
    {
      "cell_type": "markdown",
      "id": "8f2006ea",
      "metadata": {
        "id": "8f2006ea"
      },
      "source": [
        "# scaling"
      ]
    },
    {
      "cell_type": "code",
      "execution_count": null,
      "id": "6297c612",
      "metadata": {
        "id": "6297c612"
      },
      "outputs": [],
      "source": [
        "str_col = ['day_of_week','start_turn_restricted','end_turn_restricted']\n",
        "for i in str_col:\n",
        "    le = LabelEncoder()\n",
        "    le = le.fit(train[i])\n",
        "    train[i] = le.transform(train[i])\n",
        "    \n",
        "    for label in np.unique(test[i]):\n",
        "        if label not in le.classes_:\n",
        "            le.classes_ = np.append(le.classes_, label)\n",
        "    test[i] = le.transform(test[i])"
      ]
    },
    {
      "cell_type": "code",
      "execution_count": null,
      "id": "14866902",
      "metadata": {
        "id": "14866902"
      },
      "outputs": [],
      "source": [
        "data = train.drop(['id','date','road_name', 'vehicle_restricted', 'height_restricted', 'start_node_name', 'end_node_name'], axis=1)\n",
        "d_test = test.drop(['id','road_name', 'vehicle_restricted', 'height_restricted','start_node_name', 'end_node_name'], axis=1)"
      ]
    },
    {
      "cell_type": "code",
      "execution_count": null,
      "id": "e90ccbad",
      "metadata": {
        "id": "e90ccbad"
      },
      "outputs": [],
      "source": [
        "mean = data.mean(axis=0)\n",
        "data -= mean # 평균을 빼고\n",
        "std = data.std(axis=0)\n",
        "data /= std # 표준편차로 나누어 줌\n",
        "\n",
        "# 테스트 데이터가 아닌 훈련용 데이터에서 구한 평균과 표준편차를 이용하여 정규화를 해줌\n",
        "d_test -= mean \n",
        "d_test /= std\n",
        "\n",
        "d_train = data.drop('target', axis=1)\n",
        "d_target = train[\"target\"]"
      ]
    },
    {
      "cell_type": "markdown",
      "id": "36ed7cdf",
      "metadata": {
        "id": "36ed7cdf"
      },
      "source": [
        "# data split"
      ]
    },
    {
      "cell_type": "code",
      "execution_count": null,
      "id": "51d8a243",
      "metadata": {
        "scrolled": true,
        "id": "51d8a243",
        "outputId": "f28363f3-3b10-4c62-b6f8-18eea939b90f"
      },
      "outputs": [
        {
          "data": {
            "text/plain": [
              "(3525912, 19)"
            ]
          },
          "execution_count": 46,
          "metadata": {},
          "output_type": "execute_result"
        },
        {
          "data": {
            "text/plain": [
              "(1175305, 19)"
            ]
          },
          "execution_count": 46,
          "metadata": {},
          "output_type": "execute_result"
        },
        {
          "data": {
            "text/plain": [
              "(3525912,)"
            ]
          },
          "execution_count": 46,
          "metadata": {},
          "output_type": "execute_result"
        },
        {
          "data": {
            "text/plain": [
              "(1175305,)"
            ]
          },
          "execution_count": 46,
          "metadata": {},
          "output_type": "execute_result"
        }
      ],
      "source": [
        "x_train, x_test, y_train, y_test = train_test_split(d_train, d_target, random_state=0)\n",
        "\n",
        "x_train.shape\n",
        "x_test.shape\n",
        "y_train.shape\n",
        "y_test.shape\n",
        "#x_train"
      ]
    },
    {
      "cell_type": "markdown",
      "id": "4b69faa3",
      "metadata": {
        "id": "4b69faa3"
      },
      "source": [
        "# select feautre"
      ]
    },
    {
      "cell_type": "markdown",
      "id": "05ee2fbb",
      "metadata": {
        "id": "05ee2fbb"
      },
      "source": [
        "## SelectKBest"
      ]
    },
    {
      "cell_type": "code",
      "execution_count": null,
      "id": "8b1c171a",
      "metadata": {
        "id": "8b1c171a",
        "outputId": "6fef6446-6b67-47ae-a02e-22362f323307"
      },
      "outputs": [
        {
          "data": {
            "text/plain": [
              "((3525912, 10), (1175305, 10))"
            ]
          },
          "execution_count": 47,
          "metadata": {},
          "output_type": "execute_result"
        }
      ],
      "source": [
        "## selctor 정의하기.\n",
        "selector = SelectKBest(score_func=f_regression, k=10)\n",
        "\n",
        "## 학습데이터에 fit_transform \n",
        "x_train_selected = selector.fit_transform(x_train, y_train)\n",
        "\n",
        "## 테스트 데이터는 transform\n",
        "x_test_selected = selector.transform(x_test)\n",
        "x_train_selected.shape, x_test_selected.shape"
      ]
    },
    {
      "cell_type": "code",
      "execution_count": null,
      "id": "1d1d9c1f",
      "metadata": {
        "id": "1d1d9c1f",
        "outputId": "90d0dd6b-376c-4340-f11c-da08324dfa0d"
      },
      "outputs": [
        {
          "name": "stdout",
          "output_type": "stream",
          "text": [
            "Selected names:  Index(['base_hour', 'lane_count', 'road_rating', 'connect_code',\n",
            "       'maximum_speed_limit', 'weight_restricted', 'road_type',\n",
            "       'start_latitude', 'start_turn_restricted', 'end_turn_restricted'],\n",
            "      dtype='object')\n",
            "Unselected names:  Index(['base_date', 'day_of_week', 'multi_linked', 'start_longitude',\n",
            "       'end_latitude', 'end_longitude', 'year', 'month', 'day'],\n",
            "      dtype='object')\n"
          ]
        }
      ],
      "source": [
        "all_names = x_train.columns\n",
        "\n",
        "## selector.get_support()\n",
        "selected_mask = selector.get_support()\n",
        "\n",
        "## 선택된 특성(변수)들\n",
        "selected_names = all_names[selected_mask]\n",
        "\n",
        "## 선택되지 않은 특성(변수)들\n",
        "unselected_names = all_names[~selected_mask]\n",
        "\n",
        "print('Selected names: ', selected_names)\n",
        "print('Unselected names: ', unselected_names)"
      ]
    },
    {
      "cell_type": "code",
      "execution_count": null,
      "id": "875464f0",
      "metadata": {
        "id": "875464f0",
        "outputId": "13c658e0-eed8-4092-ccb7-b7915aef51f5"
      },
      "outputs": [
        {
          "data": {
            "text/plain": [
              "(291241, 10)"
            ]
          },
          "execution_count": 49,
          "metadata": {},
          "output_type": "execute_result"
        }
      ],
      "source": [
        "x_train = DataFrame(x_train, columns = selected_names)\n",
        "\n",
        "x_test = DataFrame(x_test, columns = selected_names)\n",
        "\n",
        "d_test = DataFrame(d_test, columns = selected_names)\n",
        "d_test.shape"
      ]
    },
    {
      "cell_type": "markdown",
      "id": "fcb1bca4",
      "metadata": {
        "id": "fcb1bca4"
      },
      "source": [
        "# Mechine learning"
      ]
    },
    {
      "cell_type": "markdown",
      "id": "7abcdedb",
      "metadata": {
        "id": "7abcdedb"
      },
      "source": [
        "## lgbm"
      ]
    },
    {
      "cell_type": "code",
      "execution_count": null,
      "id": "81a22ffb",
      "metadata": {
        "id": "81a22ffb",
        "outputId": "1daa635c-9833-4e1d-8f74-ac38fcc91e8d"
      },
      "outputs": [
        {
          "name": "stdout",
          "output_type": "stream",
          "text": [
            "훈련 세트 정확도 : 0.838\n",
            "테스트 세트 정확도 : 0.838\n",
            "특성 중요도 : \n",
            "[1356  781  689   42  918  362  168 4234  215  235]\n"
          ]
        }
      ],
      "source": [
        "LR = lgb.LGBMRegressor(n_estimators=300, random_state=42).fit(x_train, y_train)\n",
        "pred = LR.predict(x_test)\n",
        "\n",
        "print(\"훈련 세트 정확도 : {:.3f}\".format(LR.score(x_train,y_train)))\n",
        "\n",
        "print(\"테스트 세트 정확도 : {:.3f}\".format(LR.score(x_test,y_test)))\n",
        "\n",
        "print(\"특성 중요도 : \\n{}\".format(LR.feature_importances_))"
      ]
    },
    {
      "cell_type": "markdown",
      "id": "dc193e8c",
      "metadata": {
        "id": "dc193e8c"
      },
      "source": [
        "### Feature Importance"
      ]
    },
    {
      "cell_type": "code",
      "execution_count": null,
      "id": "138b892d",
      "metadata": {
        "id": "138b892d",
        "outputId": "c5b7c205-68a6-4e29-c451-b8514ad5a740"
      },
      "outputs": [
        {
          "data": {
            "text/plain": [
              "<Figure size 1440x720 with 0 Axes>"
            ]
          },
          "execution_count": 31,
          "metadata": {},
          "output_type": "execute_result"
        },
        {
          "data": {
            "text/plain": [
              "<AxesSubplot:xlabel='target', ylabel='Feature'>"
            ]
          },
          "execution_count": 31,
          "metadata": {},
          "output_type": "execute_result"
        },
        {
          "data": {
            "text/plain": [
              "Text(0.5, 1.0, 'LightGBM Features (avg over folds)')"
            ]
          },
          "execution_count": 31,
          "metadata": {},
          "output_type": "execute_result"
        },
        {
          "data": {
            "image/png": "[encoded data removed]",
            "text/plain": [
              "<Figure size 1440x720 with 1 Axes>"
            ]
          },
          "metadata": {
            "needs_background": "light"
          },
          "output_type": "display_data"
        },
        {
          "data": {
            "text/plain": [
              "<Figure size 432x288 with 0 Axes>"
            ]
          },
          "metadata": {},
          "output_type": "display_data"
        }
      ],
      "source": [
        "import matplotlib.pyplot as plt\n",
        "import seaborn as sns\n",
        "import warnings\n",
        "warnings.simplefilter(action='ignore', category=FutureWarning)\n",
        "\n",
        "# sorted(zip(clf.feature_importances_, X.columns), reverse=True)\n",
        "feature_imp = pd.DataFrame(sorted(zip(LR.feature_importances_,x_train.columns)), columns=['target','Feature'])\n",
        "\n",
        "plt.figure(figsize=(20, 10))\n",
        "sns.barplot(x=\"target\", y=\"Feature\", data=feature_imp.sort_values(by='target', ascending=False))\n",
        "plt.title('LightGBM Features (avg over folds)')\n",
        "plt.tight_layout()\n",
        "plt.show()\n",
        "plt.savefig('lgbm_importances-01.png')"
      ]
    },
    {
      "cell_type": "code",
      "execution_count": null,
      "id": "82057230",
      "metadata": {
        "scrolled": true,
        "id": "82057230",
        "outputId": "404d063c-3c9b-4498-9366-ef7db2730b20"
      },
      "outputs": [
        {
          "data": {
            "text/plain": [
              "4.746064311708223"
            ]
          },
          "execution_count": 52,
          "metadata": {},
          "output_type": "execute_result"
        }
      ],
      "source": [
        "mean_absolute_error(y_test, pred)"
      ]
    },
    {
      "cell_type": "markdown",
      "id": "f6f2e0b0",
      "metadata": {
        "id": "f6f2e0b0"
      },
      "source": [
        "# Deep-learning"
      ]
    },
    {
      "cell_type": "code",
      "execution_count": null,
      "id": "01c2c737",
      "metadata": {
        "id": "01c2c737"
      },
      "outputs": [],
      "source": [
        "from keras import models\n",
        "from keras.layers import Dense\n",
        "from tensorflow.keras.utils import plot_model\n",
        "\n",
        "def build_model():\n",
        "    model = keras.Sequential([\n",
        "        Dense(64, input_shape=(13,), activation=\"relu\"), # 입력은 13\n",
        "        Dense(64, activation=\"relu\"),\n",
        "        Dense(1) # 출력은 확률값 하나만!\n",
        "    ])\n",
        "    model.compile(optimizer=\"rmsprop\", loss=\"mse\", metrics=\"mae\")\n",
        "    return model\n",
        "\n",
        "model=build_model()\n",
        "plot_model(model, show_shapes=True, show_layer_activations=True)"
      ]
    },
    {
      "cell_type": "markdown",
      "id": "25be1aad",
      "metadata": {
        "id": "25be1aad"
      },
      "source": [
        "# submission"
      ]
    },
    {
      "cell_type": "code",
      "execution_count": null,
      "id": "6d066fc6",
      "metadata": {
        "id": "6d066fc6"
      },
      "outputs": [],
      "source": [
        "sample_submission = pd.read_csv('./sample_submission.csv')"
      ]
    },
    {
      "cell_type": "code",
      "execution_count": null,
      "id": "51212d5d",
      "metadata": {
        "id": "51212d5d"
      },
      "outputs": [],
      "source": [
        "pred = LR.predict(d_test)"
      ]
    },
    {
      "cell_type": "code",
      "execution_count": null,
      "id": "ab09788b",
      "metadata": {
        "id": "ab09788b",
        "outputId": "8b6db364-8169-471a-d7f0-2cb036c1bbcb"
      },
      "outputs": [
        {
          "data": {
            "text/html": [
              "<div>\n",
              "<style scoped>\n",
              "    .dataframe tbody tr th:only-of-type {\n",
              "        vertical-align: middle;\n",
              "    }\n",
              "\n",
              "    .dataframe tbody tr th {\n",
              "        vertical-align: top;\n",
              "    }\n",
              "\n",
              "    .dataframe thead th {\n",
              "        text-align: right;\n",
              "    }\n",
              "</style>\n",
              "<table border=\"1\" class=\"dataframe\">\n",
              "  <thead>\n",
              "    <tr style=\"text-align: right;\">\n",
              "      <th></th>\n",
              "      <th>id</th>\n",
              "      <th>target</th>\n",
              "    </tr>\n",
              "  </thead>\n",
              "  <tbody>\n",
              "    <tr>\n",
              "      <th>0</th>\n",
              "      <td>TEST_000000</td>\n",
              "      <td>25.422560</td>\n",
              "    </tr>\n",
              "    <tr>\n",
              "      <th>1</th>\n",
              "      <td>TEST_000001</td>\n",
              "      <td>45.943264</td>\n",
              "    </tr>\n",
              "    <tr>\n",
              "      <th>2</th>\n",
              "      <td>TEST_000002</td>\n",
              "      <td>60.705882</td>\n",
              "    </tr>\n",
              "    <tr>\n",
              "      <th>3</th>\n",
              "      <td>TEST_000003</td>\n",
              "      <td>38.870285</td>\n",
              "    </tr>\n",
              "    <tr>\n",
              "      <th>4</th>\n",
              "      <td>TEST_000004</td>\n",
              "      <td>41.193630</td>\n",
              "    </tr>\n",
              "    <tr>\n",
              "      <th>...</th>\n",
              "      <td>...</td>\n",
              "      <td>...</td>\n",
              "    </tr>\n",
              "    <tr>\n",
              "      <th>291236</th>\n",
              "      <td>TEST_291236</td>\n",
              "      <td>47.611227</td>\n",
              "    </tr>\n",
              "    <tr>\n",
              "      <th>291237</th>\n",
              "      <td>TEST_291237</td>\n",
              "      <td>51.684429</td>\n",
              "    </tr>\n",
              "    <tr>\n",
              "      <th>291238</th>\n",
              "      <td>TEST_291238</td>\n",
              "      <td>22.066372</td>\n",
              "    </tr>\n",
              "    <tr>\n",
              "      <th>291239</th>\n",
              "      <td>TEST_291239</td>\n",
              "      <td>25.917014</td>\n",
              "    </tr>\n",
              "    <tr>\n",
              "      <th>291240</th>\n",
              "      <td>TEST_291240</td>\n",
              "      <td>45.630846</td>\n",
              "    </tr>\n",
              "  </tbody>\n",
              "</table>\n",
              "<p>291241 rows × 2 columns</p>\n",
              "</div>"
            ],
            "text/plain": [
              "                 id     target\n",
              "0       TEST_000000  25.422560\n",
              "1       TEST_000001  45.943264\n",
              "2       TEST_000002  60.705882\n",
              "3       TEST_000003  38.870285\n",
              "4       TEST_000004  41.193630\n",
              "...             ...        ...\n",
              "291236  TEST_291236  47.611227\n",
              "291237  TEST_291237  51.684429\n",
              "291238  TEST_291238  22.066372\n",
              "291239  TEST_291239  25.917014\n",
              "291240  TEST_291240  45.630846\n",
              "\n",
              "[291241 rows x 2 columns]"
            ]
          },
          "execution_count": 55,
          "metadata": {},
          "output_type": "execute_result"
        }
      ],
      "source": [
        "sample_submission['target'] = pred\n",
        "sample_submission.to_csv(\"./submit.csv\", index = False)\n",
        "sample_submission"
      ]
    }
  ],
  "metadata": {
    "kernelspec": {
      "display_name": "Python 3 (ipykernel)",
      "language": "python",
      "name": "python3"
    },
    "language_info": {
      "codemirror_mode": {
        "name": "ipython",
        "version": 3
      },
      "file_extension": ".py",
      "mimetype": "text/x-python",
      "name": "python",
      "nbconvert_exporter": "python",
      "pygments_lexer": "ipython3",
      "version": "3.9.7"
    },
    "toc": {
      "base_numbering": 1,
      "nav_menu": {},
      "number_sections": true,
      "sideBar": true,
      "skip_h1_title": false,
      "title_cell": "Table of Contents",
      "title_sidebar": "Contents",
      "toc_cell": false,
      "toc_position": {
        "height": "calc(100% - 180px)",
        "left": "10px",
        "top": "150px",
        "width": "165px"
      },
      "toc_section_display": true,
      "toc_window_display": true
    },
    "varInspector": {
      "cols": {
        "lenName": 16,
        "lenType": 16,
        "lenVar": 40
      },
      "kernels_config": {
        "python": {
          "delete_cmd_postfix": "",
          "delete_cmd_prefix": "del ",
          "library": "var_list.py",
          "varRefreshCmd": "print(var_dic_list())"
        },
        "r": {
          "delete_cmd_postfix": ") ",
          "delete_cmd_prefix": "rm(",
          "library": "var_list.r",
          "varRefreshCmd": "cat(var_dic_list()) "
        }
      },
      "types_to_exclude": [
        "module",
        "function",
        "builtin_function_or_method",
        "instance",
        "_Feature"
      ],
      "window_display": false
    },
    "colab": {
      "provenance": [],
      "include_colab_link": true
    }
  },
  "nbformat": 4,
  "nbformat_minor": 5
}