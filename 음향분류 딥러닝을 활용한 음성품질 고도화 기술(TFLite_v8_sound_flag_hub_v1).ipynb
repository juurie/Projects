{
  "cells": [
    {
      "cell_type": "markdown",
      "metadata": {
        "id": "view-in-github",
        "colab_type": "text"
      },
      "source": [
        "<a href=\"https://colab.research.google.com/github/juurie/Projects/blob/main/%EC%9D%8C%ED%96%A5%EB%B6%84%EB%A5%98%20%EB%94%A5%EB%9F%AC%EB%8B%9D%EC%9D%84%20%ED%99%9C%EC%9A%A9%ED%95%9C%20%EC%9D%8C%EC%84%B1%ED%92%88%EC%A7%88%20%EA%B3%A0%EB%8F%84%ED%99%94%20%EA%B8%B0%EC%88%A0(TFLite_v8_sound_flag_hub_v1).ipynb\" target=\"_parent\"><img src=\"https://colab.research.google.com/assets/colab-badge.svg\" alt=\"Open In Colab\"/></a>"
      ]
    },
    {
      "cell_type": "code",
      "execution_count": null,
      "metadata": {
        "id": "YDfSb32Ajr1w",
        "colab": {
          "base_uri": "https://localhost:8080/"
        },
        "outputId": "896047e7-ffce-4643-9bba-9fc5b1189492"
      },
      "outputs": [
        {
          "output_type": "stream",
          "name": "stdout",
          "text": [
            "Drive already mounted at /content/gdrive/; to attempt to forcibly remount, call drive.mount(\"/content/gdrive/\", force_remount=True).\n"
          ]
        }
      ],
      "source": [
        "flag_colab = 1\n",
        "flag_hub = 0\n",
        "if flag_colab == 1:\n",
        "    from google.colab import drive\n",
        "    drive.mount('/content/gdrive/')\n",
        "    path_root = '/content/gdrive/MyDrive/proj/dataset_img'\n",
        "    \n",
        "    # !pip install h5py==2.10.0\n",
        "    # !pip install tensorflow_hub\n",
        "else:\n",
        "    path_root = 'c:/proj/soundsep/dataset_img_224'"
      ]
    },
    {
      "cell_type": "code",
      "execution_count": null,
      "metadata": {
        "id": "OGNpmn43C0O6"
      },
      "outputs": [],
      "source": [
        "from __future__ import absolute_import, division, print_function, unicode_literals\n",
        "import os\n",
        "import matplotlib.pylab as plt\n",
        "import tensorflow as tf\n",
        "import tensorflow_hub as hub\n",
        "from tensorflow.keras.utils import to_categorical\n",
        "import numpy as np\n",
        "import pandas as pd"
      ]
    },
    {
      "cell_type": "code",
      "execution_count": null,
      "metadata": {
        "colab": {
          "base_uri": "https://localhost:8080/"
        },
        "id": "H0j5p4zf0S2i",
        "outputId": "3a5c9d1f-7e10-47aa-e69e-3656ef2c46cb"
      },
      "outputs": [
        {
          "output_type": "stream",
          "name": "stdout",
          "text": [
            "Version:  2.9.2\n",
            "Eager mode:  True\n",
            "GPU is available\n"
          ]
        }
      ],
      "source": [
        "print(\"Version: \", tf.__version__)\n",
        "#print(\"Hub version: \", hub.__version__)\n",
        "print(\"Eager mode: \", tf.executing_eagerly())\n",
        "print(\"GPU is\", \"available\" if tf.test.is_gpu_available() else \"NOT AVAILABLE\")"
      ]
    },
    {
      "cell_type": "markdown",
      "metadata": {
        "id": "Z93vvAdGxDMD"
      },
      "source": [
        "### Dataset preparation"
      ]
    },
    {
      "cell_type": "code",
      "execution_count": null,
      "metadata": {
        "id": "W4lDPkn2cpWZ",
        "scrolled": true
      },
      "outputs": [],
      "source": [
        "# Learn more about data batches\n",
        "#Image batch shape:  (32, 224, 224, 3)\n",
        "#Label batch shape:  (32, 5)"
      ]
    },
    {
      "cell_type": "code",
      "execution_count": null,
      "metadata": {
        "colab": {
          "base_uri": "https://localhost:8080/"
        },
        "id": "EzIvLnUWxhxS",
        "outputId": "31f88e4f-8f2d-4d5c-d4a2-54fbf70d7f9c"
      },
      "outputs": [
        {
          "output_type": "stream",
          "name": "stdout",
          "text": [
            "folder_list ['white_noise', 'howling', 'car_noise', 'babbling', 'voice']\n",
            "num_classes 5\n"
          ]
        }
      ],
      "source": [
        "folder_list = os.listdir(path_root)\n",
        "print('folder_list',folder_list)\n",
        "num_classes = len(folder_list)\n",
        "print('num_classes', num_classes)"
      ]
    },
    {
      "cell_type": "code",
      "execution_count": null,
      "metadata": {
        "id": "mnq2vP_sOq7s"
      },
      "outputs": [],
      "source": [
        "from keras.preprocessing.image import ImageDataGenerator"
      ]
    },
    {
      "cell_type": "code",
      "execution_count": null,
      "metadata": {
        "colab": {
          "base_uri": "https://localhost:8080/"
        },
        "id": "aku7xRLPOq7s",
        "outputId": "fba85b3d-42d7-4b69-ca1f-f37551a85025"
      },
      "outputs": [
        {
          "output_type": "stream",
          "name": "stdout",
          "text": [
            "Found 806 images belonging to 5 classes.\n",
            "Found 3224 images belonging to 5 classes.\n"
          ]
        }
      ],
      "source": [
        "# Create data generator for training and validation\n",
        "\n",
        "IMAGE_SHAPE = (224, 224)\n",
        "TRAINING_DATA_DIR = str(path_root)\n",
        "\n",
        "datagen_kwargs = dict(rescale=1./255, validation_split=.20)\n",
        "\n",
        "valid_datagen = tf.keras.preprocessing.image.ImageDataGenerator(**datagen_kwargs)\n",
        "valid_generator = valid_datagen.flow_from_directory(\n",
        "    TRAINING_DATA_DIR, \n",
        "    subset=\"validation\", \n",
        "    shuffle=True,\n",
        "    target_size=IMAGE_SHAPE\n",
        ")\n",
        "\n",
        "train_datagen = tf.keras.preprocessing.image.ImageDataGenerator(**datagen_kwargs)\n",
        "train_generator = train_datagen.flow_from_directory(\n",
        "    TRAINING_DATA_DIR, \n",
        "    subset=\"training\", \n",
        "    shuffle=True,\n",
        "    target_size=IMAGE_SHAPE)"
      ]
    },
    {
      "cell_type": "code",
      "execution_count": null,
      "metadata": {
        "colab": {
          "base_uri": "https://localhost:8080/"
        },
        "id": "Hxpk8YqbOq7t",
        "outputId": "ca767249-5131-4dda-d26c-4e32995509c4"
      },
      "outputs": [
        {
          "output_type": "stream",
          "name": "stdout",
          "text": [
            "Image batch shape:  (32, 224, 224, 3)\n",
            "Label batch shape:  (32, 5)\n"
          ]
        }
      ],
      "source": [
        "# Learn more about data batches\n",
        "\n",
        "image_batch_train, label_batch_train = next(iter(train_generator))\n",
        "print(\"Image batch shape: \", image_batch_train.shape)\n",
        "print(\"Label batch shape: \", label_batch_train.shape)"
      ]
    },
    {
      "cell_type": "code",
      "execution_count": null,
      "metadata": {
        "colab": {
          "base_uri": "https://localhost:8080/"
        },
        "id": "2yyqon14Oq7t",
        "outputId": "f574762f-72f8-41ea-eb5b-9a673fd2d81d"
      },
      "outputs": [
        {
          "output_type": "stream",
          "name": "stdout",
          "text": [
            "['Babbling' 'Car_Noise' 'Howling' 'Voice' 'White_Noise']\n"
          ]
        }
      ],
      "source": [
        "# Learn about dataset labels\n",
        "\n",
        "dataset_labels = sorted(train_generator.class_indices.items(), key=lambda pair:pair[1])\n",
        "dataset_labels = np.array([key.title() for key, value in dataset_labels])\n",
        "print(dataset_labels)"
      ]
    },
    {
      "cell_type": "code",
      "execution_count": null,
      "metadata": {
        "colab": {
          "base_uri": "https://localhost:8080/"
        },
        "id": "yuNDRJpq7DJ8",
        "outputId": "c4c6f912-d66d-40e0-8caa-c8b186d99290"
      },
      "outputs": [
        {
          "output_type": "stream",
          "name": "stdout",
          "text": [
            "Validation batch shape: (32, 224, 224, 3)\n"
          ]
        }
      ],
      "source": [
        "# Get images and labels batch from validation dataset generator\n",
        "\n",
        "val_image_batch, val_label_batch = next(iter(valid_generator))\n",
        "true_label_ids = np.argmax(val_label_batch, axis=-1)\n",
        "\n",
        "print(\"Validation batch shape:\", val_image_batch.shape)"
      ]
    },
    {
      "cell_type": "markdown",
      "metadata": {
        "id": "RPVeouTksO9q",
        "tags": []
      },
      "source": [
        "### Model architecture, training\n",
        "\n",
        "As a base model for transfer learning, we'll use MobileNet v2 model stored on TensorFlow Hub. Presented model can be used only in TensorFlow 2.0 implementation (TF Hub contains also models for TensorFlow 1.x).\n",
        "\n",
        "Basic information about feature vector:\n",
        "- Input shape: 224x224x3 (224x224 pixels, 3 chanels each, RGB format),\n",
        "- Each channel has value in range [0, 1],\n",
        "- Feature vector output shape: 1280 (number of labels classified by MobileNet is 1001 - this info isn't important here)\n",
        "\n",
        "For more details check feature vector page:\n",
        "https://tfhub.dev/google/imagenet/mobilenet_v2_100_224/feature_vector/4"
      ]
    },
    {
      "cell_type": "code",
      "execution_count": null,
      "metadata": {
        "id": "Z__9PLMhxhxV",
        "colab": {
          "base_uri": "https://localhost:8080/"
        },
        "outputId": "27657024-840a-4000-ffe2-c0864db89a70"
      },
      "outputs": [
        {
          "output_type": "stream",
          "name": "stdout",
          "text": [
            "Downloading data from https://storage.googleapis.com/tensorflow/keras-applications/mobilenet_v2/mobilenet_v2_weights_tf_dim_ordering_tf_kernels_0.35_224_no_top.h5\n",
            "2019640/2019640 [==============================] - 0s 0us/step\n"
          ]
        }
      ],
      "source": [
        "if flag_hub == 1:\n",
        "    base_model = hub.KerasLayer(\"https://tfhub.dev/google/imagenet/mobilenet_v2_100_224/feature_vector/4\", \n",
        "                 output_shape=[1280],\n",
        "                 trainable=False)\n",
        "else:    \n",
        "    from tensorflow.keras.applications.mobilenet_v2 import MobileNetV2\n",
        "    base_model = MobileNetV2(\n",
        "        input_shape=(224, 224, 3),\n",
        "        alpha=0.35,\n",
        "        include_top=False,\n",
        "        weights='imagenet',\n",
        "        input_tensor=None,\n",
        "        pooling=None,\n",
        "        classes=num_classes,\n",
        "        classifier_activation='softmax'\n",
        "    )\n",
        "    base_model.trainable = False\n"
      ]
    },
    {
      "cell_type": "code",
      "execution_count": null,
      "metadata": {
        "id": "yEIKKHDUqyom"
      },
      "outputs": [],
      "source": [
        "rate_dropout = 0.2"
      ]
    },
    {
      "cell_type": "code",
      "execution_count": null,
      "metadata": {
        "id": "jjvjUNg2jr15"
      },
      "outputs": [],
      "source": [
        "model = tf.keras.Sequential()\n",
        "model.add(base_model)\n",
        "\n",
        "if flag_hub == 0:\n",
        "    model.add(tf.keras.layers.GlobalAveragePooling2D())\n",
        "    \n",
        "model.add(tf.keras.layers.Dropout(rate_dropout))\n",
        "\n",
        "model.add(tf.keras.layers.Dense(360, activation='relu'))\n",
        "model.add(tf.keras.layers.Dropout(rate_dropout))\n",
        "model.add(tf.keras.layers.Dense(180, activation='relu'))\n",
        "model.add(tf.keras.layers.Dropout(rate_dropout))\n",
        "model.add(tf.keras.layers.Dense(30, activation='relu'))\n",
        "model.add(tf.keras.layers.Dropout(rate_dropout))\n",
        "\n",
        "model.add(tf.keras.layers.Dense(num_classes, activation='softmax'))\n"
      ]
    },
    {
      "cell_type": "code",
      "execution_count": null,
      "metadata": {
        "id": "Yz75UwZgjr16"
      },
      "outputs": [],
      "source": [
        "model.compile(loss='categorical_crossentropy', optimizer='adam', metrics=['accuracy'])"
      ]
    },
    {
      "cell_type": "code",
      "execution_count": null,
      "metadata": {
        "id": "ixs4cT3xjr16",
        "outputId": "04ad8e27-f309-4a54-8b01-13a8b245e78e",
        "colab": {
          "base_uri": "https://localhost:8080/"
        }
      },
      "outputs": [
        {
          "output_type": "stream",
          "name": "stdout",
          "text": [
            "Epoch 1/10\n",
            "10/10 [==============================] - 131s 13s/step - loss: 1.5758 - accuracy: 0.3406 - val_loss: 1.2219 - val_accuracy: 0.5219\n",
            "Epoch 2/10\n",
            "10/10 [==============================] - 93s 10s/step - loss: 1.2037 - accuracy: 0.4875 - val_loss: 1.0199 - val_accuracy: 0.5312\n",
            "Epoch 3/10\n",
            "10/10 [==============================] - 76s 8s/step - loss: 1.0139 - accuracy: 0.5688 - val_loss: 1.0067 - val_accuracy: 0.6281\n",
            "Epoch 4/10\n",
            "10/10 [==============================] - 60s 6s/step - loss: 0.9089 - accuracy: 0.6125 - val_loss: 0.9078 - val_accuracy: 0.5656\n",
            "Epoch 5/10\n",
            "10/10 [==============================] - 43s 4s/step - loss: 0.9005 - accuracy: 0.6218 - val_loss: 0.8370 - val_accuracy: 0.6656\n",
            "Epoch 6/10\n",
            "10/10 [==============================] - 39s 4s/step - loss: 0.7207 - accuracy: 0.7219 - val_loss: 0.7649 - val_accuracy: 0.6938\n",
            "Epoch 7/10\n",
            "10/10 [==============================] - 35s 3s/step - loss: 0.7015 - accuracy: 0.7000 - val_loss: 0.8252 - val_accuracy: 0.7188\n",
            "Epoch 8/10\n",
            "10/10 [==============================] - 33s 3s/step - loss: 0.6171 - accuracy: 0.7500 - val_loss: 0.9017 - val_accuracy: 0.6812\n",
            "Epoch 9/10\n",
            "10/10 [==============================] - 27s 3s/step - loss: 0.6937 - accuracy: 0.7063 - val_loss: 0.7265 - val_accuracy: 0.7781\n",
            "Epoch 10/10\n",
            "10/10 [==============================] - 21s 2s/step - loss: 0.6505 - accuracy: 0.7375 - val_loss: 0.6968 - val_accuracy: 0.7937\n"
          ]
        },
        {
          "output_type": "execute_result",
          "data": {
            "text/plain": [
              "<keras.callbacks.History at 0x7fcce60d7b90>"
            ]
          },
          "metadata": {},
          "execution_count": 19
        }
      ],
      "source": [
        "model.fit(\n",
        "        train_generator,\n",
        "        steps_per_epoch=10,\n",
        "        epochs=10,\n",
        "        validation_data=valid_generator,\n",
        "        validation_steps=10)"
      ]
    },
    {
      "cell_type": "markdown",
      "metadata": {
        "id": "3n0Wb9ylKd8R"
      },
      "source": [
        "model.compile(\n",
        "  optimizer=tf.keras.optimizers.Adam(),\n",
        "  loss='categorical_crossentropy',\n",
        "  metrics=['acc'])"
      ]
    },
    {
      "cell_type": "code",
      "source": [
        "model.compile(\n",
        "  optimizer=tf.keras.optimizers.Adam(),\n",
        "  loss='categorical_crossentropy',\n",
        "  metrics=['acc'])"
      ],
      "metadata": {
        "id": "m9PL1very7P8"
      },
      "execution_count": null,
      "outputs": []
    },
    {
      "cell_type": "markdown",
      "metadata": {
        "id": "EyMDJxt2HdHr",
        "outputId": "c0254624-b1f9-4b72-a1df-053a923c6086"
      },
      "source": [
        "# Run model training\n",
        "\n",
        "hist = model.fit(feature_train, label_train, validation_split = 0.3, epochs=20, verbose=1).history"
      ]
    },
    {
      "cell_type": "code",
      "source": [
        "import cv2\n",
        "import matplotlib.pyplot as plt\n",
        "from sklearn.preprocessing import StandardScaler"
      ],
      "metadata": {
        "id": "SpOZNNBwma7_"
      },
      "execution_count": null,
      "outputs": []
    },
    {
      "cell_type": "code",
      "source": [
        "image_w = 224\n",
        "image_h = 224\n",
        "data_feature = []\n",
        "data_label = []\n",
        "idx_plot = 0\n",
        "for index in range(len(folder_list)):\n",
        "    path_file = os.path.join(path_root, folder_list[index])\n",
        "    \n",
        "    img_list = os.listdir(path_file)\n",
        "    for img in img_list:\n",
        "        \n",
        "        img_path = os.path.join(path_file, img)\n",
        "        '''img = cv2.cv2.imread(img_path, cv2.IMREAD_COLOR)'''\n",
        "        img = cv2.imread(img_path) #, cv2.IMREAD_GRAYSCALE)\n",
        "        img = cv2.resize(img, None, fx=image_w/img.shape[1], fy=image_h/img.shape[0])\n",
        "        # 1) standardize or\n",
        "        img = tf.image.per_image_standardization(img)\n",
        "        data_feature.append(img)\n",
        "        # 2) standardize \n",
        "        data_label.append(index)\n",
        "        "
      ],
      "metadata": {
        "id": "PSwnLXxMmYU4"
      },
      "execution_count": null,
      "outputs": []
    },
    {
      "cell_type": "code",
      "source": [
        "num_color = 3\n",
        "data_feature = tf.reshape(data_feature, [-1, image_w, image_h, num_color]) \n",
        "print('np.shape(data_feature)', np.shape(data_feature))"
      ],
      "metadata": {
        "id": "WYHqT0SjmHbT",
        "colab": {
          "base_uri": "https://localhost:8080/"
        },
        "outputId": "0224b891-f018-4cd2-9163-64a8f5ba438c"
      },
      "execution_count": null,
      "outputs": [
        {
          "output_type": "stream",
          "name": "stdout",
          "text": [
            "np.shape(data_feature) (4030, 224, 224, 3)\n"
          ]
        }
      ]
    },
    {
      "cell_type": "code",
      "source": [
        "data_label = to_categorical(data_label, num_classes)"
      ],
      "metadata": {
        "id": "04V9gKgwmHXD"
      },
      "execution_count": null,
      "outputs": []
    },
    {
      "cell_type": "code",
      "source": [
        "data_feature = np.array(data_feature)\n",
        "data_label = np.array(data_label)"
      ],
      "metadata": {
        "id": "XLqFtRFtmHQh"
      },
      "execution_count": null,
      "outputs": []
    },
    {
      "cell_type": "code",
      "source": [
        "from sklearn.model_selection import train_test_split\n",
        "feature_train, feature_test, label_train, label_test = train_test_split(data_feature,data_label)\n",
        "print('label_train',label_train)"
      ],
      "metadata": {
        "id": "7rtIrxUpmHDx",
        "colab": {
          "base_uri": "https://localhost:8080/"
        },
        "outputId": "57d76eb9-fea8-4e36-f074-dbc35a49c5cb"
      },
      "execution_count": null,
      "outputs": [
        {
          "output_type": "stream",
          "name": "stdout",
          "text": [
            "label_train [[0. 0. 0. 1. 0.]\n",
            " [0. 1. 0. 0. 0.]\n",
            " [1. 0. 0. 0. 0.]\n",
            " ...\n",
            " [1. 0. 0. 0. 0.]\n",
            " [0. 0. 0. 0. 1.]\n",
            " [0. 0. 0. 1. 0.]]\n"
          ]
        }
      ]
    },
    {
      "cell_type": "code",
      "source": [
        "hist = model.fit(feature_train, label_train, validation_split = 0.3, epochs=20, verbose=1).history"
      ],
      "metadata": {
        "id": "HYPQX8kmmuXB",
        "colab": {
          "base_uri": "https://localhost:8080/"
        },
        "outputId": "96f2749a-1de4-473a-9bb5-dd8eb1baeb90"
      },
      "execution_count": null,
      "outputs": [
        {
          "output_type": "stream",
          "name": "stdout",
          "text": [
            "Epoch 1/20\n",
            "67/67 [==============================] - 7s 64ms/step - loss: 1.2556 - acc: 0.5305 - val_loss: 0.6798 - val_acc: 0.6957\n",
            "Epoch 2/20\n",
            "67/67 [==============================] - 3s 38ms/step - loss: 0.6278 - acc: 0.7584 - val_loss: 0.3517 - val_acc: 0.9107\n",
            "Epoch 3/20\n",
            "67/67 [==============================] - 3s 38ms/step - loss: 0.4083 - acc: 0.8511 - val_loss: 0.2570 - val_acc: 0.9184\n",
            "Epoch 4/20\n",
            "67/67 [==============================] - 2s 37ms/step - loss: 0.3469 - acc: 0.8785 - val_loss: 0.2718 - val_acc: 0.9052\n",
            "Epoch 5/20\n",
            "67/67 [==============================] - 3s 37ms/step - loss: 0.2874 - acc: 0.9035 - val_loss: 0.1735 - val_acc: 0.9394\n",
            "Epoch 6/20\n",
            "67/67 [==============================] - 2s 37ms/step - loss: 0.2269 - acc: 0.9229 - val_loss: 0.1645 - val_acc: 0.9272\n",
            "Epoch 7/20\n",
            "67/67 [==============================] - 2s 37ms/step - loss: 0.1973 - acc: 0.9338 - val_loss: 0.1901 - val_acc: 0.9361\n",
            "Epoch 8/20\n",
            "67/67 [==============================] - 2s 37ms/step - loss: 0.2163 - acc: 0.9248 - val_loss: 0.1298 - val_acc: 0.9537\n",
            "Epoch 9/20\n",
            "67/67 [==============================] - 2s 37ms/step - loss: 0.1946 - acc: 0.9272 - val_loss: 0.1577 - val_acc: 0.9416\n",
            "Epoch 10/20\n",
            "67/67 [==============================] - 2s 37ms/step - loss: 0.1991 - acc: 0.9281 - val_loss: 0.1417 - val_acc: 0.9471\n",
            "Epoch 11/20\n",
            "67/67 [==============================] - 3s 38ms/step - loss: 0.1719 - acc: 0.9470 - val_loss: 0.1203 - val_acc: 0.9647\n",
            "Epoch 12/20\n",
            "67/67 [==============================] - 3s 38ms/step - loss: 0.1701 - acc: 0.9404 - val_loss: 0.1088 - val_acc: 0.9581\n",
            "Epoch 13/20\n",
            "67/67 [==============================] - 3s 38ms/step - loss: 0.1652 - acc: 0.9404 - val_loss: 0.1086 - val_acc: 0.9581\n",
            "Epoch 14/20\n",
            "67/67 [==============================] - 2s 37ms/step - loss: 0.1588 - acc: 0.9494 - val_loss: 0.1351 - val_acc: 0.9504\n",
            "Epoch 15/20\n",
            "67/67 [==============================] - 3s 37ms/step - loss: 0.1504 - acc: 0.9456 - val_loss: 0.1227 - val_acc: 0.9548\n",
            "Epoch 16/20\n",
            "67/67 [==============================] - 3s 37ms/step - loss: 0.1340 - acc: 0.9508 - val_loss: 0.1601 - val_acc: 0.9372\n",
            "Epoch 17/20\n",
            "67/67 [==============================] - 2s 37ms/step - loss: 0.1738 - acc: 0.9423 - val_loss: 0.0931 - val_acc: 0.9680\n",
            "Epoch 18/20\n",
            "67/67 [==============================] - 2s 37ms/step - loss: 0.1364 - acc: 0.9518 - val_loss: 0.1227 - val_acc: 0.9548\n",
            "Epoch 19/20\n",
            "67/67 [==============================] - 2s 37ms/step - loss: 0.1262 - acc: 0.9522 - val_loss: 0.1033 - val_acc: 0.9559\n",
            "Epoch 20/20\n",
            "67/67 [==============================] - 2s 37ms/step - loss: 0.1206 - acc: 0.9551 - val_loss: 0.1231 - val_acc: 0.9548\n"
          ]
        }
      ]
    },
    {
      "cell_type": "code",
      "execution_count": null,
      "metadata": {
        "id": "j93MXHpYFrT_",
        "colab": {
          "base_uri": "https://localhost:8080/",
          "height": 568
        },
        "outputId": "764a271a-99b6-441e-ac44-3976b83efb87"
      },
      "outputs": [
        {
          "output_type": "execute_result",
          "data": {
            "text/plain": [
              "[<matplotlib.lines.Line2D at 0x7fcccffb9950>]"
            ]
          },
          "metadata": {},
          "execution_count": 28
        },
        {
          "output_type": "display_data",
          "data": {
            "text/plain": [
              "<Figure size 432x288 with 1 Axes>"
            ],
            "image/png": "[encoded data removed]"
          },
          "metadata": {
            "needs_background": "light"
          }
        },
        {
          "output_type": "display_data",
          "data": {
            "text/plain": [
              "<Figure size 432x288 with 1 Axes>"
            ],
            "image/png": "[encoded data removed]"
          },
          "metadata": {
            "needs_background": "light"
          }
        }
      ],
      "source": [
        "# Visualize training process\n",
        "\n",
        "plt.figure()\n",
        "plt.ylabel(\"Loss (training and validation)\")\n",
        "plt.xlabel(\"Training Steps\")\n",
        "plt.ylim([0,2])\n",
        "plt.plot(hist[\"loss\"])\n",
        "plt.plot(hist[\"val_loss\"])\n",
        "\n",
        "plt.figure()\n",
        "plt.ylabel(\"Accuracy (training and validation)\")\n",
        "plt.xlabel(\"Training Steps\")\n",
        "plt.ylim([0,1])\n",
        "plt.plot(hist[\"acc\"])\n",
        "plt.plot(hist[\"val_acc\"])"
      ]
    },
    {
      "cell_type": "markdown",
      "metadata": {
        "id": "GlfrTTAUEIZ1",
        "outputId": "8c9a025d-e820-417f-eb63-7d118556db76"
      },
      "source": [
        "# Measure accuracy and loss after training\n",
        "\n",
        "final_loss, final_accuracy = model.evaluate(feature_test, label_test)"
      ]
    },
    {
      "cell_type": "code",
      "source": [
        "final_loss, final_accuracy = model.evaluate(feature_test, label_test)"
      ],
      "metadata": {
        "colab": {
          "base_uri": "https://localhost:8080/"
        },
        "id": "NTUCxPGd2pug",
        "outputId": "df614d68-5a2e-40ab-e4f2-1e7b6cc668d5"
      },
      "execution_count": null,
      "outputs": [
        {
          "output_type": "stream",
          "name": "stdout",
          "text": [
            "32/32 [==============================] - 1s 33ms/step - loss: 0.1215 - acc: 0.9603\n"
          ]
        }
      ]
    },
    {
      "cell_type": "markdown",
      "metadata": {
        "id": "_PnHZJ34BPNA",
        "outputId": "204dcd8f-ee8c-43f7-c481-9831f18adb13"
      },
      "source": [
        "#print(feature_test)\n",
        "print(np.unique(feature_test))"
      ]
    },
    {
      "cell_type": "markdown",
      "metadata": {
        "id": "KjXjDq3568C7",
        "outputId": "111789ec-60fb-497d-a9b7-83db8405e75f"
      },
      "source": [
        "print(\"Final loss: {:.2f}\".format(final_loss))\n",
        "print(\"Final accuracy: {:.2f}%\".format(final_accuracy * 100))"
      ]
    },
    {
      "cell_type": "code",
      "source": [
        "print(\"Final loss: {:.2f}\".format(final_loss))\n",
        "print(\"Final accuracy: {:.2f}%\".format(final_accuracy * 100))"
      ],
      "metadata": {
        "colab": {
          "base_uri": "https://localhost:8080/"
        },
        "id": "i4tdccMK2sEC",
        "outputId": "a2d985e8-0285-4f73-b1d1-384f378f66f2"
      },
      "execution_count": null,
      "outputs": [
        {
          "output_type": "stream",
          "name": "stdout",
          "text": [
            "Final loss: 0.12\n",
            "Final accuracy: 96.03%\n"
          ]
        }
      ]
    },
    {
      "cell_type": "code",
      "source": [
        "final_loss, final_accuracy = model.evaluate(feature_test, label_test)"
      ],
      "metadata": {
        "id": "3QBgQoqwnIG6"
      },
      "execution_count": null,
      "outputs": []
    },
    {
      "cell_type": "code",
      "source": [],
      "metadata": {
        "id": "9XKC4_BMnHq3"
      },
      "execution_count": null,
      "outputs": []
    },
    {
      "cell_type": "code",
      "execution_count": null,
      "metadata": {
        "id": "pdQ5T3kcT7H2",
        "tags": [],
        "colab": {
          "base_uri": "https://localhost:8080/"
        },
        "outputId": "542a07fa-bf2a-410d-a42d-b6f6eebfd054"
      },
      "outputs": [
        {
          "output_type": "stream",
          "name": "stderr",
          "text": [
            "WARNING:absl:Function `_wrapped_model` contains input name(s) mobilenetv2_0.35_224_input with unsupported characters which will be renamed to mobilenetv2_0_35_224_input in the SavedModel.\n",
            "WARNING:absl:Found untraced functions such as _jit_compiled_convolution_op, _jit_compiled_convolution_op, _jit_compiled_convolution_op, _jit_compiled_convolution_op, _jit_compiled_convolution_op while saving (showing 5 of 52). These functions will not be directly callable after loading.\n"
          ]
        }
      ],
      "source": [
        "SOUNDSEP_SAVED_MODEL = './model'\n",
        "tf.saved_model.save(model, SOUNDSEP_SAVED_MODEL)"
      ]
    },
    {
      "cell_type": "code",
      "execution_count": null,
      "metadata": {
        "id": "lRNQlmu_Tvz9",
        "colab": {
          "base_uri": "https://localhost:8080/"
        },
        "outputId": "1f5ec660-d2d9-4a82-dd66-f6daeadd2e5c"
      },
      "outputs": [
        {
          "output_type": "stream",
          "name": "stdout",
          "text": [
            "<tensorflow.python.saved_model.load.Loader._recreate_base_user_object.<locals>._UserObject object at 0x7f5909205810>\n"
          ]
        }
      ],
      "source": [
        "# Load SavedModel\n",
        "soundsep_model = tf.saved_model.load(SOUNDSEP_SAVED_MODEL)\n",
        "\n",
        "#soundsep_model = hub.load(SOUNDSEP_SAVED_MODEL)\n",
        "print(soundsep_model)"
      ]
    },
    {
      "cell_type": "code",
      "execution_count": null,
      "metadata": {
        "id": "JzdPcH5LOq7s"
      },
      "outputs": [],
      "source": [
        "# TF Lite 특징\n",
        "\n",
        "# 모델 사이즈를 줄이기 위한 Quantization 등과 같은 모델 최적화를 위한 툴을 제공함\n",
        "# 이러한 툴들은 모델 사이즈를 줄이고, 속도를 향상시키면서 정확도의 손실은 최소화함"
      ]
    },
    {
      "cell_type": "code",
      "execution_count": null,
      "metadata": {
        "id": "7aXCXZMgjr19"
      },
      "outputs": [],
      "source": [
        "from keras.preprocessing.image import ImageDataGenerator"
      ]
    },
    {
      "cell_type": "code",
      "execution_count": null,
      "metadata": {
        "id": "8SnFIcSijr19",
        "colab": {
          "base_uri": "https://localhost:8080/"
        },
        "outputId": "c5898721-b494-486f-e068-48aa582945f9"
      },
      "outputs": [
        {
          "output_type": "stream",
          "name": "stdout",
          "text": [
            "Found 102 images belonging to 5 classes.\n",
            "Found 410 images belonging to 5 classes.\n"
          ]
        }
      ],
      "source": [
        "# Create data generator for training and validation\n",
        "\n",
        "datagen_kwargs = dict(rescale=1./255, validation_split=.20)\n",
        "\n",
        "valid_datagen = tf.keras.preprocessing.image.ImageDataGenerator(**datagen_kwargs)\n",
        "valid_generator = valid_datagen.flow_from_directory(\n",
        "    TRAINING_DATA_DIR, \n",
        "    subset=\"validation\", \n",
        "    shuffle=True,\n",
        "    target_size=IMAGE_SHAPE\n",
        ")\n",
        "\n",
        "train_datagen = tf.keras.preprocessing.image.ImageDataGenerator(**datagen_kwargs)\n",
        "train_generator = train_datagen.flow_from_directory(\n",
        "    TRAINING_DATA_DIR, \n",
        "    subset=\"training\", \n",
        "    shuffle=True,\n",
        "    target_size=IMAGE_SHAPE)"
      ]
    },
    {
      "cell_type": "code",
      "execution_count": null,
      "metadata": {
        "id": "Ggm8mr91jr1-",
        "colab": {
          "base_uri": "https://localhost:8080/"
        },
        "outputId": "b08c8e31-deaf-4058-d85f-915962ec4a31"
      },
      "outputs": [
        {
          "output_type": "stream",
          "name": "stdout",
          "text": [
            "Image batch shape:  (32, 224, 224, 3)\n",
            "Label batch shape:  (32, 5)\n"
          ]
        }
      ],
      "source": [
        "# Learn more about data batches\n",
        "\n",
        "image_batch_train, label_batch_train = next(iter(train_generator))\n",
        "print(\"Image batch shape: \", image_batch_train.shape)\n",
        "print(\"Label batch shape: \", label_batch_train.shape)"
      ]
    },
    {
      "cell_type": "code",
      "execution_count": null,
      "metadata": {
        "id": "uYowfe2Ujr1-",
        "colab": {
          "base_uri": "https://localhost:8080/"
        },
        "outputId": "4c048059-aa2f-4e97-80b5-0a9bdfb7c576"
      },
      "outputs": [
        {
          "output_type": "stream",
          "name": "stdout",
          "text": [
            "['Babbling' 'Car_Noise' 'Howling' 'Voice' 'White_Noise']\n"
          ]
        }
      ],
      "source": [
        "# Learn about dataset labels\n",
        "\n",
        "dataset_labels = sorted(train_generator.class_indices.items(), key=lambda pair:pair[1])\n",
        "dataset_labels = np.array([key.title() for key, value in dataset_labels])\n",
        "print(dataset_labels)"
      ]
    },
    {
      "cell_type": "code",
      "execution_count": null,
      "metadata": {
        "id": "7IE20RM_jr1-",
        "colab": {
          "base_uri": "https://localhost:8080/"
        },
        "outputId": "3f16624c-9d79-468d-86b4-fe0daaa3a541"
      },
      "outputs": [
        {
          "output_type": "stream",
          "name": "stdout",
          "text": [
            "Validation batch shape: (32, 224, 224, 3)\n"
          ]
        }
      ],
      "source": [
        "# Get images and labels batch from validation dataset generator\n",
        "\n",
        "val_image_batch, val_label_batch = next(iter(valid_generator))\n",
        "true_label_ids = np.argmax(val_label_batch, axis=-1)\n",
        "\n",
        "print(\"Validation batch shape:\", val_image_batch.shape)"
      ]
    },
    {
      "cell_type": "code",
      "execution_count": null,
      "metadata": {
        "id": "UJiy4Ndf7Fef",
        "colab": {
          "base_uri": "https://localhost:8080/"
        },
        "outputId": "39d81b7c-2846-4d89-e50c-a00064989904"
      },
      "outputs": [
        {
          "output_type": "stream",
          "name": "stdout",
          "text": [
            "Prediction results shape: (32, 5)\n"
          ]
        }
      ],
      "source": [
        "tf_model_predictions = soundsep_model(val_image_batch)\n",
        "print(\"Prediction results shape:\", tf_model_predictions.shape)"
      ]
    },
    {
      "cell_type": "code",
      "execution_count": null,
      "metadata": {
        "id": "5xvISB1L7cHR",
        "colab": {
          "base_uri": "https://localhost:8080/",
          "height": 1000
        },
        "outputId": "278fbdf6-b555-47ef-9755-48ec0507dcd5"
      },
      "outputs": [
        {
          "output_type": "stream",
          "name": "stdout",
          "text": [
            "Prediction results for the first elements\n"
          ]
        },
        {
          "output_type": "execute_result",
          "data": {
            "text/plain": [
              "        Babbling     Car_Noise       Howling         Voice   White_Noise\n",
              "0   1.212265e-02  7.179413e-03  6.533393e-03  9.734324e-01  7.320769e-04\n",
              "1   1.209698e-02  9.876166e-01  5.396679e-05  2.174540e-04  1.504380e-05\n",
              "2   1.203937e-02  7.603034e-05  9.869733e-01  8.996647e-04  1.149354e-05\n",
              "3   3.945529e-02  4.297205e-02  4.045797e-02  8.759639e-01  1.150741e-03\n",
              "4   2.023221e-01  4.111238e-02  4.539298e-02  7.070721e-01  4.100415e-03\n",
              "5   4.554911e-08  4.532346e-11  9.943320e-08  3.067640e-07  9.999995e-01\n",
              "6   9.998234e-01  3.713609e-05  1.370854e-04  2.245645e-06  8.367952e-08\n",
              "7   1.590903e-02  1.238344e-04  9.816946e-01  2.257961e-03  1.467174e-05\n",
              "8   3.389735e-02  1.007270e-02  4.382643e-02  9.095734e-01  2.630183e-03\n",
              "9   4.187141e-05  1.792954e-06  5.262272e-06  8.121204e-05  9.998698e-01\n",
              "10  3.486960e-02  9.582525e-01  1.638161e-04  6.640264e-03  7.383766e-05\n",
              "11  6.466428e-03  3.008301e-05  9.928755e-01  6.223909e-04  5.652948e-06\n",
              "12  1.758031e-04  7.851218e-06  2.100812e-05  2.808294e-04  9.995145e-01\n",
              "13  3.078759e-03  1.520601e-05  9.963951e-01  5.082547e-04  2.715766e-06\n",
              "14  4.165973e-08  4.731232e-11  7.877300e-08  2.855096e-07  9.999996e-01\n",
              "15  2.827560e-05  6.189414e-07  5.976638e-06  3.422239e-05  9.999309e-01\n",
              "16  9.998535e-01  6.339824e-05  8.014549e-05  2.782575e-06  1.784471e-07\n",
              "17  3.265636e-03  1.499774e-05  9.961467e-01  5.697351e-04  3.019219e-06\n",
              "18  9.996098e-01  8.140987e-05  3.029175e-04  5.731449e-06  2.221631e-07\n",
              "19  6.452527e-05  1.698914e-06  8.783100e-06  1.012631e-04  9.998237e-01\n",
              "20  3.357618e-02  1.097382e-02  5.065486e-03  9.478098e-01  2.574671e-03\n",
              "21  9.997988e-01  3.883021e-05  1.609719e-04  1.312985e-06  4.097591e-08\n",
              "22  6.575114e-02  9.051219e-01  1.491069e-03  2.725177e-02  3.841548e-04\n",
              "23  9.566695e-06  9.999900e-01  5.992216e-09  4.888084e-07  1.087924e-08\n",
              "24  2.720090e-08  2.798760e-11  6.619942e-08  1.812027e-07  9.999998e-01\n",
              "25  1.878931e-02  7.106076e-03  6.704194e-03  9.642841e-01  3.116371e-03\n",
              "26  9.999020e-01  2.929622e-05  6.798862e-05  6.572931e-07  2.083954e-08\n",
              "27  7.228937e-05  9.999070e-01  6.773484e-08  2.021917e-05  4.779362e-07\n",
              "28  5.692558e-03  4.210822e-05  9.931289e-01  1.125583e-03  1.089613e-05\n",
              "29  9.998264e-01  2.840610e-05  1.444583e-04  8.023239e-07  3.502640e-08\n",
              "30  7.534923e-02  6.779166e-01  1.916973e-02  2.257986e-01  1.765706e-03\n",
              "31  1.329555e-02  7.876899e-05  9.855387e-01  1.078024e-03  8.980840e-06"
            ],
            "text/html": [
              "\n",
              "  <div id=\"df-4b4a3080-6e17-4680-a309-8db2bf1f371d\">\n",
              "    <div class=\"colab-df-container\">\n",
              "      <div>\n",
              "<style scoped>\n",
              "    .dataframe tbody tr th:only-of-type {\n",
              "        vertical-align: middle;\n",
              "    }\n",
              "\n",
              "    .dataframe tbody tr th {\n",
              "        vertical-align: top;\n",
              "    }\n",
              "\n",
              "    .dataframe thead th {\n",
              "        text-align: right;\n",
              "    }\n",
              "</style>\n",
              "<table border=\"1\" class=\"dataframe\">\n",
              "  <thead>\n",
              "    <tr style=\"text-align: right;\">\n",
              "      <th></th>\n",
              "      <th>Babbling</th>\n",
              "      <th>Car_Noise</th>\n",
              "      <th>Howling</th>\n",
              "      <th>Voice</th>\n",
              "      <th>White_Noise</th>\n",
              "    </tr>\n",
              "  </thead>\n",
              "  <tbody>\n",
              "    <tr>\n",
              "      <th>0</th>\n",
              "      <td>1.212265e-02</td>\n",
              "      <td>7.179413e-03</td>\n",
              "      <td>6.533393e-03</td>\n",
              "      <td>9.734324e-01</td>\n",
              "      <td>7.320769e-04</td>\n",
              "    </tr>\n",
              "    <tr>\n",
              "      <th>1</th>\n",
              "      <td>1.209698e-02</td>\n",
              "      <td>9.876166e-01</td>\n",
              "      <td>5.396679e-05</td>\n",
              "      <td>2.174540e-04</td>\n",
              "      <td>1.504380e-05</td>\n",
              "    </tr>\n",
              "    <tr>\n",
              "      <th>2</th>\n",
              "      <td>1.203937e-02</td>\n",
              "      <td>7.603034e-05</td>\n",
              "      <td>9.869733e-01</td>\n",
              "      <td>8.996647e-04</td>\n",
              "      <td>1.149354e-05</td>\n",
              "    </tr>\n",
              "    <tr>\n",
              "      <th>3</th>\n",
              "      <td>3.945529e-02</td>\n",
              "      <td>4.297205e-02</td>\n",
              "      <td>4.045797e-02</td>\n",
              "      <td>8.759639e-01</td>\n",
              "      <td>1.150741e-03</td>\n",
              "    </tr>\n",
              "    <tr>\n",
              "      <th>4</th>\n",
              "      <td>2.023221e-01</td>\n",
              "      <td>4.111238e-02</td>\n",
              "      <td>4.539298e-02</td>\n",
              "      <td>7.070721e-01</td>\n",
              "      <td>4.100415e-03</td>\n",
              "    </tr>\n",
              "    <tr>\n",
              "      <th>5</th>\n",
              "      <td>4.554911e-08</td>\n",
              "      <td>4.532346e-11</td>\n",
              "      <td>9.943320e-08</td>\n",
              "      <td>3.067640e-07</td>\n",
              "      <td>9.999995e-01</td>\n",
              "    </tr>\n",
              "    <tr>\n",
              "      <th>6</th>\n",
              "      <td>9.998234e-01</td>\n",
              "      <td>3.713609e-05</td>\n",
              "      <td>1.370854e-04</td>\n",
              "      <td>2.245645e-06</td>\n",
              "      <td>8.367952e-08</td>\n",
              "    </tr>\n",
              "    <tr>\n",
              "      <th>7</th>\n",
              "      <td>1.590903e-02</td>\n",
              "      <td>1.238344e-04</td>\n",
              "      <td>9.816946e-01</td>\n",
              "      <td>2.257961e-03</td>\n",
              "      <td>1.467174e-05</td>\n",
              "    </tr>\n",
              "    <tr>\n",
              "      <th>8</th>\n",
              "      <td>3.389735e-02</td>\n",
              "      <td>1.007270e-02</td>\n",
              "      <td>4.382643e-02</td>\n",
              "      <td>9.095734e-01</td>\n",
              "      <td>2.630183e-03</td>\n",
              "    </tr>\n",
              "    <tr>\n",
              "      <th>9</th>\n",
              "      <td>4.187141e-05</td>\n",
              "      <td>1.792954e-06</td>\n",
              "      <td>5.262272e-06</td>\n",
              "      <td>8.121204e-05</td>\n",
              "      <td>9.998698e-01</td>\n",
              "    </tr>\n",
              "    <tr>\n",
              "      <th>10</th>\n",
              "      <td>3.486960e-02</td>\n",
              "      <td>9.582525e-01</td>\n",
              "      <td>1.638161e-04</td>\n",
              "      <td>6.640264e-03</td>\n",
              "      <td>7.383766e-05</td>\n",
              "    </tr>\n",
              "    <tr>\n",
              "      <th>11</th>\n",
              "      <td>6.466428e-03</td>\n",
              "      <td>3.008301e-05</td>\n",
              "      <td>9.928755e-01</td>\n",
              "      <td>6.223909e-04</td>\n",
              "      <td>5.652948e-06</td>\n",
              "    </tr>\n",
              "    <tr>\n",
              "      <th>12</th>\n",
              "      <td>1.758031e-04</td>\n",
              "      <td>7.851218e-06</td>\n",
              "      <td>2.100812e-05</td>\n",
              "      <td>2.808294e-04</td>\n",
              "      <td>9.995145e-01</td>\n",
              "    </tr>\n",
              "    <tr>\n",
              "      <th>13</th>\n",
              "      <td>3.078759e-03</td>\n",
              "      <td>1.520601e-05</td>\n",
              "      <td>9.963951e-01</td>\n",
              "      <td>5.082547e-04</td>\n",
              "      <td>2.715766e-06</td>\n",
              "    </tr>\n",
              "    <tr>\n",
              "      <th>14</th>\n",
              "      <td>4.165973e-08</td>\n",
              "      <td>4.731232e-11</td>\n",
              "      <td>7.877300e-08</td>\n",
              "      <td>2.855096e-07</td>\n",
              "      <td>9.999996e-01</td>\n",
              "    </tr>\n",
              "    <tr>\n",
              "      <th>15</th>\n",
              "      <td>2.827560e-05</td>\n",
              "      <td>6.189414e-07</td>\n",
              "      <td>5.976638e-06</td>\n",
              "      <td>3.422239e-05</td>\n",
              "      <td>9.999309e-01</td>\n",
              "    </tr>\n",
              "    <tr>\n",
              "      <th>16</th>\n",
              "      <td>9.998535e-01</td>\n",
              "      <td>6.339824e-05</td>\n",
              "      <td>8.014549e-05</td>\n",
              "      <td>2.782575e-06</td>\n",
              "      <td>1.784471e-07</td>\n",
              "    </tr>\n",
              "    <tr>\n",
              "      <th>17</th>\n",
              "      <td>3.265636e-03</td>\n",
              "      <td>1.499774e-05</td>\n",
              "      <td>9.961467e-01</td>\n",
              "      <td>5.697351e-04</td>\n",
              "      <td>3.019219e-06</td>\n",
              "    </tr>\n",
              "    <tr>\n",
              "      <th>18</th>\n",
              "      <td>9.996098e-01</td>\n",
              "      <td>8.140987e-05</td>\n",
              "      <td>3.029175e-04</td>\n",
              "      <td>5.731449e-06</td>\n",
              "      <td>2.221631e-07</td>\n",
              "    </tr>\n",
              "    <tr>\n",
              "      <th>19</th>\n",
              "      <td>6.452527e-05</td>\n",
              "      <td>1.698914e-06</td>\n",
              "      <td>8.783100e-06</td>\n",
              "      <td>1.012631e-04</td>\n",
              "      <td>9.998237e-01</td>\n",
              "    </tr>\n",
              "    <tr>\n",
              "      <th>20</th>\n",
              "      <td>3.357618e-02</td>\n",
              "      <td>1.097382e-02</td>\n",
              "      <td>5.065486e-03</td>\n",
              "      <td>9.478098e-01</td>\n",
              "      <td>2.574671e-03</td>\n",
              "    </tr>\n",
              "    <tr>\n",
              "      <th>21</th>\n",
              "      <td>9.997988e-01</td>\n",
              "      <td>3.883021e-05</td>\n",
              "      <td>1.609719e-04</td>\n",
              "      <td>1.312985e-06</td>\n",
              "      <td>4.097591e-08</td>\n",
              "    </tr>\n",
              "    <tr>\n",
              "      <th>22</th>\n",
              "      <td>6.575114e-02</td>\n",
              "      <td>9.051219e-01</td>\n",
              "      <td>1.491069e-03</td>\n",
              "      <td>2.725177e-02</td>\n",
              "      <td>3.841548e-04</td>\n",
              "    </tr>\n",
              "    <tr>\n",
              "      <th>23</th>\n",
              "      <td>9.566695e-06</td>\n",
              "      <td>9.999900e-01</td>\n",
              "      <td>5.992216e-09</td>\n",
              "      <td>4.888084e-07</td>\n",
              "      <td>1.087924e-08</td>\n",
              "    </tr>\n",
              "    <tr>\n",
              "      <th>24</th>\n",
              "      <td>2.720090e-08</td>\n",
              "      <td>2.798760e-11</td>\n",
              "      <td>6.619942e-08</td>\n",
              "      <td>1.812027e-07</td>\n",
              "      <td>9.999998e-01</td>\n",
              "    </tr>\n",
              "    <tr>\n",
              "      <th>25</th>\n",
              "      <td>1.878931e-02</td>\n",
              "      <td>7.106076e-03</td>\n",
              "      <td>6.704194e-03</td>\n",
              "      <td>9.642841e-01</td>\n",
              "      <td>3.116371e-03</td>\n",
              "    </tr>\n",
              "    <tr>\n",
              "      <th>26</th>\n",
              "      <td>9.999020e-01</td>\n",
              "      <td>2.929622e-05</td>\n",
              "      <td>6.798862e-05</td>\n",
              "      <td>6.572931e-07</td>\n",
              "      <td>2.083954e-08</td>\n",
              "    </tr>\n",
              "    <tr>\n",
              "      <th>27</th>\n",
              "      <td>7.228937e-05</td>\n",
              "      <td>9.999070e-01</td>\n",
              "      <td>6.773484e-08</td>\n",
              "      <td>2.021917e-05</td>\n",
              "      <td>4.779362e-07</td>\n",
              "    </tr>\n",
              "    <tr>\n",
              "      <th>28</th>\n",
              "      <td>5.692558e-03</td>\n",
              "      <td>4.210822e-05</td>\n",
              "      <td>9.931289e-01</td>\n",
              "      <td>1.125583e-03</td>\n",
              "      <td>1.089613e-05</td>\n",
              "    </tr>\n",
              "    <tr>\n",
              "      <th>29</th>\n",
              "      <td>9.998264e-01</td>\n",
              "      <td>2.840610e-05</td>\n",
              "      <td>1.444583e-04</td>\n",
              "      <td>8.023239e-07</td>\n",
              "      <td>3.502640e-08</td>\n",
              "    </tr>\n",
              "    <tr>\n",
              "      <th>30</th>\n",
              "      <td>7.534923e-02</td>\n",
              "      <td>6.779166e-01</td>\n",
              "      <td>1.916973e-02</td>\n",
              "      <td>2.257986e-01</td>\n",
              "      <td>1.765706e-03</td>\n",
              "    </tr>\n",
              "    <tr>\n",
              "      <th>31</th>\n",
              "      <td>1.329555e-02</td>\n",
              "      <td>7.876899e-05</td>\n",
              "      <td>9.855387e-01</td>\n",
              "      <td>1.078024e-03</td>\n",
              "      <td>8.980840e-06</td>\n",
              "    </tr>\n",
              "  </tbody>\n",
              "</table>\n",
              "</div>\n",
              "      <button class=\"colab-df-convert\" onclick=\"convertToInteractive('df-4b4a3080-6e17-4680-a309-8db2bf1f371d')\"\n",
              "              title=\"Convert this dataframe to an interactive table.\"\n",
              "              style=\"display:none;\">\n",
              "        \n",
              "  <svg xmlns=\"http://www.w3.org/2000/svg\" height=\"24px\"viewBox=\"0 0 24 24\"\n",
              "       width=\"24px\">\n",
              "    <path d=\"M0 0h24v24H0V0z\" fill=\"none\"/>\n",
              "    <path d=\"M18.56 5.44l.94 2.06.94-2.06 2.06-.94-2.06-.94-.94-2.06-.94 2.06-2.06.94zm-11 1L8.5 8.5l.94-2.06 2.06-.94-2.06-.94L8.5 2.5l-.94 2.06-2.06.94zm10 10l.94 2.06.94-2.06 2.06-.94-2.06-.94-.94-2.06-.94 2.06-2.06.94z\"/><path d=\"M17.41 7.96l-1.37-1.37c-.4-.4-.92-.59-1.43-.59-.52 0-1.04.2-1.43.59L10.3 9.45l-7.72 7.72c-.78.78-.78 2.05 0 2.83L4 21.41c.39.39.9.59 1.41.59.51 0 1.02-.2 1.41-.59l7.78-7.78 2.81-2.81c.8-.78.8-2.07 0-2.86zM5.41 20L4 18.59l7.72-7.72 1.47 1.35L5.41 20z\"/>\n",
              "  </svg>\n",
              "      </button>\n",
              "      \n",
              "  <style>\n",
              "    .colab-df-container {\n",
              "      display:flex;\n",
              "      flex-wrap:wrap;\n",
              "      gap: 12px;\n",
              "    }\n",
              "\n",
              "    .colab-df-convert {\n",
              "      background-color: #E8F0FE;\n",
              "      border: none;\n",
              "      border-radius: 50%;\n",
              "      cursor: pointer;\n",
              "      display: none;\n",
              "      fill: #1967D2;\n",
              "      height: 32px;\n",
              "      padding: 0 0 0 0;\n",
              "      width: 32px;\n",
              "    }\n",
              "\n",
              "    .colab-df-convert:hover {\n",
              "      background-color: #E2EBFA;\n",
              "      box-shadow: 0px 1px 2px rgba(60, 64, 67, 0.3), 0px 1px 3px 1px rgba(60, 64, 67, 0.15);\n",
              "      fill: #174EA6;\n",
              "    }\n",
              "\n",
              "    [theme=dark] .colab-df-convert {\n",
              "      background-color: #3B4455;\n",
              "      fill: #D2E3FC;\n",
              "    }\n",
              "\n",
              "    [theme=dark] .colab-df-convert:hover {\n",
              "      background-color: #434B5C;\n",
              "      box-shadow: 0px 1px 3px 1px rgba(0, 0, 0, 0.15);\n",
              "      filter: drop-shadow(0px 1px 2px rgba(0, 0, 0, 0.3));\n",
              "      fill: #FFFFFF;\n",
              "    }\n",
              "  </style>\n",
              "\n",
              "      <script>\n",
              "        const buttonEl =\n",
              "          document.querySelector('#df-4b4a3080-6e17-4680-a309-8db2bf1f371d button.colab-df-convert');\n",
              "        buttonEl.style.display =\n",
              "          google.colab.kernel.accessAllowed ? 'block' : 'none';\n",
              "\n",
              "        async function convertToInteractive(key) {\n",
              "          const element = document.querySelector('#df-4b4a3080-6e17-4680-a309-8db2bf1f371d');\n",
              "          const dataTable =\n",
              "            await google.colab.kernel.invokeFunction('convertToInteractive',\n",
              "                                                     [key], {});\n",
              "          if (!dataTable) return;\n",
              "\n",
              "          const docLinkHtml = 'Like what you see? Visit the ' +\n",
              "            '<a target=\"_blank\" href=https://colab.research.google.com/notebooks/data_table.ipynb>data table notebook</a>'\n",
              "            + ' to learn more about interactive tables.';\n",
              "          element.innerHTML = '';\n",
              "          dataTable['output_type'] = 'display_data';\n",
              "          await google.colab.output.renderOutput(dataTable, element);\n",
              "          const docLink = document.createElement('div');\n",
              "          docLink.innerHTML = docLinkHtml;\n",
              "          element.appendChild(docLink);\n",
              "        }\n",
              "      </script>\n",
              "    </div>\n",
              "  </div>\n",
              "  "
            ]
          },
          "metadata": {},
          "execution_count": 35
        }
      ],
      "source": [
        "# Convert prediction results to Pandas dataframe, for better visualization\n",
        "\n",
        "tf_pred_dataframe = pd.DataFrame(tf_model_predictions.numpy())\n",
        "tf_pred_dataframe.columns = dataset_labels\n",
        "\n",
        "print(\"Prediction results for the first elements\")\n",
        "tf_pred_dataframe"
      ]
    },
    {
      "cell_type": "code",
      "execution_count": null,
      "metadata": {
        "id": "_VZLJWm4jr1_",
        "colab": {
          "base_uri": "https://localhost:8080/"
        },
        "outputId": "8501e9ee-fda2-45d8-b9a0-ed63373ed7b0"
      },
      "outputs": [
        {
          "output_type": "execute_result",
          "data": {
            "text/plain": [
              "<tf.Tensor: shape=(5,), dtype=float32, numpy=\n",
              "array([1.2122652e-02, 7.1794130e-03, 6.5333927e-03, 9.7343236e-01,\n",
              "       7.3207694e-04], dtype=float32)>"
            ]
          },
          "metadata": {},
          "execution_count": 36
        }
      ],
      "source": [
        "tf_model_predictions[0]"
      ]
    },
    {
      "cell_type": "code",
      "execution_count": null,
      "metadata": {
        "id": "V2a4jwJx8Pk1"
      },
      "outputs": [],
      "source": [
        "predicted_ids = np.argmax(tf_model_predictions, axis=-1)\n",
        "predicted_labels = dataset_labels[predicted_ids]"
      ]
    },
    {
      "cell_type": "code",
      "execution_count": null,
      "metadata": {
        "id": "drmIpGJI9xt6",
        "colab": {
          "base_uri": "https://localhost:8080/",
          "height": 585
        },
        "outputId": "6e4629ce-0446-47f8-cf4d-45e78e2b604c"
      },
      "outputs": [
        {
          "output_type": "display_data",
          "data": {
            "text/plain": [
              "<Figure size 720x648 with 30 Axes>"
            ],
            "image/png": "[encoded data removed]"
          },
          "metadata": {
            "needs_background": "light"
          }
        }
      ],
      "source": [
        "# Print images batch and labels predictions\n",
        "\n",
        "plt.figure(figsize=(10,9))\n",
        "plt.subplots_adjust(hspace=0.5)\n",
        "for n in range(30):\n",
        "  plt.subplot(6,5,n+1)\n",
        "  plt.imshow(val_image_batch[n])\n",
        "  color = \"green\" if predicted_ids[n] == true_label_ids[n] else \"red\"\n",
        "  plt.title(predicted_labels[n].title(), color=color)\n",
        "  plt.axis('off')\n",
        "_ = plt.suptitle(\"Model predictions (green: correct, red: incorrect)\")"
      ]
    },
    {
      "cell_type": "markdown",
      "metadata": {
        "id": "9yM9UeUnF8t7"
      },
      "source": [
        "## Convert model to TFLite\n",
        "\n",
        "Convert recently loaded model to TensorFlow Lite models (standard and quantized with a [post-training quantization](https://www.tensorflow.org/lite/performance/post_training_quantization)).\n",
        "\n",
        "Because of TensorFlow 2.0 nature, we'll need to convert TensorFlow model into concrete function and then do conversion to TFLite. More about it [here](https://www.tensorflow.org/lite/r2/convert/concrete_function)."
      ]
    },
    {
      "cell_type": "markdown",
      "metadata": {
        "id": "PXjmRTncPr3c",
        "outputId": "fbc301f9-5a5d-44f1-c2fb-1827e7202c1b"
      },
      "source": [
        "!mkdir \"tflite_models\""
      ]
    },
    {
      "cell_type": "code",
      "execution_count": null,
      "metadata": {
        "id": "YBfrDj2Nhor4"
      },
      "outputs": [],
      "source": [
        "!mkdir \"tflite_models\""
      ]
    },
    {
      "cell_type": "code",
      "execution_count": null,
      "metadata": {
        "id": "-Eo9podxhrWR"
      },
      "outputs": [],
      "source": [
        "TFLITE_MODEL = \"tflite_models/soundsep.tflite\" \n",
        "TFLITE_QUANT_MODEL = \"tflite_models/soundsep_quant.tflite\""
      ]
    },
    {
      "cell_type": "code",
      "execution_count": null,
      "metadata": {
        "id": "keUoSDAeiBuC",
        "colab": {
          "base_uri": "https://localhost:8080/"
        },
        "outputId": "64fe62cf-3580-4227-858d-a1fafc20dff5"
      },
      "outputs": [
        {
          "output_type": "stream",
          "name": "stderr",
          "text": [
            "WARNING:absl:Please consider providing the trackable_obj argument in the from_concrete_functions. Providing without the trackable_obj argument is deprecated and it will use the deprecated conversion path.\n",
            "WARNING:absl:Please consider providing the trackable_obj argument in the from_concrete_functions. Providing without the trackable_obj argument is deprecated and it will use the deprecated conversion path.\n",
            "WARNING:absl:Optimization option OPTIMIZE_FOR_SIZE is deprecated, please use optimizations=[Optimize.DEFAULT] instead.\n",
            "WARNING:absl:Optimization option OPTIMIZE_FOR_SIZE is deprecated, please use optimizations=[Optimize.DEFAULT] instead.\n",
            "WARNING:absl:Optimization option OPTIMIZE_FOR_SIZE is deprecated, please use optimizations=[Optimize.DEFAULT] instead.\n"
          ]
        },
        {
          "output_type": "stream",
          "name": "stdout",
          "text": [
            "TFLite models and their sizes:\n"
          ]
        }
      ],
      "source": [
        "# Get the concrete function from the Keras model.\n",
        "run_model = tf.function(lambda x : soundsep_model(x)) ## Keras 모델에서 구체적인 함수를 가져옴\n",
        "\n",
        "# Save the concrete function.\n",
        "concrete_func = run_model.get_concrete_function(\n",
        "    tf.TensorSpec(model.inputs[0].shape, model.inputs[0].dtype)\n",
        ")\n",
        "\n",
        "# Convert the model\n",
        "converter = tf.lite.TFLiteConverter.from_concrete_functions([concrete_func])\n",
        "converted_tflite_model = converter.convert()\n",
        "open(TFLITE_MODEL, \"wb\").write(converted_tflite_model)\n",
        "\n",
        "# Convert the model to quantized version with post-training quantization\n",
        "converter = tf.lite.TFLiteConverter.from_concrete_functions([concrete_func]) ## 훈련 후 양자화를 통해 모델을 양자화 버전으로 변환\n",
        "converter.optimizations = [tf.lite.Optimize.OPTIMIZE_FOR_SIZE]\n",
        "tflite_quant_model = converter.convert()\n",
        "open(TFLITE_QUANT_MODEL, \"wb\").write(tflite_quant_model)\n",
        "\n",
        "print(\"TFLite models and their sizes:\")\n",
        "# !ls \"tflite_models\" -lh  # 리눅스에서만 가능"
      ]
    },
    {
      "cell_type": "markdown",
      "metadata": {
        "id": "SX3Nv5LMGAja"
      },
      "source": [
        "### Load TFLite model\n",
        "\n",
        "Load TensorFlow lite model with interpreter interface."
      ]
    },
    {
      "cell_type": "markdown",
      "metadata": {
        "id": "OoBmFmXlHVhj",
        "outputId": "8c5ced6a-6544-4f2a-cb2f-a36fade07278"
      },
      "source": [
        "# Load TFLite model and see some details about input/output\n",
        "\n",
        "tflite_interpreter = tf.lite.Interpreter(model_path=TFLITE_MODEL)\n",
        "\n",
        "input_details = tflite_interpreter.get_input_details()\n",
        "output_details = tflite_interpreter.get_output_details()\n",
        "\n",
        "print(\"== Input details ==\")\n",
        "print(\"name:\", input_details[0]['name'])\n",
        "print(\"shape:\", input_details[0]['shape'])\n",
        "print(\"type:\", input_details[0]['dtype'])\n",
        "\n",
        "print(\"\\n== Output details ==\")\n",
        "print(\"name:\", output_details[0]['name'])\n",
        "print(\"shape:\", output_details[0]['shape'])\n",
        "print(\"type:\", output_details[0]['dtype'])"
      ]
    },
    {
      "cell_type": "code",
      "execution_count": null,
      "metadata": {
        "id": "HJvHdMsWjFi_",
        "colab": {
          "base_uri": "https://localhost:8080/"
        },
        "outputId": "a2958481-47d4-42b5-964a-aceab044a73f"
      },
      "outputs": [
        {
          "output_type": "stream",
          "name": "stdout",
          "text": [
            "== Input details ==\n",
            "name: x\n",
            "shape: [  1 224 224   3]\n",
            "type: <class 'numpy.float32'>\n",
            "\n",
            "== Output details ==\n",
            "name: Identity\n",
            "shape: [1 5]\n",
            "type: <class 'numpy.float32'>\n"
          ]
        }
      ],
      "source": [
        "# Load TFLite model and see some details about input/output\n",
        "\n",
        "tflite_interpreter = tf.lite.Interpreter(model_path=TFLITE_MODEL) ## TFLite 모델 로드\n",
        "\n",
        "input_details = tflite_interpreter.get_input_details()\n",
        "output_details = tflite_interpreter.get_output_details()\n",
        "\n",
        "print(\"== Input details ==\")\n",
        "print(\"name:\", input_details[0]['name'])\n",
        "print(\"shape:\", input_details[0]['shape']) ## 32로 되어야함\n",
        "print(\"type:\", input_details[0]['dtype'])\n",
        "\n",
        "print(\"\\n== Output details ==\")\n",
        "print(\"name:\", output_details[0]['name'])\n",
        "print(\"shape:\", output_details[0]['shape']) ## 32로 되어야함\n",
        "print(\"type:\", output_details[0]['dtype'])"
      ]
    },
    {
      "cell_type": "markdown",
      "metadata": {
        "id": "ZKd2v0ldRess"
      },
      "source": [
        "#### Resize input and output tensors shapes\n",
        "\n",
        "Input shape of loaded TFLite model is 1x224x224x3, what means that we can make predictions for single image.\n",
        "\n",
        "Let's resize input and output tensors, so we can make predictions for batch of 32 images."
      ]
    },
    {
      "cell_type": "code",
      "execution_count": null,
      "metadata": {
        "id": "VjNmdqG9n7vR",
        "colab": {
          "base_uri": "https://localhost:8080/"
        },
        "outputId": "d7c9b61d-e9c1-44d1-c7d4-f7fbcd775e19"
      },
      "outputs": [
        {
          "output_type": "stream",
          "name": "stdout",
          "text": [
            "== Input details ==\n",
            "name: x\n",
            "shape: [ 32 224 224   3]\n",
            "type: <class 'numpy.float32'>\n",
            "\n",
            "== Output details ==\n",
            "name: Identity\n",
            "shape: [32  5]\n",
            "type: <class 'numpy.float32'>\n"
          ]
        }
      ],
      "source": [
        "tflite_interpreter.resize_tensor_input(input_details[0]['index'], (32, 224, 224, num_color)) ## 32로 바꿔줌\n",
        "tflite_interpreter.resize_tensor_input(output_details[0]['index'], (32, num_classes)) ## 32로 바꿔줌\n",
        "tflite_interpreter.allocate_tensors()\n",
        "\n",
        "input_details = tflite_interpreter.get_input_details()\n",
        "output_details = tflite_interpreter.get_output_details()\n",
        "\n",
        "print(\"== Input details ==\")\n",
        "print(\"name:\", input_details[0]['name'])\n",
        "print(\"shape:\", input_details[0]['shape'])\n",
        "print(\"type:\", input_details[0]['dtype'])\n",
        "\n",
        "print(\"\\n== Output details ==\")\n",
        "print(\"name:\", output_details[0]['name'])\n",
        "print(\"shape:\", output_details[0]['shape'])\n",
        "print(\"type:\", output_details[0]['dtype'])"
      ]
    },
    {
      "cell_type": "code",
      "execution_count": null,
      "metadata": {
        "id": "P8PNg1OVoBgy"
      },
      "outputs": [],
      "source": [
        "tflite_interpreter.set_tensor(input_details[0]['index'], val_image_batch)\n",
        "\n",
        "tflite_interpreter.invoke()\n",
        "\n",
        "tflite_model_predictions = tflite_interpreter.get_tensor(output_details[0]['index'])\n",
        "#print(\"Prediction results shape:\", tflite_model_predictions.shape)'"
      ]
    },
    {
      "cell_type": "markdown",
      "metadata": {
        "id": "pwfWiDLgTEIc",
        "outputId": "f8738d93-c8a0-415c-f8b5-11748b232c37"
      },
      "source": [
        "# Convert prediction results to Pandas dataframe, for better visualization\n",
        "\n",
        "tflite_pred_dataframe = pd.DataFrame(tflite_model_predictions)\n",
        "tflite_pred_dataframe.columns = dataset_labels\n",
        "\n",
        "print(\"TFLite prediction results for the first elements\")\n",
        "tflite_pred_dataframe.head()"
      ]
    },
    {
      "cell_type": "code",
      "execution_count": null,
      "metadata": {
        "id": "tGCbVtiZrV8s",
        "colab": {
          "base_uri": "https://localhost:8080/",
          "height": 225
        },
        "outputId": "80047caa-4ab8-474b-8881-2e758ed4e1a4"
      },
      "outputs": [
        {
          "output_type": "stream",
          "name": "stdout",
          "text": [
            "TFLite prediction results for the first elements\n"
          ]
        },
        {
          "output_type": "execute_result",
          "data": {
            "text/plain": [
              "   Babbling  Car_Noise   Howling     Voice  White_Noise\n",
              "0  0.012123   0.007179  0.006534  0.973432     0.000732\n",
              "1  0.012097   0.987616  0.000054  0.000217     0.000015\n",
              "2  0.012039   0.000076  0.986974  0.000900     0.000011\n",
              "3  0.039456   0.042971  0.040459  0.875963     0.001151\n",
              "4  0.202319   0.041112  0.045394  0.707074     0.004100"
            ],
            "text/html": [
              "\n",
              "  <div id=\"df-e54f4e49-72eb-4732-b1bd-fbe810a987d6\">\n",
              "    <div class=\"colab-df-container\">\n",
              "      <div>\n",
              "<style scoped>\n",
              "    .dataframe tbody tr th:only-of-type {\n",
              "        vertical-align: middle;\n",
              "    }\n",
              "\n",
              "    .dataframe tbody tr th {\n",
              "        vertical-align: top;\n",
              "    }\n",
              "\n",
              "    .dataframe thead th {\n",
              "        text-align: right;\n",
              "    }\n",
              "</style>\n",
              "<table border=\"1\" class=\"dataframe\">\n",
              "  <thead>\n",
              "    <tr style=\"text-align: right;\">\n",
              "      <th></th>\n",
              "      <th>Babbling</th>\n",
              "      <th>Car_Noise</th>\n",
              "      <th>Howling</th>\n",
              "      <th>Voice</th>\n",
              "      <th>White_Noise</th>\n",
              "    </tr>\n",
              "  </thead>\n",
              "  <tbody>\n",
              "    <tr>\n",
              "      <th>0</th>\n",
              "      <td>0.012123</td>\n",
              "      <td>0.007179</td>\n",
              "      <td>0.006534</td>\n",
              "      <td>0.973432</td>\n",
              "      <td>0.000732</td>\n",
              "    </tr>\n",
              "    <tr>\n",
              "      <th>1</th>\n",
              "      <td>0.012097</td>\n",
              "      <td>0.987616</td>\n",
              "      <td>0.000054</td>\n",
              "      <td>0.000217</td>\n",
              "      <td>0.000015</td>\n",
              "    </tr>\n",
              "    <tr>\n",
              "      <th>2</th>\n",
              "      <td>0.012039</td>\n",
              "      <td>0.000076</td>\n",
              "      <td>0.986974</td>\n",
              "      <td>0.000900</td>\n",
              "      <td>0.000011</td>\n",
              "    </tr>\n",
              "    <tr>\n",
              "      <th>3</th>\n",
              "      <td>0.039456</td>\n",
              "      <td>0.042971</td>\n",
              "      <td>0.040459</td>\n",
              "      <td>0.875963</td>\n",
              "      <td>0.001151</td>\n",
              "    </tr>\n",
              "    <tr>\n",
              "      <th>4</th>\n",
              "      <td>0.202319</td>\n",
              "      <td>0.041112</td>\n",
              "      <td>0.045394</td>\n",
              "      <td>0.707074</td>\n",
              "      <td>0.004100</td>\n",
              "    </tr>\n",
              "  </tbody>\n",
              "</table>\n",
              "</div>\n",
              "      <button class=\"colab-df-convert\" onclick=\"convertToInteractive('df-e54f4e49-72eb-4732-b1bd-fbe810a987d6')\"\n",
              "              title=\"Convert this dataframe to an interactive table.\"\n",
              "              style=\"display:none;\">\n",
              "        \n",
              "  <svg xmlns=\"http://www.w3.org/2000/svg\" height=\"24px\"viewBox=\"0 0 24 24\"\n",
              "       width=\"24px\">\n",
              "    <path d=\"M0 0h24v24H0V0z\" fill=\"none\"/>\n",
              "    <path d=\"M18.56 5.44l.94 2.06.94-2.06 2.06-.94-2.06-.94-.94-2.06-.94 2.06-2.06.94zm-11 1L8.5 8.5l.94-2.06 2.06-.94-2.06-.94L8.5 2.5l-.94 2.06-2.06.94zm10 10l.94 2.06.94-2.06 2.06-.94-2.06-.94-.94-2.06-.94 2.06-2.06.94z\"/><path d=\"M17.41 7.96l-1.37-1.37c-.4-.4-.92-.59-1.43-.59-.52 0-1.04.2-1.43.59L10.3 9.45l-7.72 7.72c-.78.78-.78 2.05 0 2.83L4 21.41c.39.39.9.59 1.41.59.51 0 1.02-.2 1.41-.59l7.78-7.78 2.81-2.81c.8-.78.8-2.07 0-2.86zM5.41 20L4 18.59l7.72-7.72 1.47 1.35L5.41 20z\"/>\n",
              "  </svg>\n",
              "      </button>\n",
              "      \n",
              "  <style>\n",
              "    .colab-df-container {\n",
              "      display:flex;\n",
              "      flex-wrap:wrap;\n",
              "      gap: 12px;\n",
              "    }\n",
              "\n",
              "    .colab-df-convert {\n",
              "      background-color: #E8F0FE;\n",
              "      border: none;\n",
              "      border-radius: 50%;\n",
              "      cursor: pointer;\n",
              "      display: none;\n",
              "      fill: #1967D2;\n",
              "      height: 32px;\n",
              "      padding: 0 0 0 0;\n",
              "      width: 32px;\n",
              "    }\n",
              "\n",
              "    .colab-df-convert:hover {\n",
              "      background-color: #E2EBFA;\n",
              "      box-shadow: 0px 1px 2px rgba(60, 64, 67, 0.3), 0px 1px 3px 1px rgba(60, 64, 67, 0.15);\n",
              "      fill: #174EA6;\n",
              "    }\n",
              "\n",
              "    [theme=dark] .colab-df-convert {\n",
              "      background-color: #3B4455;\n",
              "      fill: #D2E3FC;\n",
              "    }\n",
              "\n",
              "    [theme=dark] .colab-df-convert:hover {\n",
              "      background-color: #434B5C;\n",
              "      box-shadow: 0px 1px 3px 1px rgba(0, 0, 0, 0.15);\n",
              "      filter: drop-shadow(0px 1px 2px rgba(0, 0, 0, 0.3));\n",
              "      fill: #FFFFFF;\n",
              "    }\n",
              "  </style>\n",
              "\n",
              "      <script>\n",
              "        const buttonEl =\n",
              "          document.querySelector('#df-e54f4e49-72eb-4732-b1bd-fbe810a987d6 button.colab-df-convert');\n",
              "        buttonEl.style.display =\n",
              "          google.colab.kernel.accessAllowed ? 'block' : 'none';\n",
              "\n",
              "        async function convertToInteractive(key) {\n",
              "          const element = document.querySelector('#df-e54f4e49-72eb-4732-b1bd-fbe810a987d6');\n",
              "          const dataTable =\n",
              "            await google.colab.kernel.invokeFunction('convertToInteractive',\n",
              "                                                     [key], {});\n",
              "          if (!dataTable) return;\n",
              "\n",
              "          const docLinkHtml = 'Like what you see? Visit the ' +\n",
              "            '<a target=\"_blank\" href=https://colab.research.google.com/notebooks/data_table.ipynb>data table notebook</a>'\n",
              "            + ' to learn more about interactive tables.';\n",
              "          element.innerHTML = '';\n",
              "          dataTable['output_type'] = 'display_data';\n",
              "          await google.colab.output.renderOutput(dataTable, element);\n",
              "          const docLink = document.createElement('div');\n",
              "          docLink.innerHTML = docLinkHtml;\n",
              "          element.appendChild(docLink);\n",
              "        }\n",
              "      </script>\n",
              "    </div>\n",
              "  </div>\n",
              "  "
            ]
          },
          "metadata": {},
          "execution_count": 76
        }
      ],
      "source": [
        "# Convert prediction results to Pandas dataframe, for better visualization\n",
        "\n",
        "tflite_pred_dataframe = pd.DataFrame(tflite_model_predictions) ## 더 나은 시각화를 위해Pandas 데이터 프레임으로 변환\n",
        "tflite_pred_dataframe.columns = dataset_labels\n",
        "\n",
        "print(\"TFLite prediction results for the first elements\")\n",
        "tflite_pred_dataframe.head()"
      ]
    },
    {
      "cell_type": "markdown",
      "metadata": {
        "id": "vmJONiLSSe3V"
      },
      "source": [
        "Now let's do the same for TFLite quantized model:\n",
        "- Load model,\n",
        "- Reshape input to handle batch of images,\n",
        "- Run prediction"
      ]
    },
    {
      "cell_type": "code",
      "execution_count": null,
      "metadata": {
        "id": "cpplYhk5BhxU",
        "colab": {
          "base_uri": "https://localhost:8080/"
        },
        "outputId": "92b94a33-5545-433e-f608-f24cbdb27e31"
      },
      "outputs": [
        {
          "output_type": "stream",
          "name": "stdout",
          "text": [
            "== Input details ==\n",
            "name: x\n",
            "shape: [ 32 224 224   3]\n",
            "type: <class 'numpy.float32'>\n",
            "\n",
            "== Output details ==\n",
            "name: Identity\n",
            "shape: [32  5]\n",
            "type: <class 'numpy.float32'>\n",
            "\n",
            "Prediction results shape: (32, 5)\n"
          ]
        }
      ],
      "source": [
        "# Load quantized TFLite model\n",
        "tflite_interpreter_quant = tf.lite.Interpreter(model_path=TFLITE_QUANT_MODEL)\n",
        "\n",
        "# Learn about its input and output details\n",
        "input_details = tflite_interpreter_quant.get_input_details()\n",
        "output_details = tflite_interpreter_quant.get_output_details()\n",
        "\n",
        "# Resize input and output tensors to handle batch of 32 images\n",
        "tflite_interpreter_quant.resize_tensor_input(input_details[0]['index'], (32, 224, 224, 3))\n",
        "tflite_interpreter_quant.resize_tensor_input(output_details[0]['index'], (32, 5))\n",
        "tflite_interpreter_quant.allocate_tensors()\n",
        "\n",
        "input_details = tflite_interpreter_quant.get_input_details()\n",
        "output_details = tflite_interpreter_quant.get_output_details()\n",
        "\n",
        "print(\"== Input details ==\")\n",
        "print(\"name:\", input_details[0]['name'])\n",
        "print(\"shape:\", input_details[0]['shape'])\n",
        "print(\"type:\", input_details[0]['dtype'])\n",
        "\n",
        "print(\"\\n== Output details ==\")\n",
        "print(\"name:\", output_details[0]['name'])\n",
        "print(\"shape:\", output_details[0]['shape'])\n",
        "print(\"type:\", output_details[0]['dtype'])\n",
        "\n",
        "# Run inference\n",
        "tflite_interpreter_quant.set_tensor(input_details[0]['index'], val_image_batch)\n",
        "\n",
        "tflite_interpreter_quant.invoke()\n",
        "\n",
        "tflite_q_model_predictions = tflite_interpreter_quant.get_tensor(output_details[0]['index'])\n",
        "print(\"\\nPrediction results shape:\", tflite_q_model_predictions.shape)"
      ]
    },
    {
      "cell_type": "code",
      "execution_count": null,
      "metadata": {
        "id": "_eG0NrSwBpEY",
        "colab": {
          "base_uri": "https://localhost:8080/",
          "height": 225
        },
        "outputId": "b21a4ddf-fc88-45c3-a8c7-a90a85fdebda"
      },
      "outputs": [
        {
          "output_type": "stream",
          "name": "stdout",
          "text": [
            "Quantized TFLite model prediction results for the first elements\n"
          ]
        },
        {
          "output_type": "execute_result",
          "data": {
            "text/plain": [
              "   Babbling  Car_Noise   Howling     Voice  White_Noise\n",
              "0  0.011706   0.007418  0.009182  0.970782     0.000912\n",
              "1  0.012125   0.987541  0.000086  0.000229     0.000019\n",
              "2  0.008569   0.000049  0.990677  0.000696     0.000008\n",
              "3  0.037858   0.043739  0.052951  0.863894     0.001557\n",
              "4  0.192315   0.041054  0.066063  0.695412     0.005155"
            ],
            "text/html": [
              "\n",
              "  <div id=\"df-3b34cf10-7878-457c-8023-a0c82f556f4f\">\n",
              "    <div class=\"colab-df-container\">\n",
              "      <div>\n",
              "<style scoped>\n",
              "    .dataframe tbody tr th:only-of-type {\n",
              "        vertical-align: middle;\n",
              "    }\n",
              "\n",
              "    .dataframe tbody tr th {\n",
              "        vertical-align: top;\n",
              "    }\n",
              "\n",
              "    .dataframe thead th {\n",
              "        text-align: right;\n",
              "    }\n",
              "</style>\n",
              "<table border=\"1\" class=\"dataframe\">\n",
              "  <thead>\n",
              "    <tr style=\"text-align: right;\">\n",
              "      <th></th>\n",
              "      <th>Babbling</th>\n",
              "      <th>Car_Noise</th>\n",
              "      <th>Howling</th>\n",
              "      <th>Voice</th>\n",
              "      <th>White_Noise</th>\n",
              "    </tr>\n",
              "  </thead>\n",
              "  <tbody>\n",
              "    <tr>\n",
              "      <th>0</th>\n",
              "      <td>0.011706</td>\n",
              "      <td>0.007418</td>\n",
              "      <td>0.009182</td>\n",
              "      <td>0.970782</td>\n",
              "      <td>0.000912</td>\n",
              "    </tr>\n",
              "    <tr>\n",
              "      <th>1</th>\n",
              "      <td>0.012125</td>\n",
              "      <td>0.987541</td>\n",
              "      <td>0.000086</td>\n",
              "      <td>0.000229</td>\n",
              "      <td>0.000019</td>\n",
              "    </tr>\n",
              "    <tr>\n",
              "      <th>2</th>\n",
              "      <td>0.008569</td>\n",
              "      <td>0.000049</td>\n",
              "      <td>0.990677</td>\n",
              "      <td>0.000696</td>\n",
              "      <td>0.000008</td>\n",
              "    </tr>\n",
              "    <tr>\n",
              "      <th>3</th>\n",
              "      <td>0.037858</td>\n",
              "      <td>0.043739</td>\n",
              "      <td>0.052951</td>\n",
              "      <td>0.863894</td>\n",
              "      <td>0.001557</td>\n",
              "    </tr>\n",
              "    <tr>\n",
              "      <th>4</th>\n",
              "      <td>0.192315</td>\n",
              "      <td>0.041054</td>\n",
              "      <td>0.066063</td>\n",
              "      <td>0.695412</td>\n",
              "      <td>0.005155</td>\n",
              "    </tr>\n",
              "  </tbody>\n",
              "</table>\n",
              "</div>\n",
              "      <button class=\"colab-df-convert\" onclick=\"convertToInteractive('df-3b34cf10-7878-457c-8023-a0c82f556f4f')\"\n",
              "              title=\"Convert this dataframe to an interactive table.\"\n",
              "              style=\"display:none;\">\n",
              "        \n",
              "  <svg xmlns=\"http://www.w3.org/2000/svg\" height=\"24px\"viewBox=\"0 0 24 24\"\n",
              "       width=\"24px\">\n",
              "    <path d=\"M0 0h24v24H0V0z\" fill=\"none\"/>\n",
              "    <path d=\"M18.56 5.44l.94 2.06.94-2.06 2.06-.94-2.06-.94-.94-2.06-.94 2.06-2.06.94zm-11 1L8.5 8.5l.94-2.06 2.06-.94-2.06-.94L8.5 2.5l-.94 2.06-2.06.94zm10 10l.94 2.06.94-2.06 2.06-.94-2.06-.94-.94-2.06-.94 2.06-2.06.94z\"/><path d=\"M17.41 7.96l-1.37-1.37c-.4-.4-.92-.59-1.43-.59-.52 0-1.04.2-1.43.59L10.3 9.45l-7.72 7.72c-.78.78-.78 2.05 0 2.83L4 21.41c.39.39.9.59 1.41.59.51 0 1.02-.2 1.41-.59l7.78-7.78 2.81-2.81c.8-.78.8-2.07 0-2.86zM5.41 20L4 18.59l7.72-7.72 1.47 1.35L5.41 20z\"/>\n",
              "  </svg>\n",
              "      </button>\n",
              "      \n",
              "  <style>\n",
              "    .colab-df-container {\n",
              "      display:flex;\n",
              "      flex-wrap:wrap;\n",
              "      gap: 12px;\n",
              "    }\n",
              "\n",
              "    .colab-df-convert {\n",
              "      background-color: #E8F0FE;\n",
              "      border: none;\n",
              "      border-radius: 50%;\n",
              "      cursor: pointer;\n",
              "      display: none;\n",
              "      fill: #1967D2;\n",
              "      height: 32px;\n",
              "      padding: 0 0 0 0;\n",
              "      width: 32px;\n",
              "    }\n",
              "\n",
              "    .colab-df-convert:hover {\n",
              "      background-color: #E2EBFA;\n",
              "      box-shadow: 0px 1px 2px rgba(60, 64, 67, 0.3), 0px 1px 3px 1px rgba(60, 64, 67, 0.15);\n",
              "      fill: #174EA6;\n",
              "    }\n",
              "\n",
              "    [theme=dark] .colab-df-convert {\n",
              "      background-color: #3B4455;\n",
              "      fill: #D2E3FC;\n",
              "    }\n",
              "\n",
              "    [theme=dark] .colab-df-convert:hover {\n",
              "      background-color: #434B5C;\n",
              "      box-shadow: 0px 1px 3px 1px rgba(0, 0, 0, 0.15);\n",
              "      filter: drop-shadow(0px 1px 2px rgba(0, 0, 0, 0.3));\n",
              "      fill: #FFFFFF;\n",
              "    }\n",
              "  </style>\n",
              "\n",
              "      <script>\n",
              "        const buttonEl =\n",
              "          document.querySelector('#df-3b34cf10-7878-457c-8023-a0c82f556f4f button.colab-df-convert');\n",
              "        buttonEl.style.display =\n",
              "          google.colab.kernel.accessAllowed ? 'block' : 'none';\n",
              "\n",
              "        async function convertToInteractive(key) {\n",
              "          const element = document.querySelector('#df-3b34cf10-7878-457c-8023-a0c82f556f4f');\n",
              "          const dataTable =\n",
              "            await google.colab.kernel.invokeFunction('convertToInteractive',\n",
              "                                                     [key], {});\n",
              "          if (!dataTable) return;\n",
              "\n",
              "          const docLinkHtml = 'Like what you see? Visit the ' +\n",
              "            '<a target=\"_blank\" href=https://colab.research.google.com/notebooks/data_table.ipynb>data table notebook</a>'\n",
              "            + ' to learn more about interactive tables.';\n",
              "          element.innerHTML = '';\n",
              "          dataTable['output_type'] = 'display_data';\n",
              "          await google.colab.output.renderOutput(dataTable, element);\n",
              "          const docLink = document.createElement('div');\n",
              "          docLink.innerHTML = docLinkHtml;\n",
              "          element.appendChild(docLink);\n",
              "        }\n",
              "      </script>\n",
              "    </div>\n",
              "  </div>\n",
              "  "
            ]
          },
          "metadata": {},
          "execution_count": 78
        }
      ],
      "source": [
        "# Convert prediction results to Pandas dataframe, for better visualization\n",
        "\n",
        "tflite_q_pred_dataframe = pd.DataFrame(tflite_q_model_predictions)\n",
        "tflite_q_pred_dataframe.columns = dataset_labels\n",
        "\n",
        "print(\"Quantized TFLite model prediction results for the first elements\")\n",
        "tflite_q_pred_dataframe.head()"
      ]
    },
    {
      "cell_type": "code",
      "execution_count": null,
      "metadata": {
        "id": "N9IoYvtJXLjp",
        "colab": {
          "base_uri": "https://localhost:8080/",
          "height": 301
        },
        "outputId": "c15fd3c4-36a8-4439-d07a-c03fb0251e0e"
      },
      "outputs": [
        {
          "output_type": "execute_result",
          "data": {
            "text/plain": [
              "   TF Model                                              TFLite            \\\n",
              "   Babbling Car_Noise   Howling     Voice White_Noise  Babbling Car_Noise   \n",
              "0  0.012123  0.007179  0.006533  0.973432    0.000732  0.012123  0.007179   \n",
              "1  0.012097  0.987617  0.000054  0.000217    0.000015  0.012097  0.987616   \n",
              "2  0.012039  0.000076  0.986973  0.000900    0.000011  0.012039  0.000076   \n",
              "3  0.039455  0.042972  0.040458  0.875964    0.001151  0.039456  0.042971   \n",
              "4  0.202322  0.041112  0.045393  0.707072    0.004100  0.202319  0.041112   \n",
              "\n",
              "                                  TFLite quantized                      \\\n",
              "    Howling     Voice White_Noise         Babbling Car_Noise   Howling   \n",
              "0  0.006534  0.973432    0.000732         0.011706  0.007418  0.009182   \n",
              "1  0.000054  0.000217    0.000015         0.012125  0.987541  0.000086   \n",
              "2  0.986974  0.000900    0.000011         0.008569  0.000049  0.990677   \n",
              "3  0.040459  0.875963    0.001151         0.037858  0.043739  0.052951   \n",
              "4  0.045394  0.707074    0.004100         0.192315  0.041054  0.066063   \n",
              "\n",
              "                         \n",
              "      Voice White_Noise  \n",
              "0  0.970782    0.000912  \n",
              "1  0.000229    0.000019  \n",
              "2  0.000696    0.000008  \n",
              "3  0.863894    0.001557  \n",
              "4  0.695412    0.005155  "
            ],
            "text/html": [
              "\n",
              "  <div id=\"df-c2a2a1e9-ad7e-426a-a1f1-0509591e1246\">\n",
              "    <div class=\"colab-df-container\">\n",
              "      <div>\n",
              "<style scoped>\n",
              "    .dataframe tbody tr th:only-of-type {\n",
              "        vertical-align: middle;\n",
              "    }\n",
              "\n",
              "    .dataframe tbody tr th {\n",
              "        vertical-align: top;\n",
              "    }\n",
              "\n",
              "    .dataframe thead tr th {\n",
              "        text-align: left;\n",
              "    }\n",
              "</style>\n",
              "<table border=\"1\" class=\"dataframe\">\n",
              "  <thead>\n",
              "    <tr>\n",
              "      <th></th>\n",
              "      <th colspan=\"5\" halign=\"left\">TF Model</th>\n",
              "      <th colspan=\"5\" halign=\"left\">TFLite</th>\n",
              "      <th colspan=\"5\" halign=\"left\">TFLite quantized</th>\n",
              "    </tr>\n",
              "    <tr>\n",
              "      <th></th>\n",
              "      <th>Babbling</th>\n",
              "      <th>Car_Noise</th>\n",
              "      <th>Howling</th>\n",
              "      <th>Voice</th>\n",
              "      <th>White_Noise</th>\n",
              "      <th>Babbling</th>\n",
              "      <th>Car_Noise</th>\n",
              "      <th>Howling</th>\n",
              "      <th>Voice</th>\n",
              "      <th>White_Noise</th>\n",
              "      <th>Babbling</th>\n",
              "      <th>Car_Noise</th>\n",
              "      <th>Howling</th>\n",
              "      <th>Voice</th>\n",
              "      <th>White_Noise</th>\n",
              "    </tr>\n",
              "  </thead>\n",
              "  <tbody>\n",
              "    <tr>\n",
              "      <th>0</th>\n",
              "      <td>0.012123</td>\n",
              "      <td>0.007179</td>\n",
              "      <td>0.006533</td>\n",
              "      <td>0.973432</td>\n",
              "      <td>0.000732</td>\n",
              "      <td>0.012123</td>\n",
              "      <td>0.007179</td>\n",
              "      <td>0.006534</td>\n",
              "      <td>0.973432</td>\n",
              "      <td>0.000732</td>\n",
              "      <td>0.011706</td>\n",
              "      <td>0.007418</td>\n",
              "      <td>0.009182</td>\n",
              "      <td>0.970782</td>\n",
              "      <td>0.000912</td>\n",
              "    </tr>\n",
              "    <tr>\n",
              "      <th>1</th>\n",
              "      <td>0.012097</td>\n",
              "      <td>0.987617</td>\n",
              "      <td>0.000054</td>\n",
              "      <td>0.000217</td>\n",
              "      <td>0.000015</td>\n",
              "      <td>0.012097</td>\n",
              "      <td>0.987616</td>\n",
              "      <td>0.000054</td>\n",
              "      <td>0.000217</td>\n",
              "      <td>0.000015</td>\n",
              "      <td>0.012125</td>\n",
              "      <td>0.987541</td>\n",
              "      <td>0.000086</td>\n",
              "      <td>0.000229</td>\n",
              "      <td>0.000019</td>\n",
              "    </tr>\n",
              "    <tr>\n",
              "      <th>2</th>\n",
              "      <td>0.012039</td>\n",
              "      <td>0.000076</td>\n",
              "      <td>0.986973</td>\n",
              "      <td>0.000900</td>\n",
              "      <td>0.000011</td>\n",
              "      <td>0.012039</td>\n",
              "      <td>0.000076</td>\n",
              "      <td>0.986974</td>\n",
              "      <td>0.000900</td>\n",
              "      <td>0.000011</td>\n",
              "      <td>0.008569</td>\n",
              "      <td>0.000049</td>\n",
              "      <td>0.990677</td>\n",
              "      <td>0.000696</td>\n",
              "      <td>0.000008</td>\n",
              "    </tr>\n",
              "    <tr>\n",
              "      <th>3</th>\n",
              "      <td>0.039455</td>\n",
              "      <td>0.042972</td>\n",
              "      <td>0.040458</td>\n",
              "      <td>0.875964</td>\n",
              "      <td>0.001151</td>\n",
              "      <td>0.039456</td>\n",
              "      <td>0.042971</td>\n",
              "      <td>0.040459</td>\n",
              "      <td>0.875963</td>\n",
              "      <td>0.001151</td>\n",
              "      <td>0.037858</td>\n",
              "      <td>0.043739</td>\n",
              "      <td>0.052951</td>\n",
              "      <td>0.863894</td>\n",
              "      <td>0.001557</td>\n",
              "    </tr>\n",
              "    <tr>\n",
              "      <th>4</th>\n",
              "      <td>0.202322</td>\n",
              "      <td>0.041112</td>\n",
              "      <td>0.045393</td>\n",
              "      <td>0.707072</td>\n",
              "      <td>0.004100</td>\n",
              "      <td>0.202319</td>\n",
              "      <td>0.041112</td>\n",
              "      <td>0.045394</td>\n",
              "      <td>0.707074</td>\n",
              "      <td>0.004100</td>\n",
              "      <td>0.192315</td>\n",
              "      <td>0.041054</td>\n",
              "      <td>0.066063</td>\n",
              "      <td>0.695412</td>\n",
              "      <td>0.005155</td>\n",
              "    </tr>\n",
              "  </tbody>\n",
              "</table>\n",
              "</div>\n",
              "      <button class=\"colab-df-convert\" onclick=\"convertToInteractive('df-c2a2a1e9-ad7e-426a-a1f1-0509591e1246')\"\n",
              "              title=\"Convert this dataframe to an interactive table.\"\n",
              "              style=\"display:none;\">\n",
              "        \n",
              "  <svg xmlns=\"http://www.w3.org/2000/svg\" height=\"24px\"viewBox=\"0 0 24 24\"\n",
              "       width=\"24px\">\n",
              "    <path d=\"M0 0h24v24H0V0z\" fill=\"none\"/>\n",
              "    <path d=\"M18.56 5.44l.94 2.06.94-2.06 2.06-.94-2.06-.94-.94-2.06-.94 2.06-2.06.94zm-11 1L8.5 8.5l.94-2.06 2.06-.94-2.06-.94L8.5 2.5l-.94 2.06-2.06.94zm10 10l.94 2.06.94-2.06 2.06-.94-2.06-.94-.94-2.06-.94 2.06-2.06.94z\"/><path d=\"M17.41 7.96l-1.37-1.37c-.4-.4-.92-.59-1.43-.59-.52 0-1.04.2-1.43.59L10.3 9.45l-7.72 7.72c-.78.78-.78 2.05 0 2.83L4 21.41c.39.39.9.59 1.41.59.51 0 1.02-.2 1.41-.59l7.78-7.78 2.81-2.81c.8-.78.8-2.07 0-2.86zM5.41 20L4 18.59l7.72-7.72 1.47 1.35L5.41 20z\"/>\n",
              "  </svg>\n",
              "      </button>\n",
              "      \n",
              "  <style>\n",
              "    .colab-df-container {\n",
              "      display:flex;\n",
              "      flex-wrap:wrap;\n",
              "      gap: 12px;\n",
              "    }\n",
              "\n",
              "    .colab-df-convert {\n",
              "      background-color: #E8F0FE;\n",
              "      border: none;\n",
              "      border-radius: 50%;\n",
              "      cursor: pointer;\n",
              "      display: none;\n",
              "      fill: #1967D2;\n",
              "      height: 32px;\n",
              "      padding: 0 0 0 0;\n",
              "      width: 32px;\n",
              "    }\n",
              "\n",
              "    .colab-df-convert:hover {\n",
              "      background-color: #E2EBFA;\n",
              "      box-shadow: 0px 1px 2px rgba(60, 64, 67, 0.3), 0px 1px 3px 1px rgba(60, 64, 67, 0.15);\n",
              "      fill: #174EA6;\n",
              "    }\n",
              "\n",
              "    [theme=dark] .colab-df-convert {\n",
              "      background-color: #3B4455;\n",
              "      fill: #D2E3FC;\n",
              "    }\n",
              "\n",
              "    [theme=dark] .colab-df-convert:hover {\n",
              "      background-color: #434B5C;\n",
              "      box-shadow: 0px 1px 3px 1px rgba(0, 0, 0, 0.15);\n",
              "      filter: drop-shadow(0px 1px 2px rgba(0, 0, 0, 0.3));\n",
              "      fill: #FFFFFF;\n",
              "    }\n",
              "  </style>\n",
              "\n",
              "      <script>\n",
              "        const buttonEl =\n",
              "          document.querySelector('#df-c2a2a1e9-ad7e-426a-a1f1-0509591e1246 button.colab-df-convert');\n",
              "        buttonEl.style.display =\n",
              "          google.colab.kernel.accessAllowed ? 'block' : 'none';\n",
              "\n",
              "        async function convertToInteractive(key) {\n",
              "          const element = document.querySelector('#df-c2a2a1e9-ad7e-426a-a1f1-0509591e1246');\n",
              "          const dataTable =\n",
              "            await google.colab.kernel.invokeFunction('convertToInteractive',\n",
              "                                                     [key], {});\n",
              "          if (!dataTable) return;\n",
              "\n",
              "          const docLinkHtml = 'Like what you see? Visit the ' +\n",
              "            '<a target=\"_blank\" href=https://colab.research.google.com/notebooks/data_table.ipynb>data table notebook</a>'\n",
              "            + ' to learn more about interactive tables.';\n",
              "          element.innerHTML = '';\n",
              "          dataTable['output_type'] = 'display_data';\n",
              "          await google.colab.output.renderOutput(dataTable, element);\n",
              "          const docLink = document.createElement('div');\n",
              "          docLink.innerHTML = docLinkHtml;\n",
              "          element.appendChild(docLink);\n",
              "        }\n",
              "      </script>\n",
              "    </div>\n",
              "  </div>\n",
              "  "
            ]
          },
          "metadata": {},
          "execution_count": 79
        }
      ],
      "source": [
        "# Concatenate results from all models\n",
        "\n",
        "\n",
        "\n",
        "## 예측 결과 비교\n",
        "## Pandas를 사용하여 3가지 모델 모두의 결과를 시각화하고 차이점을 찾음\n",
        "\n",
        "\n",
        "all_models_dataframe = pd.concat([tf_pred_dataframe, \n",
        "                                  tflite_pred_dataframe, \n",
        "                                  tflite_q_pred_dataframe], \n",
        "                                 keys=['TF Model', 'TFLite', 'TFLite quantized'],\n",
        "                                 axis='columns')\n",
        "all_models_dataframe.head()"
      ]
    },
    {
      "cell_type": "code",
      "execution_count": null,
      "metadata": {
        "id": "5C8CvYhtXNdV",
        "colab": {
          "base_uri": "https://localhost:8080/",
          "height": 319
        },
        "outputId": "18d755bb-3a5d-4ba6-a24f-a4b71befaba1"
      },
      "outputs": [
        {
          "output_type": "execute_result",
          "data": {
            "text/plain": [
              "   Babbling                            Car_Noise                             \\\n",
              "   TF Model    TFLite TFLite quantized  TF Model    TFLite TFLite quantized   \n",
              "0  0.012123  0.012123         0.011706  0.007179  0.007179         0.007418   \n",
              "1  0.012097  0.012097         0.012125  0.987617  0.987616         0.987541   \n",
              "2  0.012039  0.012039         0.008569  0.000076  0.000076         0.000049   \n",
              "3  0.039455  0.039456         0.037858  0.042972  0.042971         0.043739   \n",
              "4  0.202322  0.202319         0.192315  0.041112  0.041112         0.041054   \n",
              "\n",
              "    Howling                                Voice                             \\\n",
              "   TF Model    TFLite TFLite quantized  TF Model    TFLite TFLite quantized   \n",
              "0  0.006533  0.006534         0.009182  0.973432  0.973432         0.970782   \n",
              "1  0.000054  0.000054         0.000086  0.000217  0.000217         0.000229   \n",
              "2  0.986973  0.986974         0.990677  0.000900  0.000900         0.000696   \n",
              "3  0.040458  0.040459         0.052951  0.875964  0.875963         0.863894   \n",
              "4  0.045393  0.045394         0.066063  0.707072  0.707074         0.695412   \n",
              "\n",
              "  White_Noise                             \n",
              "     TF Model    TFLite TFLite quantized  \n",
              "0    0.000732  0.000732         0.000912  \n",
              "1    0.000015  0.000015         0.000019  \n",
              "2    0.000011  0.000011         0.000008  \n",
              "3    0.001151  0.001151         0.001557  \n",
              "4    0.004100  0.004100         0.005155  "
            ],
            "text/html": [
              "\n",
              "  <div id=\"df-89cf8f61-0846-4fac-ab65-1b1871b612d8\">\n",
              "    <div class=\"colab-df-container\">\n",
              "      <div>\n",
              "<style scoped>\n",
              "    .dataframe tbody tr th:only-of-type {\n",
              "        vertical-align: middle;\n",
              "    }\n",
              "\n",
              "    .dataframe tbody tr th {\n",
              "        vertical-align: top;\n",
              "    }\n",
              "\n",
              "    .dataframe thead tr th {\n",
              "        text-align: left;\n",
              "    }\n",
              "</style>\n",
              "<table border=\"1\" class=\"dataframe\">\n",
              "  <thead>\n",
              "    <tr>\n",
              "      <th></th>\n",
              "      <th colspan=\"3\" halign=\"left\">Babbling</th>\n",
              "      <th colspan=\"3\" halign=\"left\">Car_Noise</th>\n",
              "      <th colspan=\"3\" halign=\"left\">Howling</th>\n",
              "      <th colspan=\"3\" halign=\"left\">Voice</th>\n",
              "      <th colspan=\"3\" halign=\"left\">White_Noise</th>\n",
              "    </tr>\n",
              "    <tr>\n",
              "      <th></th>\n",
              "      <th>TF Model</th>\n",
              "      <th>TFLite</th>\n",
              "      <th>TFLite quantized</th>\n",
              "      <th>TF Model</th>\n",
              "      <th>TFLite</th>\n",
              "      <th>TFLite quantized</th>\n",
              "      <th>TF Model</th>\n",
              "      <th>TFLite</th>\n",
              "      <th>TFLite quantized</th>\n",
              "      <th>TF Model</th>\n",
              "      <th>TFLite</th>\n",
              "      <th>TFLite quantized</th>\n",
              "      <th>TF Model</th>\n",
              "      <th>TFLite</th>\n",
              "      <th>TFLite quantized</th>\n",
              "    </tr>\n",
              "  </thead>\n",
              "  <tbody>\n",
              "    <tr>\n",
              "      <th>0</th>\n",
              "      <td>0.012123</td>\n",
              "      <td>0.012123</td>\n",
              "      <td>0.011706</td>\n",
              "      <td>0.007179</td>\n",
              "      <td>0.007179</td>\n",
              "      <td>0.007418</td>\n",
              "      <td>0.006533</td>\n",
              "      <td>0.006534</td>\n",
              "      <td>0.009182</td>\n",
              "      <td>0.973432</td>\n",
              "      <td>0.973432</td>\n",
              "      <td>0.970782</td>\n",
              "      <td>0.000732</td>\n",
              "      <td>0.000732</td>\n",
              "      <td>0.000912</td>\n",
              "    </tr>\n",
              "    <tr>\n",
              "      <th>1</th>\n",
              "      <td>0.012097</td>\n",
              "      <td>0.012097</td>\n",
              "      <td>0.012125</td>\n",
              "      <td>0.987617</td>\n",
              "      <td>0.987616</td>\n",
              "      <td>0.987541</td>\n",
              "      <td>0.000054</td>\n",
              "      <td>0.000054</td>\n",
              "      <td>0.000086</td>\n",
              "      <td>0.000217</td>\n",
              "      <td>0.000217</td>\n",
              "      <td>0.000229</td>\n",
              "      <td>0.000015</td>\n",
              "      <td>0.000015</td>\n",
              "      <td>0.000019</td>\n",
              "    </tr>\n",
              "    <tr>\n",
              "      <th>2</th>\n",
              "      <td>0.012039</td>\n",
              "      <td>0.012039</td>\n",
              "      <td>0.008569</td>\n",
              "      <td>0.000076</td>\n",
              "      <td>0.000076</td>\n",
              "      <td>0.000049</td>\n",
              "      <td>0.986973</td>\n",
              "      <td>0.986974</td>\n",
              "      <td>0.990677</td>\n",
              "      <td>0.000900</td>\n",
              "      <td>0.000900</td>\n",
              "      <td>0.000696</td>\n",
              "      <td>0.000011</td>\n",
              "      <td>0.000011</td>\n",
              "      <td>0.000008</td>\n",
              "    </tr>\n",
              "    <tr>\n",
              "      <th>3</th>\n",
              "      <td>0.039455</td>\n",
              "      <td>0.039456</td>\n",
              "      <td>0.037858</td>\n",
              "      <td>0.042972</td>\n",
              "      <td>0.042971</td>\n",
              "      <td>0.043739</td>\n",
              "      <td>0.040458</td>\n",
              "      <td>0.040459</td>\n",
              "      <td>0.052951</td>\n",
              "      <td>0.875964</td>\n",
              "      <td>0.875963</td>\n",
              "      <td>0.863894</td>\n",
              "      <td>0.001151</td>\n",
              "      <td>0.001151</td>\n",
              "      <td>0.001557</td>\n",
              "    </tr>\n",
              "    <tr>\n",
              "      <th>4</th>\n",
              "      <td>0.202322</td>\n",
              "      <td>0.202319</td>\n",
              "      <td>0.192315</td>\n",
              "      <td>0.041112</td>\n",
              "      <td>0.041112</td>\n",
              "      <td>0.041054</td>\n",
              "      <td>0.045393</td>\n",
              "      <td>0.045394</td>\n",
              "      <td>0.066063</td>\n",
              "      <td>0.707072</td>\n",
              "      <td>0.707074</td>\n",
              "      <td>0.695412</td>\n",
              "      <td>0.004100</td>\n",
              "      <td>0.004100</td>\n",
              "      <td>0.005155</td>\n",
              "    </tr>\n",
              "  </tbody>\n",
              "</table>\n",
              "</div>\n",
              "      <button class=\"colab-df-convert\" onclick=\"convertToInteractive('df-89cf8f61-0846-4fac-ab65-1b1871b612d8')\"\n",
              "              title=\"Convert this dataframe to an interactive table.\"\n",
              "              style=\"display:none;\">\n",
              "        \n",
              "  <svg xmlns=\"http://www.w3.org/2000/svg\" height=\"24px\"viewBox=\"0 0 24 24\"\n",
              "       width=\"24px\">\n",
              "    <path d=\"M0 0h24v24H0V0z\" fill=\"none\"/>\n",
              "    <path d=\"M18.56 5.44l.94 2.06.94-2.06 2.06-.94-2.06-.94-.94-2.06-.94 2.06-2.06.94zm-11 1L8.5 8.5l.94-2.06 2.06-.94-2.06-.94L8.5 2.5l-.94 2.06-2.06.94zm10 10l.94 2.06.94-2.06 2.06-.94-2.06-.94-.94-2.06-.94 2.06-2.06.94z\"/><path d=\"M17.41 7.96l-1.37-1.37c-.4-.4-.92-.59-1.43-.59-.52 0-1.04.2-1.43.59L10.3 9.45l-7.72 7.72c-.78.78-.78 2.05 0 2.83L4 21.41c.39.39.9.59 1.41.59.51 0 1.02-.2 1.41-.59l7.78-7.78 2.81-2.81c.8-.78.8-2.07 0-2.86zM5.41 20L4 18.59l7.72-7.72 1.47 1.35L5.41 20z\"/>\n",
              "  </svg>\n",
              "      </button>\n",
              "      \n",
              "  <style>\n",
              "    .colab-df-container {\n",
              "      display:flex;\n",
              "      flex-wrap:wrap;\n",
              "      gap: 12px;\n",
              "    }\n",
              "\n",
              "    .colab-df-convert {\n",
              "      background-color: #E8F0FE;\n",
              "      border: none;\n",
              "      border-radius: 50%;\n",
              "      cursor: pointer;\n",
              "      display: none;\n",
              "      fill: #1967D2;\n",
              "      height: 32px;\n",
              "      padding: 0 0 0 0;\n",
              "      width: 32px;\n",
              "    }\n",
              "\n",
              "    .colab-df-convert:hover {\n",
              "      background-color: #E2EBFA;\n",
              "      box-shadow: 0px 1px 2px rgba(60, 64, 67, 0.3), 0px 1px 3px 1px rgba(60, 64, 67, 0.15);\n",
              "      fill: #174EA6;\n",
              "    }\n",
              "\n",
              "    [theme=dark] .colab-df-convert {\n",
              "      background-color: #3B4455;\n",
              "      fill: #D2E3FC;\n",
              "    }\n",
              "\n",
              "    [theme=dark] .colab-df-convert:hover {\n",
              "      background-color: #434B5C;\n",
              "      box-shadow: 0px 1px 3px 1px rgba(0, 0, 0, 0.15);\n",
              "      filter: drop-shadow(0px 1px 2px rgba(0, 0, 0, 0.3));\n",
              "      fill: #FFFFFF;\n",
              "    }\n",
              "  </style>\n",
              "\n",
              "      <script>\n",
              "        const buttonEl =\n",
              "          document.querySelector('#df-89cf8f61-0846-4fac-ab65-1b1871b612d8 button.colab-df-convert');\n",
              "        buttonEl.style.display =\n",
              "          google.colab.kernel.accessAllowed ? 'block' : 'none';\n",
              "\n",
              "        async function convertToInteractive(key) {\n",
              "          const element = document.querySelector('#df-89cf8f61-0846-4fac-ab65-1b1871b612d8');\n",
              "          const dataTable =\n",
              "            await google.colab.kernel.invokeFunction('convertToInteractive',\n",
              "                                                     [key], {});\n",
              "          if (!dataTable) return;\n",
              "\n",
              "          const docLinkHtml = 'Like what you see? Visit the ' +\n",
              "            '<a target=\"_blank\" href=https://colab.research.google.com/notebooks/data_table.ipynb>data table notebook</a>'\n",
              "            + ' to learn more about interactive tables.';\n",
              "          element.innerHTML = '';\n",
              "          dataTable['output_type'] = 'display_data';\n",
              "          await google.colab.output.renderOutput(dataTable, element);\n",
              "          const docLink = document.createElement('div');\n",
              "          docLink.innerHTML = docLinkHtml;\n",
              "          element.appendChild(docLink);\n",
              "        }\n",
              "      </script>\n",
              "    </div>\n",
              "  </div>\n",
              "  "
            ]
          },
          "metadata": {},
          "execution_count": 80
        }
      ],
      "source": [
        "# Swap columns to hava side by side comparison\n",
        "\n",
        "all_models_dataframe = all_models_dataframe.swaplevel(axis='columns')[tflite_pred_dataframe.columns]\n",
        "all_models_dataframe.head()"
      ]
    },
    {
      "cell_type": "code",
      "execution_count": null,
      "metadata": {
        "id": "n-yB3o5fXPB9",
        "colab": {
          "base_uri": "https://localhost:8080/",
          "height": 1000
        },
        "outputId": "dcce59cb-dbeb-4f03-d961-cd6b450991c9"
      },
      "outputs": [
        {
          "output_type": "execute_result",
          "data": {
            "text/plain": [
              "<pandas.io.formats.style.Styler at 0x7f590e7dddd0>"
            ],
            "text/html": [
              "<style type=\"text/css\">\n",
              "#T_04ab8_row0_col1, #T_04ab8_row0_col2, #T_04ab8_row0_col4, #T_04ab8_row0_col5, #T_04ab8_row0_col7, #T_04ab8_row0_col8, #T_04ab8_row0_col11, #T_04ab8_row0_col13, #T_04ab8_row0_col14, #T_04ab8_row1_col1, #T_04ab8_row1_col2, #T_04ab8_row1_col4, #T_04ab8_row1_col5, #T_04ab8_row1_col7, #T_04ab8_row1_col8, #T_04ab8_row1_col10, #T_04ab8_row1_col11, #T_04ab8_row1_col13, #T_04ab8_row1_col14, #T_04ab8_row2_col1, #T_04ab8_row2_col2, #T_04ab8_row2_col4, #T_04ab8_row2_col5, #T_04ab8_row2_col7, #T_04ab8_row2_col8, #T_04ab8_row2_col10, #T_04ab8_row2_col11, #T_04ab8_row2_col13, #T_04ab8_row2_col14, #T_04ab8_row3_col1, #T_04ab8_row3_col2, #T_04ab8_row3_col4, #T_04ab8_row3_col5, #T_04ab8_row3_col7, #T_04ab8_row3_col8, #T_04ab8_row3_col10, #T_04ab8_row3_col11, #T_04ab8_row3_col13, #T_04ab8_row3_col14, #T_04ab8_row4_col1, #T_04ab8_row4_col2, #T_04ab8_row4_col4, #T_04ab8_row4_col5, #T_04ab8_row4_col7, #T_04ab8_row4_col8, #T_04ab8_row4_col10, #T_04ab8_row4_col11, #T_04ab8_row4_col13, #T_04ab8_row4_col14, #T_04ab8_row5_col1, #T_04ab8_row5_col2, #T_04ab8_row5_col4, #T_04ab8_row5_col5, #T_04ab8_row5_col7, #T_04ab8_row5_col8, #T_04ab8_row5_col10, #T_04ab8_row5_col11, #T_04ab8_row5_col14, #T_04ab8_row6_col1, #T_04ab8_row6_col2, #T_04ab8_row6_col4, #T_04ab8_row6_col5, #T_04ab8_row6_col7, #T_04ab8_row6_col8, #T_04ab8_row6_col10, #T_04ab8_row6_col11, #T_04ab8_row6_col13, #T_04ab8_row6_col14, #T_04ab8_row7_col1, #T_04ab8_row7_col2, #T_04ab8_row7_col4, #T_04ab8_row7_col5, #T_04ab8_row7_col7, #T_04ab8_row7_col8, #T_04ab8_row7_col10, #T_04ab8_row7_col11, #T_04ab8_row7_col13, #T_04ab8_row7_col14, #T_04ab8_row8_col1, #T_04ab8_row8_col2, #T_04ab8_row8_col4, #T_04ab8_row8_col5, #T_04ab8_row8_col7, #T_04ab8_row8_col8, #T_04ab8_row8_col10, #T_04ab8_row8_col11, #T_04ab8_row8_col13, #T_04ab8_row8_col14, #T_04ab8_row9_col1, #T_04ab8_row9_col2, #T_04ab8_row9_col4, #T_04ab8_row9_col5, #T_04ab8_row9_col7, #T_04ab8_row9_col8, #T_04ab8_row9_col10, #T_04ab8_row9_col11, #T_04ab8_row9_col13, #T_04ab8_row9_col14, #T_04ab8_row10_col1, #T_04ab8_row10_col2, #T_04ab8_row10_col5, #T_04ab8_row10_col7, #T_04ab8_row10_col8, #T_04ab8_row10_col10, #T_04ab8_row10_col11, #T_04ab8_row10_col13, #T_04ab8_row10_col14, #T_04ab8_row11_col1, #T_04ab8_row11_col2, #T_04ab8_row11_col4, #T_04ab8_row11_col5, #T_04ab8_row11_col7, #T_04ab8_row11_col8, #T_04ab8_row11_col10, #T_04ab8_row11_col11, #T_04ab8_row11_col13, #T_04ab8_row11_col14, #T_04ab8_row12_col1, #T_04ab8_row12_col2, #T_04ab8_row12_col4, #T_04ab8_row12_col5, #T_04ab8_row12_col7, #T_04ab8_row12_col8, #T_04ab8_row12_col10, #T_04ab8_row12_col11, #T_04ab8_row12_col13, #T_04ab8_row12_col14, #T_04ab8_row13_col1, #T_04ab8_row13_col2, #T_04ab8_row13_col4, #T_04ab8_row13_col5, #T_04ab8_row13_col8, #T_04ab8_row13_col10, #T_04ab8_row13_col11, #T_04ab8_row13_col13, #T_04ab8_row13_col14, #T_04ab8_row14_col1, #T_04ab8_row14_col2, #T_04ab8_row14_col4, #T_04ab8_row14_col5, #T_04ab8_row14_col7, #T_04ab8_row14_col8, #T_04ab8_row14_col10, #T_04ab8_row14_col11, #T_04ab8_row15_col1, #T_04ab8_row15_col2, #T_04ab8_row15_col4, #T_04ab8_row15_col5, #T_04ab8_row15_col7, #T_04ab8_row15_col8, #T_04ab8_row15_col10, #T_04ab8_row15_col11, #T_04ab8_row15_col13, #T_04ab8_row15_col14, #T_04ab8_row16_col1, #T_04ab8_row16_col2, #T_04ab8_row16_col4, #T_04ab8_row16_col5, #T_04ab8_row16_col7, #T_04ab8_row16_col8, #T_04ab8_row16_col10, #T_04ab8_row16_col11, #T_04ab8_row16_col13, #T_04ab8_row16_col14, #T_04ab8_row17_col1, #T_04ab8_row17_col2, #T_04ab8_row17_col4, #T_04ab8_row17_col5, #T_04ab8_row17_col8, #T_04ab8_row17_col10, #T_04ab8_row17_col11, #T_04ab8_row17_col13, #T_04ab8_row17_col14, #T_04ab8_row18_col2, #T_04ab8_row18_col4, #T_04ab8_row18_col5, #T_04ab8_row18_col7, #T_04ab8_row18_col8, #T_04ab8_row18_col10, #T_04ab8_row18_col11, #T_04ab8_row18_col13, #T_04ab8_row18_col14, #T_04ab8_row19_col1, #T_04ab8_row19_col2, #T_04ab8_row19_col4, #T_04ab8_row19_col5, #T_04ab8_row19_col7, #T_04ab8_row19_col8, #T_04ab8_row19_col10, #T_04ab8_row19_col11, #T_04ab8_row19_col14, #T_04ab8_row20_col1, #T_04ab8_row20_col2, #T_04ab8_row20_col4, #T_04ab8_row20_col5, #T_04ab8_row20_col7, #T_04ab8_row20_col8, #T_04ab8_row20_col10, #T_04ab8_row20_col11, #T_04ab8_row20_col13, #T_04ab8_row20_col14, #T_04ab8_row21_col2, #T_04ab8_row21_col4, #T_04ab8_row21_col5, #T_04ab8_row21_col7, #T_04ab8_row21_col8, #T_04ab8_row21_col10, #T_04ab8_row21_col11, #T_04ab8_row21_col13, #T_04ab8_row21_col14, #T_04ab8_row22_col1, #T_04ab8_row22_col2, #T_04ab8_row22_col4, #T_04ab8_row22_col5, #T_04ab8_row22_col7, #T_04ab8_row22_col8, #T_04ab8_row22_col10, #T_04ab8_row22_col11, #T_04ab8_row22_col13, #T_04ab8_row22_col14, #T_04ab8_row23_col1, #T_04ab8_row23_col2, #T_04ab8_row23_col5, #T_04ab8_row23_col7, #T_04ab8_row23_col8, #T_04ab8_row23_col10, #T_04ab8_row23_col11, #T_04ab8_row23_col13, #T_04ab8_row23_col14, #T_04ab8_row24_col1, #T_04ab8_row24_col2, #T_04ab8_row24_col4, #T_04ab8_row24_col5, #T_04ab8_row24_col7, #T_04ab8_row24_col8, #T_04ab8_row24_col10, #T_04ab8_row24_col11, #T_04ab8_row24_col13, #T_04ab8_row25_col1, #T_04ab8_row25_col2, #T_04ab8_row25_col4, #T_04ab8_row25_col5, #T_04ab8_row25_col7, #T_04ab8_row25_col8, #T_04ab8_row25_col10, #T_04ab8_row25_col11, #T_04ab8_row25_col13, #T_04ab8_row25_col14, #T_04ab8_row26_col1, #T_04ab8_row26_col2, #T_04ab8_row26_col4, #T_04ab8_row26_col5, #T_04ab8_row26_col7, #T_04ab8_row26_col8, #T_04ab8_row26_col10, #T_04ab8_row26_col11, #T_04ab8_row26_col13, #T_04ab8_row26_col14, #T_04ab8_row27_col1, #T_04ab8_row27_col2, #T_04ab8_row27_col4, #T_04ab8_row27_col5, #T_04ab8_row27_col7, #T_04ab8_row27_col8, #T_04ab8_row27_col10, #T_04ab8_row27_col11, #T_04ab8_row27_col13, #T_04ab8_row27_col14, #T_04ab8_row28_col1, #T_04ab8_row28_col2, #T_04ab8_row28_col4, #T_04ab8_row28_col5, #T_04ab8_row28_col7, #T_04ab8_row28_col8, #T_04ab8_row28_col10, #T_04ab8_row28_col11, #T_04ab8_row28_col13, #T_04ab8_row28_col14, #T_04ab8_row29_col2, #T_04ab8_row29_col4, #T_04ab8_row29_col5, #T_04ab8_row29_col7, #T_04ab8_row29_col8, #T_04ab8_row29_col10, #T_04ab8_row29_col11, #T_04ab8_row29_col13, #T_04ab8_row29_col14, #T_04ab8_row30_col1, #T_04ab8_row30_col2, #T_04ab8_row30_col4, #T_04ab8_row30_col5, #T_04ab8_row30_col7, #T_04ab8_row30_col8, #T_04ab8_row30_col10, #T_04ab8_row30_col11, #T_04ab8_row30_col13, #T_04ab8_row30_col14, #T_04ab8_row31_col1, #T_04ab8_row31_col2, #T_04ab8_row31_col4, #T_04ab8_row31_col5, #T_04ab8_row31_col7, #T_04ab8_row31_col8, #T_04ab8_row31_col10, #T_04ab8_row31_col11, #T_04ab8_row31_col13, #T_04ab8_row31_col14 {\n",
              "  background-color: yellow;\n",
              "}\n",
              "</style>\n",
              "<table id=\"T_04ab8_\" class=\"dataframe\">\n",
              "  <thead>\n",
              "    <tr>\n",
              "      <th class=\"blank level0\" >&nbsp;</th>\n",
              "      <th class=\"col_heading level0 col0\" colspan=\"3\">Babbling</th>\n",
              "      <th class=\"col_heading level0 col3\" colspan=\"3\">Car_Noise</th>\n",
              "      <th class=\"col_heading level0 col6\" colspan=\"3\">Howling</th>\n",
              "      <th class=\"col_heading level0 col9\" colspan=\"3\">Voice</th>\n",
              "      <th class=\"col_heading level0 col12\" colspan=\"3\">White_Noise</th>\n",
              "    </tr>\n",
              "    <tr>\n",
              "      <th class=\"blank level1\" >&nbsp;</th>\n",
              "      <th class=\"col_heading level1 col0\" >TF Model</th>\n",
              "      <th class=\"col_heading level1 col1\" >TFLite</th>\n",
              "      <th class=\"col_heading level1 col2\" >TFLite quantized</th>\n",
              "      <th class=\"col_heading level1 col3\" >TF Model</th>\n",
              "      <th class=\"col_heading level1 col4\" >TFLite</th>\n",
              "      <th class=\"col_heading level1 col5\" >TFLite quantized</th>\n",
              "      <th class=\"col_heading level1 col6\" >TF Model</th>\n",
              "      <th class=\"col_heading level1 col7\" >TFLite</th>\n",
              "      <th class=\"col_heading level1 col8\" >TFLite quantized</th>\n",
              "      <th class=\"col_heading level1 col9\" >TF Model</th>\n",
              "      <th class=\"col_heading level1 col10\" >TFLite</th>\n",
              "      <th class=\"col_heading level1 col11\" >TFLite quantized</th>\n",
              "      <th class=\"col_heading level1 col12\" >TF Model</th>\n",
              "      <th class=\"col_heading level1 col13\" >TFLite</th>\n",
              "      <th class=\"col_heading level1 col14\" >TFLite quantized</th>\n",
              "    </tr>\n",
              "  </thead>\n",
              "  <tbody>\n",
              "    <tr>\n",
              "      <th id=\"T_04ab8_level0_row0\" class=\"row_heading level0 row0\" >0</th>\n",
              "      <td id=\"T_04ab8_row0_col0\" class=\"data row0 col0\" >0.012123</td>\n",
              "      <td id=\"T_04ab8_row0_col1\" class=\"data row0 col1\" >0.012123</td>\n",
              "      <td id=\"T_04ab8_row0_col2\" class=\"data row0 col2\" >0.011706</td>\n",
              "      <td id=\"T_04ab8_row0_col3\" class=\"data row0 col3\" >0.007179</td>\n",
              "      <td id=\"T_04ab8_row0_col4\" class=\"data row0 col4\" >0.007179</td>\n",
              "      <td id=\"T_04ab8_row0_col5\" class=\"data row0 col5\" >0.007418</td>\n",
              "      <td id=\"T_04ab8_row0_col6\" class=\"data row0 col6\" >0.006533</td>\n",
              "      <td id=\"T_04ab8_row0_col7\" class=\"data row0 col7\" >0.006534</td>\n",
              "      <td id=\"T_04ab8_row0_col8\" class=\"data row0 col8\" >0.009182</td>\n",
              "      <td id=\"T_04ab8_row0_col9\" class=\"data row0 col9\" >0.973432</td>\n",
              "      <td id=\"T_04ab8_row0_col10\" class=\"data row0 col10\" >0.973432</td>\n",
              "      <td id=\"T_04ab8_row0_col11\" class=\"data row0 col11\" >0.970782</td>\n",
              "      <td id=\"T_04ab8_row0_col12\" class=\"data row0 col12\" >0.000732</td>\n",
              "      <td id=\"T_04ab8_row0_col13\" class=\"data row0 col13\" >0.000732</td>\n",
              "      <td id=\"T_04ab8_row0_col14\" class=\"data row0 col14\" >0.000912</td>\n",
              "    </tr>\n",
              "    <tr>\n",
              "      <th id=\"T_04ab8_level0_row1\" class=\"row_heading level0 row1\" >1</th>\n",
              "      <td id=\"T_04ab8_row1_col0\" class=\"data row1 col0\" >0.012097</td>\n",
              "      <td id=\"T_04ab8_row1_col1\" class=\"data row1 col1\" >0.012097</td>\n",
              "      <td id=\"T_04ab8_row1_col2\" class=\"data row1 col2\" >0.012125</td>\n",
              "      <td id=\"T_04ab8_row1_col3\" class=\"data row1 col3\" >0.987617</td>\n",
              "      <td id=\"T_04ab8_row1_col4\" class=\"data row1 col4\" >0.987616</td>\n",
              "      <td id=\"T_04ab8_row1_col5\" class=\"data row1 col5\" >0.987541</td>\n",
              "      <td id=\"T_04ab8_row1_col6\" class=\"data row1 col6\" >0.000054</td>\n",
              "      <td id=\"T_04ab8_row1_col7\" class=\"data row1 col7\" >0.000054</td>\n",
              "      <td id=\"T_04ab8_row1_col8\" class=\"data row1 col8\" >0.000086</td>\n",
              "      <td id=\"T_04ab8_row1_col9\" class=\"data row1 col9\" >0.000217</td>\n",
              "      <td id=\"T_04ab8_row1_col10\" class=\"data row1 col10\" >0.000217</td>\n",
              "      <td id=\"T_04ab8_row1_col11\" class=\"data row1 col11\" >0.000229</td>\n",
              "      <td id=\"T_04ab8_row1_col12\" class=\"data row1 col12\" >0.000015</td>\n",
              "      <td id=\"T_04ab8_row1_col13\" class=\"data row1 col13\" >0.000015</td>\n",
              "      <td id=\"T_04ab8_row1_col14\" class=\"data row1 col14\" >0.000019</td>\n",
              "    </tr>\n",
              "    <tr>\n",
              "      <th id=\"T_04ab8_level0_row2\" class=\"row_heading level0 row2\" >2</th>\n",
              "      <td id=\"T_04ab8_row2_col0\" class=\"data row2 col0\" >0.012039</td>\n",
              "      <td id=\"T_04ab8_row2_col1\" class=\"data row2 col1\" >0.012039</td>\n",
              "      <td id=\"T_04ab8_row2_col2\" class=\"data row2 col2\" >0.008569</td>\n",
              "      <td id=\"T_04ab8_row2_col3\" class=\"data row2 col3\" >0.000076</td>\n",
              "      <td id=\"T_04ab8_row2_col4\" class=\"data row2 col4\" >0.000076</td>\n",
              "      <td id=\"T_04ab8_row2_col5\" class=\"data row2 col5\" >0.000049</td>\n",
              "      <td id=\"T_04ab8_row2_col6\" class=\"data row2 col6\" >0.986973</td>\n",
              "      <td id=\"T_04ab8_row2_col7\" class=\"data row2 col7\" >0.986974</td>\n",
              "      <td id=\"T_04ab8_row2_col8\" class=\"data row2 col8\" >0.990677</td>\n",
              "      <td id=\"T_04ab8_row2_col9\" class=\"data row2 col9\" >0.000900</td>\n",
              "      <td id=\"T_04ab8_row2_col10\" class=\"data row2 col10\" >0.000900</td>\n",
              "      <td id=\"T_04ab8_row2_col11\" class=\"data row2 col11\" >0.000696</td>\n",
              "      <td id=\"T_04ab8_row2_col12\" class=\"data row2 col12\" >0.000011</td>\n",
              "      <td id=\"T_04ab8_row2_col13\" class=\"data row2 col13\" >0.000011</td>\n",
              "      <td id=\"T_04ab8_row2_col14\" class=\"data row2 col14\" >0.000008</td>\n",
              "    </tr>\n",
              "    <tr>\n",
              "      <th id=\"T_04ab8_level0_row3\" class=\"row_heading level0 row3\" >3</th>\n",
              "      <td id=\"T_04ab8_row3_col0\" class=\"data row3 col0\" >0.039455</td>\n",
              "      <td id=\"T_04ab8_row3_col1\" class=\"data row3 col1\" >0.039456</td>\n",
              "      <td id=\"T_04ab8_row3_col2\" class=\"data row3 col2\" >0.037858</td>\n",
              "      <td id=\"T_04ab8_row3_col3\" class=\"data row3 col3\" >0.042972</td>\n",
              "      <td id=\"T_04ab8_row3_col4\" class=\"data row3 col4\" >0.042971</td>\n",
              "      <td id=\"T_04ab8_row3_col5\" class=\"data row3 col5\" >0.043739</td>\n",
              "      <td id=\"T_04ab8_row3_col6\" class=\"data row3 col6\" >0.040458</td>\n",
              "      <td id=\"T_04ab8_row3_col7\" class=\"data row3 col7\" >0.040459</td>\n",
              "      <td id=\"T_04ab8_row3_col8\" class=\"data row3 col8\" >0.052951</td>\n",
              "      <td id=\"T_04ab8_row3_col9\" class=\"data row3 col9\" >0.875964</td>\n",
              "      <td id=\"T_04ab8_row3_col10\" class=\"data row3 col10\" >0.875963</td>\n",
              "      <td id=\"T_04ab8_row3_col11\" class=\"data row3 col11\" >0.863894</td>\n",
              "      <td id=\"T_04ab8_row3_col12\" class=\"data row3 col12\" >0.001151</td>\n",
              "      <td id=\"T_04ab8_row3_col13\" class=\"data row3 col13\" >0.001151</td>\n",
              "      <td id=\"T_04ab8_row3_col14\" class=\"data row3 col14\" >0.001557</td>\n",
              "    </tr>\n",
              "    <tr>\n",
              "      <th id=\"T_04ab8_level0_row4\" class=\"row_heading level0 row4\" >4</th>\n",
              "      <td id=\"T_04ab8_row4_col0\" class=\"data row4 col0\" >0.202322</td>\n",
              "      <td id=\"T_04ab8_row4_col1\" class=\"data row4 col1\" >0.202319</td>\n",
              "      <td id=\"T_04ab8_row4_col2\" class=\"data row4 col2\" >0.192315</td>\n",
              "      <td id=\"T_04ab8_row4_col3\" class=\"data row4 col3\" >0.041112</td>\n",
              "      <td id=\"T_04ab8_row4_col4\" class=\"data row4 col4\" >0.041112</td>\n",
              "      <td id=\"T_04ab8_row4_col5\" class=\"data row4 col5\" >0.041054</td>\n",
              "      <td id=\"T_04ab8_row4_col6\" class=\"data row4 col6\" >0.045393</td>\n",
              "      <td id=\"T_04ab8_row4_col7\" class=\"data row4 col7\" >0.045394</td>\n",
              "      <td id=\"T_04ab8_row4_col8\" class=\"data row4 col8\" >0.066063</td>\n",
              "      <td id=\"T_04ab8_row4_col9\" class=\"data row4 col9\" >0.707072</td>\n",
              "      <td id=\"T_04ab8_row4_col10\" class=\"data row4 col10\" >0.707074</td>\n",
              "      <td id=\"T_04ab8_row4_col11\" class=\"data row4 col11\" >0.695412</td>\n",
              "      <td id=\"T_04ab8_row4_col12\" class=\"data row4 col12\" >0.004100</td>\n",
              "      <td id=\"T_04ab8_row4_col13\" class=\"data row4 col13\" >0.004100</td>\n",
              "      <td id=\"T_04ab8_row4_col14\" class=\"data row4 col14\" >0.005155</td>\n",
              "    </tr>\n",
              "    <tr>\n",
              "      <th id=\"T_04ab8_level0_row5\" class=\"row_heading level0 row5\" >5</th>\n",
              "      <td id=\"T_04ab8_row5_col0\" class=\"data row5 col0\" >0.000000</td>\n",
              "      <td id=\"T_04ab8_row5_col1\" class=\"data row5 col1\" >0.000000</td>\n",
              "      <td id=\"T_04ab8_row5_col2\" class=\"data row5 col2\" >0.000000</td>\n",
              "      <td id=\"T_04ab8_row5_col3\" class=\"data row5 col3\" >0.000000</td>\n",
              "      <td id=\"T_04ab8_row5_col4\" class=\"data row5 col4\" >0.000000</td>\n",
              "      <td id=\"T_04ab8_row5_col5\" class=\"data row5 col5\" >0.000000</td>\n",
              "      <td id=\"T_04ab8_row5_col6\" class=\"data row5 col6\" >0.000000</td>\n",
              "      <td id=\"T_04ab8_row5_col7\" class=\"data row5 col7\" >0.000000</td>\n",
              "      <td id=\"T_04ab8_row5_col8\" class=\"data row5 col8\" >0.000000</td>\n",
              "      <td id=\"T_04ab8_row5_col9\" class=\"data row5 col9\" >0.000000</td>\n",
              "      <td id=\"T_04ab8_row5_col10\" class=\"data row5 col10\" >0.000000</td>\n",
              "      <td id=\"T_04ab8_row5_col11\" class=\"data row5 col11\" >0.000000</td>\n",
              "      <td id=\"T_04ab8_row5_col12\" class=\"data row5 col12\" >1.000000</td>\n",
              "      <td id=\"T_04ab8_row5_col13\" class=\"data row5 col13\" >1.000000</td>\n",
              "      <td id=\"T_04ab8_row5_col14\" class=\"data row5 col14\" >1.000000</td>\n",
              "    </tr>\n",
              "    <tr>\n",
              "      <th id=\"T_04ab8_level0_row6\" class=\"row_heading level0 row6\" >6</th>\n",
              "      <td id=\"T_04ab8_row6_col0\" class=\"data row6 col0\" >0.999823</td>\n",
              "      <td id=\"T_04ab8_row6_col1\" class=\"data row6 col1\" >0.999824</td>\n",
              "      <td id=\"T_04ab8_row6_col2\" class=\"data row6 col2\" >0.999637</td>\n",
              "      <td id=\"T_04ab8_row6_col3\" class=\"data row6 col3\" >0.000037</td>\n",
              "      <td id=\"T_04ab8_row6_col4\" class=\"data row6 col4\" >0.000037</td>\n",
              "      <td id=\"T_04ab8_row6_col5\" class=\"data row6 col5\" >0.000056</td>\n",
              "      <td id=\"T_04ab8_row6_col6\" class=\"data row6 col6\" >0.000137</td>\n",
              "      <td id=\"T_04ab8_row6_col7\" class=\"data row6 col7\" >0.000137</td>\n",
              "      <td id=\"T_04ab8_row6_col8\" class=\"data row6 col8\" >0.000301</td>\n",
              "      <td id=\"T_04ab8_row6_col9\" class=\"data row6 col9\" >0.000002</td>\n",
              "      <td id=\"T_04ab8_row6_col10\" class=\"data row6 col10\" >0.000002</td>\n",
              "      <td id=\"T_04ab8_row6_col11\" class=\"data row6 col11\" >0.000005</td>\n",
              "      <td id=\"T_04ab8_row6_col12\" class=\"data row6 col12\" >0.000000</td>\n",
              "      <td id=\"T_04ab8_row6_col13\" class=\"data row6 col13\" >0.000000</td>\n",
              "      <td id=\"T_04ab8_row6_col14\" class=\"data row6 col14\" >0.000000</td>\n",
              "    </tr>\n",
              "    <tr>\n",
              "      <th id=\"T_04ab8_level0_row7\" class=\"row_heading level0 row7\" >7</th>\n",
              "      <td id=\"T_04ab8_row7_col0\" class=\"data row7 col0\" >0.015909</td>\n",
              "      <td id=\"T_04ab8_row7_col1\" class=\"data row7 col1\" >0.015909</td>\n",
              "      <td id=\"T_04ab8_row7_col2\" class=\"data row7 col2\" >0.013587</td>\n",
              "      <td id=\"T_04ab8_row7_col3\" class=\"data row7 col3\" >0.000124</td>\n",
              "      <td id=\"T_04ab8_row7_col4\" class=\"data row7 col4\" >0.000124</td>\n",
              "      <td id=\"T_04ab8_row7_col5\" class=\"data row7 col5\" >0.000093</td>\n",
              "      <td id=\"T_04ab8_row7_col6\" class=\"data row7 col6\" >0.981695</td>\n",
              "      <td id=\"T_04ab8_row7_col7\" class=\"data row7 col7\" >0.981695</td>\n",
              "      <td id=\"T_04ab8_row7_col8\" class=\"data row7 col8\" >0.984626</td>\n",
              "      <td id=\"T_04ab8_row7_col9\" class=\"data row7 col9\" >0.002258</td>\n",
              "      <td id=\"T_04ab8_row7_col10\" class=\"data row7 col10\" >0.002258</td>\n",
              "      <td id=\"T_04ab8_row7_col11\" class=\"data row7 col11\" >0.001682</td>\n",
              "      <td id=\"T_04ab8_row7_col12\" class=\"data row7 col12\" >0.000015</td>\n",
              "      <td id=\"T_04ab8_row7_col13\" class=\"data row7 col13\" >0.000015</td>\n",
              "      <td id=\"T_04ab8_row7_col14\" class=\"data row7 col14\" >0.000011</td>\n",
              "    </tr>\n",
              "    <tr>\n",
              "      <th id=\"T_04ab8_level0_row8\" class=\"row_heading level0 row8\" >8</th>\n",
              "      <td id=\"T_04ab8_row8_col0\" class=\"data row8 col0\" >0.033897</td>\n",
              "      <td id=\"T_04ab8_row8_col1\" class=\"data row8 col1\" >0.033897</td>\n",
              "      <td id=\"T_04ab8_row8_col2\" class=\"data row8 col2\" >0.038392</td>\n",
              "      <td id=\"T_04ab8_row8_col3\" class=\"data row8 col3\" >0.010073</td>\n",
              "      <td id=\"T_04ab8_row8_col4\" class=\"data row8 col4\" >0.010073</td>\n",
              "      <td id=\"T_04ab8_row8_col5\" class=\"data row8 col5\" >0.010470</td>\n",
              "      <td id=\"T_04ab8_row8_col6\" class=\"data row8 col6\" >0.043826</td>\n",
              "      <td id=\"T_04ab8_row8_col7\" class=\"data row8 col7\" >0.043827</td>\n",
              "      <td id=\"T_04ab8_row8_col8\" class=\"data row8 col8\" >0.069764</td>\n",
              "      <td id=\"T_04ab8_row8_col9\" class=\"data row8 col9\" >0.909573</td>\n",
              "      <td id=\"T_04ab8_row8_col10\" class=\"data row8 col10\" >0.909573</td>\n",
              "      <td id=\"T_04ab8_row8_col11\" class=\"data row8 col11\" >0.878145</td>\n",
              "      <td id=\"T_04ab8_row8_col12\" class=\"data row8 col12\" >0.002630</td>\n",
              "      <td id=\"T_04ab8_row8_col13\" class=\"data row8 col13\" >0.002630</td>\n",
              "      <td id=\"T_04ab8_row8_col14\" class=\"data row8 col14\" >0.003230</td>\n",
              "    </tr>\n",
              "    <tr>\n",
              "      <th id=\"T_04ab8_level0_row9\" class=\"row_heading level0 row9\" >9</th>\n",
              "      <td id=\"T_04ab8_row9_col0\" class=\"data row9 col0\" >0.000042</td>\n",
              "      <td id=\"T_04ab8_row9_col1\" class=\"data row9 col1\" >0.000042</td>\n",
              "      <td id=\"T_04ab8_row9_col2\" class=\"data row9 col2\" >0.000092</td>\n",
              "      <td id=\"T_04ab8_row9_col3\" class=\"data row9 col3\" >0.000002</td>\n",
              "      <td id=\"T_04ab8_row9_col4\" class=\"data row9 col4\" >0.000002</td>\n",
              "      <td id=\"T_04ab8_row9_col5\" class=\"data row9 col5\" >0.000006</td>\n",
              "      <td id=\"T_04ab8_row9_col6\" class=\"data row9 col6\" >0.000005</td>\n",
              "      <td id=\"T_04ab8_row9_col7\" class=\"data row9 col7\" >0.000005</td>\n",
              "      <td id=\"T_04ab8_row9_col8\" class=\"data row9 col8\" >0.000011</td>\n",
              "      <td id=\"T_04ab8_row9_col9\" class=\"data row9 col9\" >0.000081</td>\n",
              "      <td id=\"T_04ab8_row9_col10\" class=\"data row9 col10\" >0.000081</td>\n",
              "      <td id=\"T_04ab8_row9_col11\" class=\"data row9 col11\" >0.000167</td>\n",
              "      <td id=\"T_04ab8_row9_col12\" class=\"data row9 col12\" >0.999870</td>\n",
              "      <td id=\"T_04ab8_row9_col13\" class=\"data row9 col13\" >0.999870</td>\n",
              "      <td id=\"T_04ab8_row9_col14\" class=\"data row9 col14\" >0.999724</td>\n",
              "    </tr>\n",
              "    <tr>\n",
              "      <th id=\"T_04ab8_level0_row10\" class=\"row_heading level0 row10\" >10</th>\n",
              "      <td id=\"T_04ab8_row10_col0\" class=\"data row10 col0\" >0.034870</td>\n",
              "      <td id=\"T_04ab8_row10_col1\" class=\"data row10 col1\" >0.034870</td>\n",
              "      <td id=\"T_04ab8_row10_col2\" class=\"data row10 col2\" >0.037443</td>\n",
              "      <td id=\"T_04ab8_row10_col3\" class=\"data row10 col3\" >0.958253</td>\n",
              "      <td id=\"T_04ab8_row10_col4\" class=\"data row10 col4\" >0.958253</td>\n",
              "      <td id=\"T_04ab8_row10_col5\" class=\"data row10 col5\" >0.953920</td>\n",
              "      <td id=\"T_04ab8_row10_col6\" class=\"data row10 col6\" >0.000164</td>\n",
              "      <td id=\"T_04ab8_row10_col7\" class=\"data row10 col7\" >0.000164</td>\n",
              "      <td id=\"T_04ab8_row10_col8\" class=\"data row10 col8\" >0.000283</td>\n",
              "      <td id=\"T_04ab8_row10_col9\" class=\"data row10 col9\" >0.006640</td>\n",
              "      <td id=\"T_04ab8_row10_col10\" class=\"data row10 col10\" >0.006640</td>\n",
              "      <td id=\"T_04ab8_row10_col11\" class=\"data row10 col11\" >0.008255</td>\n",
              "      <td id=\"T_04ab8_row10_col12\" class=\"data row10 col12\" >0.000074</td>\n",
              "      <td id=\"T_04ab8_row10_col13\" class=\"data row10 col13\" >0.000074</td>\n",
              "      <td id=\"T_04ab8_row10_col14\" class=\"data row10 col14\" >0.000099</td>\n",
              "    </tr>\n",
              "    <tr>\n",
              "      <th id=\"T_04ab8_level0_row11\" class=\"row_heading level0 row11\" >11</th>\n",
              "      <td id=\"T_04ab8_row11_col0\" class=\"data row11 col0\" >0.006466</td>\n",
              "      <td id=\"T_04ab8_row11_col1\" class=\"data row11 col1\" >0.006466</td>\n",
              "      <td id=\"T_04ab8_row11_col2\" class=\"data row11 col2\" >0.004916</td>\n",
              "      <td id=\"T_04ab8_row11_col3\" class=\"data row11 col3\" >0.000030</td>\n",
              "      <td id=\"T_04ab8_row11_col4\" class=\"data row11 col4\" >0.000030</td>\n",
              "      <td id=\"T_04ab8_row11_col5\" class=\"data row11 col5\" >0.000019</td>\n",
              "      <td id=\"T_04ab8_row11_col6\" class=\"data row11 col6\" >0.992875</td>\n",
              "      <td id=\"T_04ab8_row11_col7\" class=\"data row11 col7\" >0.992876</td>\n",
              "      <td id=\"T_04ab8_row11_col8\" class=\"data row11 col8\" >0.994645</td>\n",
              "      <td id=\"T_04ab8_row11_col9\" class=\"data row11 col9\" >0.000622</td>\n",
              "      <td id=\"T_04ab8_row11_col10\" class=\"data row11 col10\" >0.000622</td>\n",
              "      <td id=\"T_04ab8_row11_col11\" class=\"data row11 col11\" >0.000417</td>\n",
              "      <td id=\"T_04ab8_row11_col12\" class=\"data row11 col12\" >0.000006</td>\n",
              "      <td id=\"T_04ab8_row11_col13\" class=\"data row11 col13\" >0.000006</td>\n",
              "      <td id=\"T_04ab8_row11_col14\" class=\"data row11 col14\" >0.000004</td>\n",
              "    </tr>\n",
              "    <tr>\n",
              "      <th id=\"T_04ab8_level0_row12\" class=\"row_heading level0 row12\" >12</th>\n",
              "      <td id=\"T_04ab8_row12_col0\" class=\"data row12 col0\" >0.000176</td>\n",
              "      <td id=\"T_04ab8_row12_col1\" class=\"data row12 col1\" >0.000176</td>\n",
              "      <td id=\"T_04ab8_row12_col2\" class=\"data row12 col2\" >0.000171</td>\n",
              "      <td id=\"T_04ab8_row12_col3\" class=\"data row12 col3\" >0.000008</td>\n",
              "      <td id=\"T_04ab8_row12_col4\" class=\"data row12 col4\" >0.000008</td>\n",
              "      <td id=\"T_04ab8_row12_col5\" class=\"data row12 col5\" >0.000009</td>\n",
              "      <td id=\"T_04ab8_row12_col6\" class=\"data row12 col6\" >0.000021</td>\n",
              "      <td id=\"T_04ab8_row12_col7\" class=\"data row12 col7\" >0.000021</td>\n",
              "      <td id=\"T_04ab8_row12_col8\" class=\"data row12 col8\" >0.000026</td>\n",
              "      <td id=\"T_04ab8_row12_col9\" class=\"data row12 col9\" >0.000281</td>\n",
              "      <td id=\"T_04ab8_row12_col10\" class=\"data row12 col10\" >0.000281</td>\n",
              "      <td id=\"T_04ab8_row12_col11\" class=\"data row12 col11\" >0.000262</td>\n",
              "      <td id=\"T_04ab8_row12_col12\" class=\"data row12 col12\" >0.999514</td>\n",
              "      <td id=\"T_04ab8_row12_col13\" class=\"data row12 col13\" >0.999515</td>\n",
              "      <td id=\"T_04ab8_row12_col14\" class=\"data row12 col14\" >0.999532</td>\n",
              "    </tr>\n",
              "    <tr>\n",
              "      <th id=\"T_04ab8_level0_row13\" class=\"row_heading level0 row13\" >13</th>\n",
              "      <td id=\"T_04ab8_row13_col0\" class=\"data row13 col0\" >0.003079</td>\n",
              "      <td id=\"T_04ab8_row13_col1\" class=\"data row13 col1\" >0.003079</td>\n",
              "      <td id=\"T_04ab8_row13_col2\" class=\"data row13 col2\" >0.002778</td>\n",
              "      <td id=\"T_04ab8_row13_col3\" class=\"data row13 col3\" >0.000015</td>\n",
              "      <td id=\"T_04ab8_row13_col4\" class=\"data row13 col4\" >0.000015</td>\n",
              "      <td id=\"T_04ab8_row13_col5\" class=\"data row13 col5\" >0.000011</td>\n",
              "      <td id=\"T_04ab8_row13_col6\" class=\"data row13 col6\" >0.996395</td>\n",
              "      <td id=\"T_04ab8_row13_col7\" class=\"data row13 col7\" >0.996395</td>\n",
              "      <td id=\"T_04ab8_row13_col8\" class=\"data row13 col8\" >0.996826</td>\n",
              "      <td id=\"T_04ab8_row13_col9\" class=\"data row13 col9\" >0.000508</td>\n",
              "      <td id=\"T_04ab8_row13_col10\" class=\"data row13 col10\" >0.000508</td>\n",
              "      <td id=\"T_04ab8_row13_col11\" class=\"data row13 col11\" >0.000383</td>\n",
              "      <td id=\"T_04ab8_row13_col12\" class=\"data row13 col12\" >0.000003</td>\n",
              "      <td id=\"T_04ab8_row13_col13\" class=\"data row13 col13\" >0.000003</td>\n",
              "      <td id=\"T_04ab8_row13_col14\" class=\"data row13 col14\" >0.000002</td>\n",
              "    </tr>\n",
              "    <tr>\n",
              "      <th id=\"T_04ab8_level0_row14\" class=\"row_heading level0 row14\" >14</th>\n",
              "      <td id=\"T_04ab8_row14_col0\" class=\"data row14 col0\" >0.000000</td>\n",
              "      <td id=\"T_04ab8_row14_col1\" class=\"data row14 col1\" >0.000000</td>\n",
              "      <td id=\"T_04ab8_row14_col2\" class=\"data row14 col2\" >0.000000</td>\n",
              "      <td id=\"T_04ab8_row14_col3\" class=\"data row14 col3\" >0.000000</td>\n",
              "      <td id=\"T_04ab8_row14_col4\" class=\"data row14 col4\" >0.000000</td>\n",
              "      <td id=\"T_04ab8_row14_col5\" class=\"data row14 col5\" >0.000000</td>\n",
              "      <td id=\"T_04ab8_row14_col6\" class=\"data row14 col6\" >0.000000</td>\n",
              "      <td id=\"T_04ab8_row14_col7\" class=\"data row14 col7\" >0.000000</td>\n",
              "      <td id=\"T_04ab8_row14_col8\" class=\"data row14 col8\" >0.000000</td>\n",
              "      <td id=\"T_04ab8_row14_col9\" class=\"data row14 col9\" >0.000000</td>\n",
              "      <td id=\"T_04ab8_row14_col10\" class=\"data row14 col10\" >0.000000</td>\n",
              "      <td id=\"T_04ab8_row14_col11\" class=\"data row14 col11\" >0.000000</td>\n",
              "      <td id=\"T_04ab8_row14_col12\" class=\"data row14 col12\" >1.000000</td>\n",
              "      <td id=\"T_04ab8_row14_col13\" class=\"data row14 col13\" >1.000000</td>\n",
              "      <td id=\"T_04ab8_row14_col14\" class=\"data row14 col14\" >1.000000</td>\n",
              "    </tr>\n",
              "    <tr>\n",
              "      <th id=\"T_04ab8_level0_row15\" class=\"row_heading level0 row15\" >15</th>\n",
              "      <td id=\"T_04ab8_row15_col0\" class=\"data row15 col0\" >0.000028</td>\n",
              "      <td id=\"T_04ab8_row15_col1\" class=\"data row15 col1\" >0.000028</td>\n",
              "      <td id=\"T_04ab8_row15_col2\" class=\"data row15 col2\" >0.000043</td>\n",
              "      <td id=\"T_04ab8_row15_col3\" class=\"data row15 col3\" >0.000001</td>\n",
              "      <td id=\"T_04ab8_row15_col4\" class=\"data row15 col4\" >0.000001</td>\n",
              "      <td id=\"T_04ab8_row15_col5\" class=\"data row15 col5\" >0.000001</td>\n",
              "      <td id=\"T_04ab8_row15_col6\" class=\"data row15 col6\" >0.000006</td>\n",
              "      <td id=\"T_04ab8_row15_col7\" class=\"data row15 col7\" >0.000006</td>\n",
              "      <td id=\"T_04ab8_row15_col8\" class=\"data row15 col8\" >0.000009</td>\n",
              "      <td id=\"T_04ab8_row15_col9\" class=\"data row15 col9\" >0.000034</td>\n",
              "      <td id=\"T_04ab8_row15_col10\" class=\"data row15 col10\" >0.000034</td>\n",
              "      <td id=\"T_04ab8_row15_col11\" class=\"data row15 col11\" >0.000048</td>\n",
              "      <td id=\"T_04ab8_row15_col12\" class=\"data row15 col12\" >0.999931</td>\n",
              "      <td id=\"T_04ab8_row15_col13\" class=\"data row15 col13\" >0.999931</td>\n",
              "      <td id=\"T_04ab8_row15_col14\" class=\"data row15 col14\" >0.999898</td>\n",
              "    </tr>\n",
              "    <tr>\n",
              "      <th id=\"T_04ab8_level0_row16\" class=\"row_heading level0 row16\" >16</th>\n",
              "      <td id=\"T_04ab8_row16_col0\" class=\"data row16 col0\" >0.999853</td>\n",
              "      <td id=\"T_04ab8_row16_col1\" class=\"data row16 col1\" >0.999854</td>\n",
              "      <td id=\"T_04ab8_row16_col2\" class=\"data row16 col2\" >0.999768</td>\n",
              "      <td id=\"T_04ab8_row16_col3\" class=\"data row16 col3\" >0.000063</td>\n",
              "      <td id=\"T_04ab8_row16_col4\" class=\"data row16 col4\" >0.000063</td>\n",
              "      <td id=\"T_04ab8_row16_col5\" class=\"data row16 col5\" >0.000078</td>\n",
              "      <td id=\"T_04ab8_row16_col6\" class=\"data row16 col6\" >0.000080</td>\n",
              "      <td id=\"T_04ab8_row16_col7\" class=\"data row16 col7\" >0.000080</td>\n",
              "      <td id=\"T_04ab8_row16_col8\" class=\"data row16 col8\" >0.000149</td>\n",
              "      <td id=\"T_04ab8_row16_col9\" class=\"data row16 col9\" >0.000003</td>\n",
              "      <td id=\"T_04ab8_row16_col10\" class=\"data row16 col10\" >0.000003</td>\n",
              "      <td id=\"T_04ab8_row16_col11\" class=\"data row16 col11\" >0.000005</td>\n",
              "      <td id=\"T_04ab8_row16_col12\" class=\"data row16 col12\" >0.000000</td>\n",
              "      <td id=\"T_04ab8_row16_col13\" class=\"data row16 col13\" >0.000000</td>\n",
              "      <td id=\"T_04ab8_row16_col14\" class=\"data row16 col14\" >0.000000</td>\n",
              "    </tr>\n",
              "    <tr>\n",
              "      <th id=\"T_04ab8_level0_row17\" class=\"row_heading level0 row17\" >17</th>\n",
              "      <td id=\"T_04ab8_row17_col0\" class=\"data row17 col0\" >0.003266</td>\n",
              "      <td id=\"T_04ab8_row17_col1\" class=\"data row17 col1\" >0.003266</td>\n",
              "      <td id=\"T_04ab8_row17_col2\" class=\"data row17 col2\" >0.002631</td>\n",
              "      <td id=\"T_04ab8_row17_col3\" class=\"data row17 col3\" >0.000015</td>\n",
              "      <td id=\"T_04ab8_row17_col4\" class=\"data row17 col4\" >0.000015</td>\n",
              "      <td id=\"T_04ab8_row17_col5\" class=\"data row17 col5\" >0.000010</td>\n",
              "      <td id=\"T_04ab8_row17_col6\" class=\"data row17 col6\" >0.996147</td>\n",
              "      <td id=\"T_04ab8_row17_col7\" class=\"data row17 col7\" >0.996147</td>\n",
              "      <td id=\"T_04ab8_row17_col8\" class=\"data row17 col8\" >0.996929</td>\n",
              "      <td id=\"T_04ab8_row17_col9\" class=\"data row17 col9\" >0.000570</td>\n",
              "      <td id=\"T_04ab8_row17_col10\" class=\"data row17 col10\" >0.000570</td>\n",
              "      <td id=\"T_04ab8_row17_col11\" class=\"data row17 col11\" >0.000428</td>\n",
              "      <td id=\"T_04ab8_row17_col12\" class=\"data row17 col12\" >0.000003</td>\n",
              "      <td id=\"T_04ab8_row17_col13\" class=\"data row17 col13\" >0.000003</td>\n",
              "      <td id=\"T_04ab8_row17_col14\" class=\"data row17 col14\" >0.000002</td>\n",
              "    </tr>\n",
              "    <tr>\n",
              "      <th id=\"T_04ab8_level0_row18\" class=\"row_heading level0 row18\" >18</th>\n",
              "      <td id=\"T_04ab8_row18_col0\" class=\"data row18 col0\" >0.999610</td>\n",
              "      <td id=\"T_04ab8_row18_col1\" class=\"data row18 col1\" >0.999610</td>\n",
              "      <td id=\"T_04ab8_row18_col2\" class=\"data row18 col2\" >0.999122</td>\n",
              "      <td id=\"T_04ab8_row18_col3\" class=\"data row18 col3\" >0.000081</td>\n",
              "      <td id=\"T_04ab8_row18_col4\" class=\"data row18 col4\" >0.000081</td>\n",
              "      <td id=\"T_04ab8_row18_col5\" class=\"data row18 col5\" >0.000152</td>\n",
              "      <td id=\"T_04ab8_row18_col6\" class=\"data row18 col6\" >0.000303</td>\n",
              "      <td id=\"T_04ab8_row18_col7\" class=\"data row18 col7\" >0.000303</td>\n",
              "      <td id=\"T_04ab8_row18_col8\" class=\"data row18 col8\" >0.000709</td>\n",
              "      <td id=\"T_04ab8_row18_col9\" class=\"data row18 col9\" >0.000006</td>\n",
              "      <td id=\"T_04ab8_row18_col10\" class=\"data row18 col10\" >0.000006</td>\n",
              "      <td id=\"T_04ab8_row18_col11\" class=\"data row18 col11\" >0.000016</td>\n",
              "      <td id=\"T_04ab8_row18_col12\" class=\"data row18 col12\" >0.000000</td>\n",
              "      <td id=\"T_04ab8_row18_col13\" class=\"data row18 col13\" >0.000000</td>\n",
              "      <td id=\"T_04ab8_row18_col14\" class=\"data row18 col14\" >0.000001</td>\n",
              "    </tr>\n",
              "    <tr>\n",
              "      <th id=\"T_04ab8_level0_row19\" class=\"row_heading level0 row19\" >19</th>\n",
              "      <td id=\"T_04ab8_row19_col0\" class=\"data row19 col0\" >0.000065</td>\n",
              "      <td id=\"T_04ab8_row19_col1\" class=\"data row19 col1\" >0.000065</td>\n",
              "      <td id=\"T_04ab8_row19_col2\" class=\"data row19 col2\" >0.000113</td>\n",
              "      <td id=\"T_04ab8_row19_col3\" class=\"data row19 col3\" >0.000002</td>\n",
              "      <td id=\"T_04ab8_row19_col4\" class=\"data row19 col4\" >0.000002</td>\n",
              "      <td id=\"T_04ab8_row19_col5\" class=\"data row19 col5\" >0.000004</td>\n",
              "      <td id=\"T_04ab8_row19_col6\" class=\"data row19 col6\" >0.000009</td>\n",
              "      <td id=\"T_04ab8_row19_col7\" class=\"data row19 col7\" >0.000009</td>\n",
              "      <td id=\"T_04ab8_row19_col8\" class=\"data row19 col8\" >0.000015</td>\n",
              "      <td id=\"T_04ab8_row19_col9\" class=\"data row19 col9\" >0.000101</td>\n",
              "      <td id=\"T_04ab8_row19_col10\" class=\"data row19 col10\" >0.000101</td>\n",
              "      <td id=\"T_04ab8_row19_col11\" class=\"data row19 col11\" >0.000162</td>\n",
              "      <td id=\"T_04ab8_row19_col12\" class=\"data row19 col12\" >0.999824</td>\n",
              "      <td id=\"T_04ab8_row19_col13\" class=\"data row19 col13\" >0.999824</td>\n",
              "      <td id=\"T_04ab8_row19_col14\" class=\"data row19 col14\" >0.999706</td>\n",
              "    </tr>\n",
              "    <tr>\n",
              "      <th id=\"T_04ab8_level0_row20\" class=\"row_heading level0 row20\" >20</th>\n",
              "      <td id=\"T_04ab8_row20_col0\" class=\"data row20 col0\" >0.033576</td>\n",
              "      <td id=\"T_04ab8_row20_col1\" class=\"data row20 col1\" >0.033576</td>\n",
              "      <td id=\"T_04ab8_row20_col2\" class=\"data row20 col2\" >0.039065</td>\n",
              "      <td id=\"T_04ab8_row20_col3\" class=\"data row20 col3\" >0.010974</td>\n",
              "      <td id=\"T_04ab8_row20_col4\" class=\"data row20 col4\" >0.010974</td>\n",
              "      <td id=\"T_04ab8_row20_col5\" class=\"data row20 col5\" >0.010452</td>\n",
              "      <td id=\"T_04ab8_row20_col6\" class=\"data row20 col6\" >0.005065</td>\n",
              "      <td id=\"T_04ab8_row20_col7\" class=\"data row20 col7\" >0.005066</td>\n",
              "      <td id=\"T_04ab8_row20_col8\" class=\"data row20 col8\" >0.008483</td>\n",
              "      <td id=\"T_04ab8_row20_col9\" class=\"data row20 col9\" >0.947810</td>\n",
              "      <td id=\"T_04ab8_row20_col10\" class=\"data row20 col10\" >0.947810</td>\n",
              "      <td id=\"T_04ab8_row20_col11\" class=\"data row20 col11\" >0.937033</td>\n",
              "      <td id=\"T_04ab8_row20_col12\" class=\"data row20 col12\" >0.002575</td>\n",
              "      <td id=\"T_04ab8_row20_col13\" class=\"data row20 col13\" >0.002575</td>\n",
              "      <td id=\"T_04ab8_row20_col14\" class=\"data row20 col14\" >0.004967</td>\n",
              "    </tr>\n",
              "    <tr>\n",
              "      <th id=\"T_04ab8_level0_row21\" class=\"row_heading level0 row21\" >21</th>\n",
              "      <td id=\"T_04ab8_row21_col0\" class=\"data row21 col0\" >0.999799</td>\n",
              "      <td id=\"T_04ab8_row21_col1\" class=\"data row21 col1\" >0.999799</td>\n",
              "      <td id=\"T_04ab8_row21_col2\" class=\"data row21 col2\" >0.999519</td>\n",
              "      <td id=\"T_04ab8_row21_col3\" class=\"data row21 col3\" >0.000039</td>\n",
              "      <td id=\"T_04ab8_row21_col4\" class=\"data row21 col4\" >0.000039</td>\n",
              "      <td id=\"T_04ab8_row21_col5\" class=\"data row21 col5\" >0.000078</td>\n",
              "      <td id=\"T_04ab8_row21_col6\" class=\"data row21 col6\" >0.000161</td>\n",
              "      <td id=\"T_04ab8_row21_col7\" class=\"data row21 col7\" >0.000161</td>\n",
              "      <td id=\"T_04ab8_row21_col8\" class=\"data row21 col8\" >0.000399</td>\n",
              "      <td id=\"T_04ab8_row21_col9\" class=\"data row21 col9\" >0.000001</td>\n",
              "      <td id=\"T_04ab8_row21_col10\" class=\"data row21 col10\" >0.000001</td>\n",
              "      <td id=\"T_04ab8_row21_col11\" class=\"data row21 col11\" >0.000004</td>\n",
              "      <td id=\"T_04ab8_row21_col12\" class=\"data row21 col12\" >0.000000</td>\n",
              "      <td id=\"T_04ab8_row21_col13\" class=\"data row21 col13\" >0.000000</td>\n",
              "      <td id=\"T_04ab8_row21_col14\" class=\"data row21 col14\" >0.000000</td>\n",
              "    </tr>\n",
              "    <tr>\n",
              "      <th id=\"T_04ab8_level0_row22\" class=\"row_heading level0 row22\" >22</th>\n",
              "      <td id=\"T_04ab8_row22_col0\" class=\"data row22 col0\" >0.065751</td>\n",
              "      <td id=\"T_04ab8_row22_col1\" class=\"data row22 col1\" >0.065752</td>\n",
              "      <td id=\"T_04ab8_row22_col2\" class=\"data row22 col2\" >0.083126</td>\n",
              "      <td id=\"T_04ab8_row22_col3\" class=\"data row22 col3\" >0.905122</td>\n",
              "      <td id=\"T_04ab8_row22_col4\" class=\"data row22 col4\" >0.905120</td>\n",
              "      <td id=\"T_04ab8_row22_col5\" class=\"data row22 col5\" >0.861329</td>\n",
              "      <td id=\"T_04ab8_row22_col6\" class=\"data row22 col6\" >0.001491</td>\n",
              "      <td id=\"T_04ab8_row22_col7\" class=\"data row22 col7\" >0.001491</td>\n",
              "      <td id=\"T_04ab8_row22_col8\" class=\"data row22 col8\" >0.003979</td>\n",
              "      <td id=\"T_04ab8_row22_col9\" class=\"data row22 col9\" >0.027252</td>\n",
              "      <td id=\"T_04ab8_row22_col10\" class=\"data row22 col10\" >0.027252</td>\n",
              "      <td id=\"T_04ab8_row22_col11\" class=\"data row22 col11\" >0.050938</td>\n",
              "      <td id=\"T_04ab8_row22_col12\" class=\"data row22 col12\" >0.000384</td>\n",
              "      <td id=\"T_04ab8_row22_col13\" class=\"data row22 col13\" >0.000384</td>\n",
              "      <td id=\"T_04ab8_row22_col14\" class=\"data row22 col14\" >0.000628</td>\n",
              "    </tr>\n",
              "    <tr>\n",
              "      <th id=\"T_04ab8_level0_row23\" class=\"row_heading level0 row23\" >23</th>\n",
              "      <td id=\"T_04ab8_row23_col0\" class=\"data row23 col0\" >0.000010</td>\n",
              "      <td id=\"T_04ab8_row23_col1\" class=\"data row23 col1\" >0.000010</td>\n",
              "      <td id=\"T_04ab8_row23_col2\" class=\"data row23 col2\" >0.000013</td>\n",
              "      <td id=\"T_04ab8_row23_col3\" class=\"data row23 col3\" >0.999990</td>\n",
              "      <td id=\"T_04ab8_row23_col4\" class=\"data row23 col4\" >0.999990</td>\n",
              "      <td id=\"T_04ab8_row23_col5\" class=\"data row23 col5\" >0.999986</td>\n",
              "      <td id=\"T_04ab8_row23_col6\" class=\"data row23 col6\" >0.000000</td>\n",
              "      <td id=\"T_04ab8_row23_col7\" class=\"data row23 col7\" >0.000000</td>\n",
              "      <td id=\"T_04ab8_row23_col8\" class=\"data row23 col8\" >0.000000</td>\n",
              "      <td id=\"T_04ab8_row23_col9\" class=\"data row23 col9\" >0.000000</td>\n",
              "      <td id=\"T_04ab8_row23_col10\" class=\"data row23 col10\" >0.000000</td>\n",
              "      <td id=\"T_04ab8_row23_col11\" class=\"data row23 col11\" >0.000001</td>\n",
              "      <td id=\"T_04ab8_row23_col12\" class=\"data row23 col12\" >0.000000</td>\n",
              "      <td id=\"T_04ab8_row23_col13\" class=\"data row23 col13\" >0.000000</td>\n",
              "      <td id=\"T_04ab8_row23_col14\" class=\"data row23 col14\" >0.000000</td>\n",
              "    </tr>\n",
              "    <tr>\n",
              "      <th id=\"T_04ab8_level0_row24\" class=\"row_heading level0 row24\" >24</th>\n",
              "      <td id=\"T_04ab8_row24_col0\" class=\"data row24 col0\" >0.000000</td>\n",
              "      <td id=\"T_04ab8_row24_col1\" class=\"data row24 col1\" >0.000000</td>\n",
              "      <td id=\"T_04ab8_row24_col2\" class=\"data row24 col2\" >0.000000</td>\n",
              "      <td id=\"T_04ab8_row24_col3\" class=\"data row24 col3\" >0.000000</td>\n",
              "      <td id=\"T_04ab8_row24_col4\" class=\"data row24 col4\" >0.000000</td>\n",
              "      <td id=\"T_04ab8_row24_col5\" class=\"data row24 col5\" >0.000000</td>\n",
              "      <td id=\"T_04ab8_row24_col6\" class=\"data row24 col6\" >0.000000</td>\n",
              "      <td id=\"T_04ab8_row24_col7\" class=\"data row24 col7\" >0.000000</td>\n",
              "      <td id=\"T_04ab8_row24_col8\" class=\"data row24 col8\" >0.000000</td>\n",
              "      <td id=\"T_04ab8_row24_col9\" class=\"data row24 col9\" >0.000000</td>\n",
              "      <td id=\"T_04ab8_row24_col10\" class=\"data row24 col10\" >0.000000</td>\n",
              "      <td id=\"T_04ab8_row24_col11\" class=\"data row24 col11\" >0.000000</td>\n",
              "      <td id=\"T_04ab8_row24_col12\" class=\"data row24 col12\" >1.000000</td>\n",
              "      <td id=\"T_04ab8_row24_col13\" class=\"data row24 col13\" >1.000000</td>\n",
              "      <td id=\"T_04ab8_row24_col14\" class=\"data row24 col14\" >1.000000</td>\n",
              "    </tr>\n",
              "    <tr>\n",
              "      <th id=\"T_04ab8_level0_row25\" class=\"row_heading level0 row25\" >25</th>\n",
              "      <td id=\"T_04ab8_row25_col0\" class=\"data row25 col0\" >0.018789</td>\n",
              "      <td id=\"T_04ab8_row25_col1\" class=\"data row25 col1\" >0.018789</td>\n",
              "      <td id=\"T_04ab8_row25_col2\" class=\"data row25 col2\" >0.022012</td>\n",
              "      <td id=\"T_04ab8_row25_col3\" class=\"data row25 col3\" >0.007106</td>\n",
              "      <td id=\"T_04ab8_row25_col4\" class=\"data row25 col4\" >0.007106</td>\n",
              "      <td id=\"T_04ab8_row25_col5\" class=\"data row25 col5\" >0.007710</td>\n",
              "      <td id=\"T_04ab8_row25_col6\" class=\"data row25 col6\" >0.006704</td>\n",
              "      <td id=\"T_04ab8_row25_col7\" class=\"data row25 col7\" >0.006704</td>\n",
              "      <td id=\"T_04ab8_row25_col8\" class=\"data row25 col8\" >0.011338</td>\n",
              "      <td id=\"T_04ab8_row25_col9\" class=\"data row25 col9\" >0.964284</td>\n",
              "      <td id=\"T_04ab8_row25_col10\" class=\"data row25 col10\" >0.964285</td>\n",
              "      <td id=\"T_04ab8_row25_col11\" class=\"data row25 col11\" >0.954250</td>\n",
              "      <td id=\"T_04ab8_row25_col12\" class=\"data row25 col12\" >0.003116</td>\n",
              "      <td id=\"T_04ab8_row25_col13\" class=\"data row25 col13\" >0.003116</td>\n",
              "      <td id=\"T_04ab8_row25_col14\" class=\"data row25 col14\" >0.004690</td>\n",
              "    </tr>\n",
              "    <tr>\n",
              "      <th id=\"T_04ab8_level0_row26\" class=\"row_heading level0 row26\" >26</th>\n",
              "      <td id=\"T_04ab8_row26_col0\" class=\"data row26 col0\" >0.999902</td>\n",
              "      <td id=\"T_04ab8_row26_col1\" class=\"data row26 col1\" >0.999902</td>\n",
              "      <td id=\"T_04ab8_row26_col2\" class=\"data row26 col2\" >0.999799</td>\n",
              "      <td id=\"T_04ab8_row26_col3\" class=\"data row26 col3\" >0.000029</td>\n",
              "      <td id=\"T_04ab8_row26_col4\" class=\"data row26 col4\" >0.000029</td>\n",
              "      <td id=\"T_04ab8_row26_col5\" class=\"data row26 col5\" >0.000052</td>\n",
              "      <td id=\"T_04ab8_row26_col6\" class=\"data row26 col6\" >0.000068</td>\n",
              "      <td id=\"T_04ab8_row26_col7\" class=\"data row26 col7\" >0.000068</td>\n",
              "      <td id=\"T_04ab8_row26_col8\" class=\"data row26 col8\" >0.000147</td>\n",
              "      <td id=\"T_04ab8_row26_col9\" class=\"data row26 col9\" >0.000001</td>\n",
              "      <td id=\"T_04ab8_row26_col10\" class=\"data row26 col10\" >0.000001</td>\n",
              "      <td id=\"T_04ab8_row26_col11\" class=\"data row26 col11\" >0.000002</td>\n",
              "      <td id=\"T_04ab8_row26_col12\" class=\"data row26 col12\" >0.000000</td>\n",
              "      <td id=\"T_04ab8_row26_col13\" class=\"data row26 col13\" >0.000000</td>\n",
              "      <td id=\"T_04ab8_row26_col14\" class=\"data row26 col14\" >0.000000</td>\n",
              "    </tr>\n",
              "    <tr>\n",
              "      <th id=\"T_04ab8_level0_row27\" class=\"row_heading level0 row27\" >27</th>\n",
              "      <td id=\"T_04ab8_row27_col0\" class=\"data row27 col0\" >0.000072</td>\n",
              "      <td id=\"T_04ab8_row27_col1\" class=\"data row27 col1\" >0.000072</td>\n",
              "      <td id=\"T_04ab8_row27_col2\" class=\"data row27 col2\" >0.000058</td>\n",
              "      <td id=\"T_04ab8_row27_col3\" class=\"data row27 col3\" >0.999907</td>\n",
              "      <td id=\"T_04ab8_row27_col4\" class=\"data row27 col4\" >0.999907</td>\n",
              "      <td id=\"T_04ab8_row27_col5\" class=\"data row27 col5\" >0.999927</td>\n",
              "      <td id=\"T_04ab8_row27_col6\" class=\"data row27 col6\" >0.000000</td>\n",
              "      <td id=\"T_04ab8_row27_col7\" class=\"data row27 col7\" >0.000000</td>\n",
              "      <td id=\"T_04ab8_row27_col8\" class=\"data row27 col8\" >0.000000</td>\n",
              "      <td id=\"T_04ab8_row27_col9\" class=\"data row27 col9\" >0.000020</td>\n",
              "      <td id=\"T_04ab8_row27_col10\" class=\"data row27 col10\" >0.000020</td>\n",
              "      <td id=\"T_04ab8_row27_col11\" class=\"data row27 col11\" >0.000014</td>\n",
              "      <td id=\"T_04ab8_row27_col12\" class=\"data row27 col12\" >0.000000</td>\n",
              "      <td id=\"T_04ab8_row27_col13\" class=\"data row27 col13\" >0.000000</td>\n",
              "      <td id=\"T_04ab8_row27_col14\" class=\"data row27 col14\" >0.000000</td>\n",
              "    </tr>\n",
              "    <tr>\n",
              "      <th id=\"T_04ab8_level0_row28\" class=\"row_heading level0 row28\" >28</th>\n",
              "      <td id=\"T_04ab8_row28_col0\" class=\"data row28 col0\" >0.005693</td>\n",
              "      <td id=\"T_04ab8_row28_col1\" class=\"data row28 col1\" >0.005692</td>\n",
              "      <td id=\"T_04ab8_row28_col2\" class=\"data row28 col2\" >0.004833</td>\n",
              "      <td id=\"T_04ab8_row28_col3\" class=\"data row28 col3\" >0.000042</td>\n",
              "      <td id=\"T_04ab8_row28_col4\" class=\"data row28 col4\" >0.000042</td>\n",
              "      <td id=\"T_04ab8_row28_col5\" class=\"data row28 col5\" >0.000033</td>\n",
              "      <td id=\"T_04ab8_row28_col6\" class=\"data row28 col6\" >0.993129</td>\n",
              "      <td id=\"T_04ab8_row28_col7\" class=\"data row28 col7\" >0.993129</td>\n",
              "      <td id=\"T_04ab8_row28_col8\" class=\"data row28 col8\" >0.994145</td>\n",
              "      <td id=\"T_04ab8_row28_col9\" class=\"data row28 col9\" >0.001126</td>\n",
              "      <td id=\"T_04ab8_row28_col10\" class=\"data row28 col10\" >0.001126</td>\n",
              "      <td id=\"T_04ab8_row28_col11\" class=\"data row28 col11\" >0.000980</td>\n",
              "      <td id=\"T_04ab8_row28_col12\" class=\"data row28 col12\" >0.000011</td>\n",
              "      <td id=\"T_04ab8_row28_col13\" class=\"data row28 col13\" >0.000011</td>\n",
              "      <td id=\"T_04ab8_row28_col14\" class=\"data row28 col14\" >0.000009</td>\n",
              "    </tr>\n",
              "    <tr>\n",
              "      <th id=\"T_04ab8_level0_row29\" class=\"row_heading level0 row29\" >29</th>\n",
              "      <td id=\"T_04ab8_row29_col0\" class=\"data row29 col0\" >0.999826</td>\n",
              "      <td id=\"T_04ab8_row29_col1\" class=\"data row29 col1\" >0.999826</td>\n",
              "      <td id=\"T_04ab8_row29_col2\" class=\"data row29 col2\" >0.999674</td>\n",
              "      <td id=\"T_04ab8_row29_col3\" class=\"data row29 col3\" >0.000028</td>\n",
              "      <td id=\"T_04ab8_row29_col4\" class=\"data row29 col4\" >0.000028</td>\n",
              "      <td id=\"T_04ab8_row29_col5\" class=\"data row29 col5\" >0.000048</td>\n",
              "      <td id=\"T_04ab8_row29_col6\" class=\"data row29 col6\" >0.000144</td>\n",
              "      <td id=\"T_04ab8_row29_col7\" class=\"data row29 col7\" >0.000144</td>\n",
              "      <td id=\"T_04ab8_row29_col8\" class=\"data row29 col8\" >0.000276</td>\n",
              "      <td id=\"T_04ab8_row29_col9\" class=\"data row29 col9\" >0.000001</td>\n",
              "      <td id=\"T_04ab8_row29_col10\" class=\"data row29 col10\" >0.000001</td>\n",
              "      <td id=\"T_04ab8_row29_col11\" class=\"data row29 col11\" >0.000002</td>\n",
              "      <td id=\"T_04ab8_row29_col12\" class=\"data row29 col12\" >0.000000</td>\n",
              "      <td id=\"T_04ab8_row29_col13\" class=\"data row29 col13\" >0.000000</td>\n",
              "      <td id=\"T_04ab8_row29_col14\" class=\"data row29 col14\" >0.000000</td>\n",
              "    </tr>\n",
              "    <tr>\n",
              "      <th id=\"T_04ab8_level0_row30\" class=\"row_heading level0 row30\" >30</th>\n",
              "      <td id=\"T_04ab8_row30_col0\" class=\"data row30 col0\" >0.075349</td>\n",
              "      <td id=\"T_04ab8_row30_col1\" class=\"data row30 col1\" >0.075350</td>\n",
              "      <td id=\"T_04ab8_row30_col2\" class=\"data row30 col2\" >0.084928</td>\n",
              "      <td id=\"T_04ab8_row30_col3\" class=\"data row30 col3\" >0.677917</td>\n",
              "      <td id=\"T_04ab8_row30_col4\" class=\"data row30 col4\" >0.677910</td>\n",
              "      <td id=\"T_04ab8_row30_col5\" class=\"data row30 col5\" >0.503369</td>\n",
              "      <td id=\"T_04ab8_row30_col6\" class=\"data row30 col6\" >0.019170</td>\n",
              "      <td id=\"T_04ab8_row30_col7\" class=\"data row30 col7\" >0.019171</td>\n",
              "      <td id=\"T_04ab8_row30_col8\" class=\"data row30 col8\" >0.054278</td>\n",
              "      <td id=\"T_04ab8_row30_col9\" class=\"data row30 col9\" >0.225799</td>\n",
              "      <td id=\"T_04ab8_row30_col10\" class=\"data row30 col10\" >0.225804</td>\n",
              "      <td id=\"T_04ab8_row30_col11\" class=\"data row30 col11\" >0.354880</td>\n",
              "      <td id=\"T_04ab8_row30_col12\" class=\"data row30 col12\" >0.001766</td>\n",
              "      <td id=\"T_04ab8_row30_col13\" class=\"data row30 col13\" >0.001766</td>\n",
              "      <td id=\"T_04ab8_row30_col14\" class=\"data row30 col14\" >0.002545</td>\n",
              "    </tr>\n",
              "    <tr>\n",
              "      <th id=\"T_04ab8_level0_row31\" class=\"row_heading level0 row31\" >31</th>\n",
              "      <td id=\"T_04ab8_row31_col0\" class=\"data row31 col0\" >0.013296</td>\n",
              "      <td id=\"T_04ab8_row31_col1\" class=\"data row31 col1\" >0.013295</td>\n",
              "      <td id=\"T_04ab8_row31_col2\" class=\"data row31 col2\" >0.011413</td>\n",
              "      <td id=\"T_04ab8_row31_col3\" class=\"data row31 col3\" >0.000079</td>\n",
              "      <td id=\"T_04ab8_row31_col4\" class=\"data row31 col4\" >0.000079</td>\n",
              "      <td id=\"T_04ab8_row31_col5\" class=\"data row31 col5\" >0.000066</td>\n",
              "      <td id=\"T_04ab8_row31_col6\" class=\"data row31 col6\" >0.985539</td>\n",
              "      <td id=\"T_04ab8_row31_col7\" class=\"data row31 col7\" >0.985539</td>\n",
              "      <td id=\"T_04ab8_row31_col8\" class=\"data row31 col8\" >0.987565</td>\n",
              "      <td id=\"T_04ab8_row31_col9\" class=\"data row31 col9\" >0.001078</td>\n",
              "      <td id=\"T_04ab8_row31_col10\" class=\"data row31 col10\" >0.001078</td>\n",
              "      <td id=\"T_04ab8_row31_col11\" class=\"data row31 col11\" >0.000947</td>\n",
              "      <td id=\"T_04ab8_row31_col12\" class=\"data row31 col12\" >0.000009</td>\n",
              "      <td id=\"T_04ab8_row31_col13\" class=\"data row31 col13\" >0.000009</td>\n",
              "      <td id=\"T_04ab8_row31_col14\" class=\"data row31 col14\" >0.000008</td>\n",
              "    </tr>\n",
              "  </tbody>\n",
              "</table>\n"
            ]
          },
          "metadata": {},
          "execution_count": 81
        }
      ],
      "source": [
        "\n",
        "# Highlight TFLite models predictions that are different from original model\n",
        "\n",
        "def highlight_diff(data, color='yellow'):\n",
        "    attr = 'background-color: {}'.format(color)\n",
        "    other = data.xs('TF Model', axis='columns', level=-1)\n",
        "    return pd.DataFrame(np.where(data.ne(other, level=0), attr, ''),\n",
        "                        index=data.index, columns=data.columns)\n",
        "\n",
        "all_models_dataframe.style.apply(highlight_diff, axis=None)"
      ]
    },
    {
      "cell_type": "markdown",
      "metadata": {
        "id": "IdVdGpHVlMWn"
      },
      "source": [
        "As we can see, in most cases predictions are different between all models, usually by small factors. High-confidence predictions between TensorFlow and TensorFlow Lite models are very close to each other (in some cases there are even similar).  \n",
        "Quantized model outstands the most, but this is the cost of optimizations (model weights 3-4 times less)."
      ]
    },
    {
      "cell_type": "markdown",
      "metadata": {
        "id": "3UAomaI1mcjI"
      },
      "source": [
        "To make prediction results even more readable, let's simplify dataframes, to show only the highest-score prediction and the corresponding label."
      ]
    },
    {
      "cell_type": "markdown",
      "metadata": {
        "id": "B1VF39ENoaab"
      },
      "source": [
        "# Concatenation of argmax and max value for each row\n",
        "def max_values_only(data):\n",
        "  argmax_col = np.argmax(data, axis=1).reshape(-1, 1)\n",
        "  max_col = np.max(data, axis=1).reshape(-1, 1)\n",
        "  return np.concatenate([argmax_col, max_col], axis=1)\n",
        "\n",
        "# Build simplified prediction tables\n",
        "tf_model_pred_simplified = max_values_only(tf_model_predictions)\n",
        "tflite_model_pred_simplified = max_values_only(tflite_model_predictions)\n",
        "tflite_q_model_pred_simplified = max_values_only(tflite_q_model_predictions)"
      ]
    },
    {
      "cell_type": "code",
      "execution_count": null,
      "metadata": {
        "id": "KgcgDEtlXSBF"
      },
      "outputs": [],
      "source": [
        "# Concatenation of argmax and max value for each row\n",
        "def max_values_only(data):\n",
        "  argmax_col = np.argmax(data, axis=1).reshape(-1, 1)\n",
        "  max_col = np.max(data, axis=1).reshape(-1, 1)\n",
        "  return np.concatenate([argmax_col, max_col], axis=1)\n",
        "\n",
        "# Build simplified prediction tables\n",
        "tf_model_pred_simplified = max_values_only(tf_model_predictions)\n",
        "tflite_model_pred_simplified = max_values_only(tflite_model_predictions)\n",
        "tflite_q_model_pred_simplified = max_values_only(tflite_q_model_predictions)"
      ]
    },
    {
      "cell_type": "markdown",
      "metadata": {
        "id": "AC3mZQCbpnyF",
        "outputId": "a8269264-2a4a-45f9-bd2a-91715e4e3fc4"
      },
      "source": [
        "# Build DataFrames and present example\n",
        "columns_names = [\"Label_id\", \"Confidence\"]\n",
        "tf_model_simple_dataframe = pd.DataFrame(tf_model_pred_simplified)\n",
        "tf_model_simple_dataframe.columns = columns_names\n",
        "\n",
        "tflite_model_simple_dataframe = pd.DataFrame(tflite_model_pred_simplified)\n",
        "tflite_model_simple_dataframe.columns = columns_names\n",
        "\n",
        "tflite_q_model_simple_dataframe = pd.DataFrame(tflite_q_model_pred_simplified)\n",
        "tflite_q_model_simple_dataframe.columns = columns_names\n",
        "\n",
        "tf_model_simple_dataframe.head()"
      ]
    },
    {
      "cell_type": "code",
      "execution_count": null,
      "metadata": {
        "id": "ZTp1jdYQXTaF",
        "colab": {
          "base_uri": "https://localhost:8080/",
          "height": 206
        },
        "outputId": "cbb8602e-a45c-47d6-bf65-f245ddcafa41"
      },
      "outputs": [
        {
          "output_type": "execute_result",
          "data": {
            "text/plain": [
              "   Label_id  Confidence\n",
              "0       3.0    0.973432\n",
              "1       1.0    0.987617\n",
              "2       2.0    0.986973\n",
              "3       3.0    0.875964\n",
              "4       3.0    0.707072"
            ],
            "text/html": [
              "\n",
              "  <div id=\"df-260fc073-1325-451e-8642-1fa723a22f7f\">\n",
              "    <div class=\"colab-df-container\">\n",
              "      <div>\n",
              "<style scoped>\n",
              "    .dataframe tbody tr th:only-of-type {\n",
              "        vertical-align: middle;\n",
              "    }\n",
              "\n",
              "    .dataframe tbody tr th {\n",
              "        vertical-align: top;\n",
              "    }\n",
              "\n",
              "    .dataframe thead th {\n",
              "        text-align: right;\n",
              "    }\n",
              "</style>\n",
              "<table border=\"1\" class=\"dataframe\">\n",
              "  <thead>\n",
              "    <tr style=\"text-align: right;\">\n",
              "      <th></th>\n",
              "      <th>Label_id</th>\n",
              "      <th>Confidence</th>\n",
              "    </tr>\n",
              "  </thead>\n",
              "  <tbody>\n",
              "    <tr>\n",
              "      <th>0</th>\n",
              "      <td>3.0</td>\n",
              "      <td>0.973432</td>\n",
              "    </tr>\n",
              "    <tr>\n",
              "      <th>1</th>\n",
              "      <td>1.0</td>\n",
              "      <td>0.987617</td>\n",
              "    </tr>\n",
              "    <tr>\n",
              "      <th>2</th>\n",
              "      <td>2.0</td>\n",
              "      <td>0.986973</td>\n",
              "    </tr>\n",
              "    <tr>\n",
              "      <th>3</th>\n",
              "      <td>3.0</td>\n",
              "      <td>0.875964</td>\n",
              "    </tr>\n",
              "    <tr>\n",
              "      <th>4</th>\n",
              "      <td>3.0</td>\n",
              "      <td>0.707072</td>\n",
              "    </tr>\n",
              "  </tbody>\n",
              "</table>\n",
              "</div>\n",
              "      <button class=\"colab-df-convert\" onclick=\"convertToInteractive('df-260fc073-1325-451e-8642-1fa723a22f7f')\"\n",
              "              title=\"Convert this dataframe to an interactive table.\"\n",
              "              style=\"display:none;\">\n",
              "        \n",
              "  <svg xmlns=\"http://www.w3.org/2000/svg\" height=\"24px\"viewBox=\"0 0 24 24\"\n",
              "       width=\"24px\">\n",
              "    <path d=\"M0 0h24v24H0V0z\" fill=\"none\"/>\n",
              "    <path d=\"M18.56 5.44l.94 2.06.94-2.06 2.06-.94-2.06-.94-.94-2.06-.94 2.06-2.06.94zm-11 1L8.5 8.5l.94-2.06 2.06-.94-2.06-.94L8.5 2.5l-.94 2.06-2.06.94zm10 10l.94 2.06.94-2.06 2.06-.94-2.06-.94-.94-2.06-.94 2.06-2.06.94z\"/><path d=\"M17.41 7.96l-1.37-1.37c-.4-.4-.92-.59-1.43-.59-.52 0-1.04.2-1.43.59L10.3 9.45l-7.72 7.72c-.78.78-.78 2.05 0 2.83L4 21.41c.39.39.9.59 1.41.59.51 0 1.02-.2 1.41-.59l7.78-7.78 2.81-2.81c.8-.78.8-2.07 0-2.86zM5.41 20L4 18.59l7.72-7.72 1.47 1.35L5.41 20z\"/>\n",
              "  </svg>\n",
              "      </button>\n",
              "      \n",
              "  <style>\n",
              "    .colab-df-container {\n",
              "      display:flex;\n",
              "      flex-wrap:wrap;\n",
              "      gap: 12px;\n",
              "    }\n",
              "\n",
              "    .colab-df-convert {\n",
              "      background-color: #E8F0FE;\n",
              "      border: none;\n",
              "      border-radius: 50%;\n",
              "      cursor: pointer;\n",
              "      display: none;\n",
              "      fill: #1967D2;\n",
              "      height: 32px;\n",
              "      padding: 0 0 0 0;\n",
              "      width: 32px;\n",
              "    }\n",
              "\n",
              "    .colab-df-convert:hover {\n",
              "      background-color: #E2EBFA;\n",
              "      box-shadow: 0px 1px 2px rgba(60, 64, 67, 0.3), 0px 1px 3px 1px rgba(60, 64, 67, 0.15);\n",
              "      fill: #174EA6;\n",
              "    }\n",
              "\n",
              "    [theme=dark] .colab-df-convert {\n",
              "      background-color: #3B4455;\n",
              "      fill: #D2E3FC;\n",
              "    }\n",
              "\n",
              "    [theme=dark] .colab-df-convert:hover {\n",
              "      background-color: #434B5C;\n",
              "      box-shadow: 0px 1px 3px 1px rgba(0, 0, 0, 0.15);\n",
              "      filter: drop-shadow(0px 1px 2px rgba(0, 0, 0, 0.3));\n",
              "      fill: #FFFFFF;\n",
              "    }\n",
              "  </style>\n",
              "\n",
              "      <script>\n",
              "        const buttonEl =\n",
              "          document.querySelector('#df-260fc073-1325-451e-8642-1fa723a22f7f button.colab-df-convert');\n",
              "        buttonEl.style.display =\n",
              "          google.colab.kernel.accessAllowed ? 'block' : 'none';\n",
              "\n",
              "        async function convertToInteractive(key) {\n",
              "          const element = document.querySelector('#df-260fc073-1325-451e-8642-1fa723a22f7f');\n",
              "          const dataTable =\n",
              "            await google.colab.kernel.invokeFunction('convertToInteractive',\n",
              "                                                     [key], {});\n",
              "          if (!dataTable) return;\n",
              "\n",
              "          const docLinkHtml = 'Like what you see? Visit the ' +\n",
              "            '<a target=\"_blank\" href=https://colab.research.google.com/notebooks/data_table.ipynb>data table notebook</a>'\n",
              "            + ' to learn more about interactive tables.';\n",
              "          element.innerHTML = '';\n",
              "          dataTable['output_type'] = 'display_data';\n",
              "          await google.colab.output.renderOutput(dataTable, element);\n",
              "          const docLink = document.createElement('div');\n",
              "          docLink.innerHTML = docLinkHtml;\n",
              "          element.appendChild(docLink);\n",
              "        }\n",
              "      </script>\n",
              "    </div>\n",
              "  </div>\n",
              "  "
            ]
          },
          "metadata": {},
          "execution_count": 83
        }
      ],
      "source": [
        "# Build DataFrames and present example\n",
        "columns_names = [\"Label_id\", \"Confidence\"]\n",
        "tf_model_simple_dataframe = pd.DataFrame(tf_model_pred_simplified)\n",
        "tf_model_simple_dataframe.columns = columns_names\n",
        "\n",
        "tflite_model_simple_dataframe = pd.DataFrame(tflite_model_pred_simplified)\n",
        "tflite_model_simple_dataframe.columns = columns_names\n",
        "\n",
        "tflite_q_model_simple_dataframe = pd.DataFrame(tflite_q_model_pred_simplified)\n",
        "tflite_q_model_simple_dataframe.columns = columns_names\n",
        "\n",
        "tf_model_simple_dataframe.head()"
      ]
    },
    {
      "cell_type": "markdown",
      "metadata": {
        "id": "di0vIUMN_T0I",
        "outputId": "773e1b47-2da8-47ac-b6b5-0c1fdbd79707"
      },
      "source": [
        "# Concatenate results from all models\n",
        "all_models_simple_dataframe = pd.concat([tf_model_simple_dataframe, \n",
        "                                         tflite_model_simple_dataframe, \n",
        "                                         tflite_q_model_simple_dataframe], \n",
        "                                        keys=['TF Model', 'TFLite', 'TFLite quantized'],\n",
        "                                        axis='columns')\n",
        "\n",
        "# Swap columns for side-by-side comparison\n",
        "all_models_simple_dataframe = all_models_simple_dataframe.swaplevel(axis='columns')[tf_model_simple_dataframe.columns]\n",
        "\n",
        "# Highlight differences\n",
        "all_models_simple_dataframe.style.apply(highlight_diff, axis=None)"
      ]
    },
    {
      "cell_type": "code",
      "execution_count": null,
      "metadata": {
        "id": "zkqzDxPzXU98",
        "colab": {
          "base_uri": "https://localhost:8080/",
          "height": 1000
        },
        "outputId": "11f51da3-2bbe-422f-e619-95379ec80c19"
      },
      "outputs": [
        {
          "output_type": "execute_result",
          "data": {
            "text/plain": [
              "<pandas.io.formats.style.Styler at 0x7f5903d9bf50>"
            ],
            "text/html": [
              "<style type=\"text/css\">\n",
              "#T_f2264_row0_col5, #T_f2264_row1_col4, #T_f2264_row1_col5, #T_f2264_row2_col4, #T_f2264_row2_col5, #T_f2264_row3_col4, #T_f2264_row3_col5, #T_f2264_row4_col4, #T_f2264_row4_col5, #T_f2264_row5_col5, #T_f2264_row6_col4, #T_f2264_row6_col5, #T_f2264_row7_col4, #T_f2264_row7_col5, #T_f2264_row8_col4, #T_f2264_row8_col5, #T_f2264_row9_col4, #T_f2264_row9_col5, #T_f2264_row10_col5, #T_f2264_row11_col4, #T_f2264_row11_col5, #T_f2264_row12_col4, #T_f2264_row12_col5, #T_f2264_row13_col5, #T_f2264_row15_col4, #T_f2264_row15_col5, #T_f2264_row16_col4, #T_f2264_row16_col5, #T_f2264_row17_col5, #T_f2264_row18_col5, #T_f2264_row19_col5, #T_f2264_row20_col4, #T_f2264_row20_col5, #T_f2264_row21_col5, #T_f2264_row22_col4, #T_f2264_row22_col5, #T_f2264_row23_col5, #T_f2264_row24_col4, #T_f2264_row25_col4, #T_f2264_row25_col5, #T_f2264_row26_col4, #T_f2264_row26_col5, #T_f2264_row27_col4, #T_f2264_row27_col5, #T_f2264_row28_col4, #T_f2264_row28_col5, #T_f2264_row29_col5, #T_f2264_row30_col4, #T_f2264_row30_col5, #T_f2264_row31_col4, #T_f2264_row31_col5 {\n",
              "  background-color: yellow;\n",
              "}\n",
              "</style>\n",
              "<table id=\"T_f2264_\" class=\"dataframe\">\n",
              "  <thead>\n",
              "    <tr>\n",
              "      <th class=\"blank level0\" >&nbsp;</th>\n",
              "      <th class=\"col_heading level0 col0\" colspan=\"3\">Label_id</th>\n",
              "      <th class=\"col_heading level0 col3\" colspan=\"3\">Confidence</th>\n",
              "    </tr>\n",
              "    <tr>\n",
              "      <th class=\"blank level1\" >&nbsp;</th>\n",
              "      <th class=\"col_heading level1 col0\" >TF Model</th>\n",
              "      <th class=\"col_heading level1 col1\" >TFLite</th>\n",
              "      <th class=\"col_heading level1 col2\" >TFLite quantized</th>\n",
              "      <th class=\"col_heading level1 col3\" >TF Model</th>\n",
              "      <th class=\"col_heading level1 col4\" >TFLite</th>\n",
              "      <th class=\"col_heading level1 col5\" >TFLite quantized</th>\n",
              "    </tr>\n",
              "  </thead>\n",
              "  <tbody>\n",
              "    <tr>\n",
              "      <th id=\"T_f2264_level0_row0\" class=\"row_heading level0 row0\" >0</th>\n",
              "      <td id=\"T_f2264_row0_col0\" class=\"data row0 col0\" >3.000000</td>\n",
              "      <td id=\"T_f2264_row0_col1\" class=\"data row0 col1\" >3.000000</td>\n",
              "      <td id=\"T_f2264_row0_col2\" class=\"data row0 col2\" >3.000000</td>\n",
              "      <td id=\"T_f2264_row0_col3\" class=\"data row0 col3\" >0.973432</td>\n",
              "      <td id=\"T_f2264_row0_col4\" class=\"data row0 col4\" >0.973432</td>\n",
              "      <td id=\"T_f2264_row0_col5\" class=\"data row0 col5\" >0.970782</td>\n",
              "    </tr>\n",
              "    <tr>\n",
              "      <th id=\"T_f2264_level0_row1\" class=\"row_heading level0 row1\" >1</th>\n",
              "      <td id=\"T_f2264_row1_col0\" class=\"data row1 col0\" >1.000000</td>\n",
              "      <td id=\"T_f2264_row1_col1\" class=\"data row1 col1\" >1.000000</td>\n",
              "      <td id=\"T_f2264_row1_col2\" class=\"data row1 col2\" >1.000000</td>\n",
              "      <td id=\"T_f2264_row1_col3\" class=\"data row1 col3\" >0.987617</td>\n",
              "      <td id=\"T_f2264_row1_col4\" class=\"data row1 col4\" >0.987616</td>\n",
              "      <td id=\"T_f2264_row1_col5\" class=\"data row1 col5\" >0.987541</td>\n",
              "    </tr>\n",
              "    <tr>\n",
              "      <th id=\"T_f2264_level0_row2\" class=\"row_heading level0 row2\" >2</th>\n",
              "      <td id=\"T_f2264_row2_col0\" class=\"data row2 col0\" >2.000000</td>\n",
              "      <td id=\"T_f2264_row2_col1\" class=\"data row2 col1\" >2.000000</td>\n",
              "      <td id=\"T_f2264_row2_col2\" class=\"data row2 col2\" >2.000000</td>\n",
              "      <td id=\"T_f2264_row2_col3\" class=\"data row2 col3\" >0.986973</td>\n",
              "      <td id=\"T_f2264_row2_col4\" class=\"data row2 col4\" >0.986974</td>\n",
              "      <td id=\"T_f2264_row2_col5\" class=\"data row2 col5\" >0.990677</td>\n",
              "    </tr>\n",
              "    <tr>\n",
              "      <th id=\"T_f2264_level0_row3\" class=\"row_heading level0 row3\" >3</th>\n",
              "      <td id=\"T_f2264_row3_col0\" class=\"data row3 col0\" >3.000000</td>\n",
              "      <td id=\"T_f2264_row3_col1\" class=\"data row3 col1\" >3.000000</td>\n",
              "      <td id=\"T_f2264_row3_col2\" class=\"data row3 col2\" >3.000000</td>\n",
              "      <td id=\"T_f2264_row3_col3\" class=\"data row3 col3\" >0.875964</td>\n",
              "      <td id=\"T_f2264_row3_col4\" class=\"data row3 col4\" >0.875963</td>\n",
              "      <td id=\"T_f2264_row3_col5\" class=\"data row3 col5\" >0.863894</td>\n",
              "    </tr>\n",
              "    <tr>\n",
              "      <th id=\"T_f2264_level0_row4\" class=\"row_heading level0 row4\" >4</th>\n",
              "      <td id=\"T_f2264_row4_col0\" class=\"data row4 col0\" >3.000000</td>\n",
              "      <td id=\"T_f2264_row4_col1\" class=\"data row4 col1\" >3.000000</td>\n",
              "      <td id=\"T_f2264_row4_col2\" class=\"data row4 col2\" >3.000000</td>\n",
              "      <td id=\"T_f2264_row4_col3\" class=\"data row4 col3\" >0.707072</td>\n",
              "      <td id=\"T_f2264_row4_col4\" class=\"data row4 col4\" >0.707074</td>\n",
              "      <td id=\"T_f2264_row4_col5\" class=\"data row4 col5\" >0.695412</td>\n",
              "    </tr>\n",
              "    <tr>\n",
              "      <th id=\"T_f2264_level0_row5\" class=\"row_heading level0 row5\" >5</th>\n",
              "      <td id=\"T_f2264_row5_col0\" class=\"data row5 col0\" >4.000000</td>\n",
              "      <td id=\"T_f2264_row5_col1\" class=\"data row5 col1\" >4.000000</td>\n",
              "      <td id=\"T_f2264_row5_col2\" class=\"data row5 col2\" >4.000000</td>\n",
              "      <td id=\"T_f2264_row5_col3\" class=\"data row5 col3\" >1.000000</td>\n",
              "      <td id=\"T_f2264_row5_col4\" class=\"data row5 col4\" >1.000000</td>\n",
              "      <td id=\"T_f2264_row5_col5\" class=\"data row5 col5\" >1.000000</td>\n",
              "    </tr>\n",
              "    <tr>\n",
              "      <th id=\"T_f2264_level0_row6\" class=\"row_heading level0 row6\" >6</th>\n",
              "      <td id=\"T_f2264_row6_col0\" class=\"data row6 col0\" >0.000000</td>\n",
              "      <td id=\"T_f2264_row6_col1\" class=\"data row6 col1\" >0.000000</td>\n",
              "      <td id=\"T_f2264_row6_col2\" class=\"data row6 col2\" >0.000000</td>\n",
              "      <td id=\"T_f2264_row6_col3\" class=\"data row6 col3\" >0.999823</td>\n",
              "      <td id=\"T_f2264_row6_col4\" class=\"data row6 col4\" >0.999824</td>\n",
              "      <td id=\"T_f2264_row6_col5\" class=\"data row6 col5\" >0.999637</td>\n",
              "    </tr>\n",
              "    <tr>\n",
              "      <th id=\"T_f2264_level0_row7\" class=\"row_heading level0 row7\" >7</th>\n",
              "      <td id=\"T_f2264_row7_col0\" class=\"data row7 col0\" >2.000000</td>\n",
              "      <td id=\"T_f2264_row7_col1\" class=\"data row7 col1\" >2.000000</td>\n",
              "      <td id=\"T_f2264_row7_col2\" class=\"data row7 col2\" >2.000000</td>\n",
              "      <td id=\"T_f2264_row7_col3\" class=\"data row7 col3\" >0.981695</td>\n",
              "      <td id=\"T_f2264_row7_col4\" class=\"data row7 col4\" >0.981695</td>\n",
              "      <td id=\"T_f2264_row7_col5\" class=\"data row7 col5\" >0.984626</td>\n",
              "    </tr>\n",
              "    <tr>\n",
              "      <th id=\"T_f2264_level0_row8\" class=\"row_heading level0 row8\" >8</th>\n",
              "      <td id=\"T_f2264_row8_col0\" class=\"data row8 col0\" >3.000000</td>\n",
              "      <td id=\"T_f2264_row8_col1\" class=\"data row8 col1\" >3.000000</td>\n",
              "      <td id=\"T_f2264_row8_col2\" class=\"data row8 col2\" >3.000000</td>\n",
              "      <td id=\"T_f2264_row8_col3\" class=\"data row8 col3\" >0.909573</td>\n",
              "      <td id=\"T_f2264_row8_col4\" class=\"data row8 col4\" >0.909573</td>\n",
              "      <td id=\"T_f2264_row8_col5\" class=\"data row8 col5\" >0.878145</td>\n",
              "    </tr>\n",
              "    <tr>\n",
              "      <th id=\"T_f2264_level0_row9\" class=\"row_heading level0 row9\" >9</th>\n",
              "      <td id=\"T_f2264_row9_col0\" class=\"data row9 col0\" >4.000000</td>\n",
              "      <td id=\"T_f2264_row9_col1\" class=\"data row9 col1\" >4.000000</td>\n",
              "      <td id=\"T_f2264_row9_col2\" class=\"data row9 col2\" >4.000000</td>\n",
              "      <td id=\"T_f2264_row9_col3\" class=\"data row9 col3\" >0.999870</td>\n",
              "      <td id=\"T_f2264_row9_col4\" class=\"data row9 col4\" >0.999870</td>\n",
              "      <td id=\"T_f2264_row9_col5\" class=\"data row9 col5\" >0.999724</td>\n",
              "    </tr>\n",
              "    <tr>\n",
              "      <th id=\"T_f2264_level0_row10\" class=\"row_heading level0 row10\" >10</th>\n",
              "      <td id=\"T_f2264_row10_col0\" class=\"data row10 col0\" >1.000000</td>\n",
              "      <td id=\"T_f2264_row10_col1\" class=\"data row10 col1\" >1.000000</td>\n",
              "      <td id=\"T_f2264_row10_col2\" class=\"data row10 col2\" >1.000000</td>\n",
              "      <td id=\"T_f2264_row10_col3\" class=\"data row10 col3\" >0.958253</td>\n",
              "      <td id=\"T_f2264_row10_col4\" class=\"data row10 col4\" >0.958253</td>\n",
              "      <td id=\"T_f2264_row10_col5\" class=\"data row10 col5\" >0.953920</td>\n",
              "    </tr>\n",
              "    <tr>\n",
              "      <th id=\"T_f2264_level0_row11\" class=\"row_heading level0 row11\" >11</th>\n",
              "      <td id=\"T_f2264_row11_col0\" class=\"data row11 col0\" >2.000000</td>\n",
              "      <td id=\"T_f2264_row11_col1\" class=\"data row11 col1\" >2.000000</td>\n",
              "      <td id=\"T_f2264_row11_col2\" class=\"data row11 col2\" >2.000000</td>\n",
              "      <td id=\"T_f2264_row11_col3\" class=\"data row11 col3\" >0.992875</td>\n",
              "      <td id=\"T_f2264_row11_col4\" class=\"data row11 col4\" >0.992876</td>\n",
              "      <td id=\"T_f2264_row11_col5\" class=\"data row11 col5\" >0.994645</td>\n",
              "    </tr>\n",
              "    <tr>\n",
              "      <th id=\"T_f2264_level0_row12\" class=\"row_heading level0 row12\" >12</th>\n",
              "      <td id=\"T_f2264_row12_col0\" class=\"data row12 col0\" >4.000000</td>\n",
              "      <td id=\"T_f2264_row12_col1\" class=\"data row12 col1\" >4.000000</td>\n",
              "      <td id=\"T_f2264_row12_col2\" class=\"data row12 col2\" >4.000000</td>\n",
              "      <td id=\"T_f2264_row12_col3\" class=\"data row12 col3\" >0.999514</td>\n",
              "      <td id=\"T_f2264_row12_col4\" class=\"data row12 col4\" >0.999515</td>\n",
              "      <td id=\"T_f2264_row12_col5\" class=\"data row12 col5\" >0.999532</td>\n",
              "    </tr>\n",
              "    <tr>\n",
              "      <th id=\"T_f2264_level0_row13\" class=\"row_heading level0 row13\" >13</th>\n",
              "      <td id=\"T_f2264_row13_col0\" class=\"data row13 col0\" >2.000000</td>\n",
              "      <td id=\"T_f2264_row13_col1\" class=\"data row13 col1\" >2.000000</td>\n",
              "      <td id=\"T_f2264_row13_col2\" class=\"data row13 col2\" >2.000000</td>\n",
              "      <td id=\"T_f2264_row13_col3\" class=\"data row13 col3\" >0.996395</td>\n",
              "      <td id=\"T_f2264_row13_col4\" class=\"data row13 col4\" >0.996395</td>\n",
              "      <td id=\"T_f2264_row13_col5\" class=\"data row13 col5\" >0.996826</td>\n",
              "    </tr>\n",
              "    <tr>\n",
              "      <th id=\"T_f2264_level0_row14\" class=\"row_heading level0 row14\" >14</th>\n",
              "      <td id=\"T_f2264_row14_col0\" class=\"data row14 col0\" >4.000000</td>\n",
              "      <td id=\"T_f2264_row14_col1\" class=\"data row14 col1\" >4.000000</td>\n",
              "      <td id=\"T_f2264_row14_col2\" class=\"data row14 col2\" >4.000000</td>\n",
              "      <td id=\"T_f2264_row14_col3\" class=\"data row14 col3\" >1.000000</td>\n",
              "      <td id=\"T_f2264_row14_col4\" class=\"data row14 col4\" >1.000000</td>\n",
              "      <td id=\"T_f2264_row14_col5\" class=\"data row14 col5\" >1.000000</td>\n",
              "    </tr>\n",
              "    <tr>\n",
              "      <th id=\"T_f2264_level0_row15\" class=\"row_heading level0 row15\" >15</th>\n",
              "      <td id=\"T_f2264_row15_col0\" class=\"data row15 col0\" >4.000000</td>\n",
              "      <td id=\"T_f2264_row15_col1\" class=\"data row15 col1\" >4.000000</td>\n",
              "      <td id=\"T_f2264_row15_col2\" class=\"data row15 col2\" >4.000000</td>\n",
              "      <td id=\"T_f2264_row15_col3\" class=\"data row15 col3\" >0.999931</td>\n",
              "      <td id=\"T_f2264_row15_col4\" class=\"data row15 col4\" >0.999931</td>\n",
              "      <td id=\"T_f2264_row15_col5\" class=\"data row15 col5\" >0.999898</td>\n",
              "    </tr>\n",
              "    <tr>\n",
              "      <th id=\"T_f2264_level0_row16\" class=\"row_heading level0 row16\" >16</th>\n",
              "      <td id=\"T_f2264_row16_col0\" class=\"data row16 col0\" >0.000000</td>\n",
              "      <td id=\"T_f2264_row16_col1\" class=\"data row16 col1\" >0.000000</td>\n",
              "      <td id=\"T_f2264_row16_col2\" class=\"data row16 col2\" >0.000000</td>\n",
              "      <td id=\"T_f2264_row16_col3\" class=\"data row16 col3\" >0.999853</td>\n",
              "      <td id=\"T_f2264_row16_col4\" class=\"data row16 col4\" >0.999854</td>\n",
              "      <td id=\"T_f2264_row16_col5\" class=\"data row16 col5\" >0.999768</td>\n",
              "    </tr>\n",
              "    <tr>\n",
              "      <th id=\"T_f2264_level0_row17\" class=\"row_heading level0 row17\" >17</th>\n",
              "      <td id=\"T_f2264_row17_col0\" class=\"data row17 col0\" >2.000000</td>\n",
              "      <td id=\"T_f2264_row17_col1\" class=\"data row17 col1\" >2.000000</td>\n",
              "      <td id=\"T_f2264_row17_col2\" class=\"data row17 col2\" >2.000000</td>\n",
              "      <td id=\"T_f2264_row17_col3\" class=\"data row17 col3\" >0.996147</td>\n",
              "      <td id=\"T_f2264_row17_col4\" class=\"data row17 col4\" >0.996147</td>\n",
              "      <td id=\"T_f2264_row17_col5\" class=\"data row17 col5\" >0.996929</td>\n",
              "    </tr>\n",
              "    <tr>\n",
              "      <th id=\"T_f2264_level0_row18\" class=\"row_heading level0 row18\" >18</th>\n",
              "      <td id=\"T_f2264_row18_col0\" class=\"data row18 col0\" >0.000000</td>\n",
              "      <td id=\"T_f2264_row18_col1\" class=\"data row18 col1\" >0.000000</td>\n",
              "      <td id=\"T_f2264_row18_col2\" class=\"data row18 col2\" >0.000000</td>\n",
              "      <td id=\"T_f2264_row18_col3\" class=\"data row18 col3\" >0.999610</td>\n",
              "      <td id=\"T_f2264_row18_col4\" class=\"data row18 col4\" >0.999610</td>\n",
              "      <td id=\"T_f2264_row18_col5\" class=\"data row18 col5\" >0.999122</td>\n",
              "    </tr>\n",
              "    <tr>\n",
              "      <th id=\"T_f2264_level0_row19\" class=\"row_heading level0 row19\" >19</th>\n",
              "      <td id=\"T_f2264_row19_col0\" class=\"data row19 col0\" >4.000000</td>\n",
              "      <td id=\"T_f2264_row19_col1\" class=\"data row19 col1\" >4.000000</td>\n",
              "      <td id=\"T_f2264_row19_col2\" class=\"data row19 col2\" >4.000000</td>\n",
              "      <td id=\"T_f2264_row19_col3\" class=\"data row19 col3\" >0.999824</td>\n",
              "      <td id=\"T_f2264_row19_col4\" class=\"data row19 col4\" >0.999824</td>\n",
              "      <td id=\"T_f2264_row19_col5\" class=\"data row19 col5\" >0.999706</td>\n",
              "    </tr>\n",
              "    <tr>\n",
              "      <th id=\"T_f2264_level0_row20\" class=\"row_heading level0 row20\" >20</th>\n",
              "      <td id=\"T_f2264_row20_col0\" class=\"data row20 col0\" >3.000000</td>\n",
              "      <td id=\"T_f2264_row20_col1\" class=\"data row20 col1\" >3.000000</td>\n",
              "      <td id=\"T_f2264_row20_col2\" class=\"data row20 col2\" >3.000000</td>\n",
              "      <td id=\"T_f2264_row20_col3\" class=\"data row20 col3\" >0.947810</td>\n",
              "      <td id=\"T_f2264_row20_col4\" class=\"data row20 col4\" >0.947810</td>\n",
              "      <td id=\"T_f2264_row20_col5\" class=\"data row20 col5\" >0.937033</td>\n",
              "    </tr>\n",
              "    <tr>\n",
              "      <th id=\"T_f2264_level0_row21\" class=\"row_heading level0 row21\" >21</th>\n",
              "      <td id=\"T_f2264_row21_col0\" class=\"data row21 col0\" >0.000000</td>\n",
              "      <td id=\"T_f2264_row21_col1\" class=\"data row21 col1\" >0.000000</td>\n",
              "      <td id=\"T_f2264_row21_col2\" class=\"data row21 col2\" >0.000000</td>\n",
              "      <td id=\"T_f2264_row21_col3\" class=\"data row21 col3\" >0.999799</td>\n",
              "      <td id=\"T_f2264_row21_col4\" class=\"data row21 col4\" >0.999799</td>\n",
              "      <td id=\"T_f2264_row21_col5\" class=\"data row21 col5\" >0.999519</td>\n",
              "    </tr>\n",
              "    <tr>\n",
              "      <th id=\"T_f2264_level0_row22\" class=\"row_heading level0 row22\" >22</th>\n",
              "      <td id=\"T_f2264_row22_col0\" class=\"data row22 col0\" >1.000000</td>\n",
              "      <td id=\"T_f2264_row22_col1\" class=\"data row22 col1\" >1.000000</td>\n",
              "      <td id=\"T_f2264_row22_col2\" class=\"data row22 col2\" >1.000000</td>\n",
              "      <td id=\"T_f2264_row22_col3\" class=\"data row22 col3\" >0.905122</td>\n",
              "      <td id=\"T_f2264_row22_col4\" class=\"data row22 col4\" >0.905120</td>\n",
              "      <td id=\"T_f2264_row22_col5\" class=\"data row22 col5\" >0.861329</td>\n",
              "    </tr>\n",
              "    <tr>\n",
              "      <th id=\"T_f2264_level0_row23\" class=\"row_heading level0 row23\" >23</th>\n",
              "      <td id=\"T_f2264_row23_col0\" class=\"data row23 col0\" >1.000000</td>\n",
              "      <td id=\"T_f2264_row23_col1\" class=\"data row23 col1\" >1.000000</td>\n",
              "      <td id=\"T_f2264_row23_col2\" class=\"data row23 col2\" >1.000000</td>\n",
              "      <td id=\"T_f2264_row23_col3\" class=\"data row23 col3\" >0.999990</td>\n",
              "      <td id=\"T_f2264_row23_col4\" class=\"data row23 col4\" >0.999990</td>\n",
              "      <td id=\"T_f2264_row23_col5\" class=\"data row23 col5\" >0.999986</td>\n",
              "    </tr>\n",
              "    <tr>\n",
              "      <th id=\"T_f2264_level0_row24\" class=\"row_heading level0 row24\" >24</th>\n",
              "      <td id=\"T_f2264_row24_col0\" class=\"data row24 col0\" >4.000000</td>\n",
              "      <td id=\"T_f2264_row24_col1\" class=\"data row24 col1\" >4.000000</td>\n",
              "      <td id=\"T_f2264_row24_col2\" class=\"data row24 col2\" >4.000000</td>\n",
              "      <td id=\"T_f2264_row24_col3\" class=\"data row24 col3\" >1.000000</td>\n",
              "      <td id=\"T_f2264_row24_col4\" class=\"data row24 col4\" >1.000000</td>\n",
              "      <td id=\"T_f2264_row24_col5\" class=\"data row24 col5\" >1.000000</td>\n",
              "    </tr>\n",
              "    <tr>\n",
              "      <th id=\"T_f2264_level0_row25\" class=\"row_heading level0 row25\" >25</th>\n",
              "      <td id=\"T_f2264_row25_col0\" class=\"data row25 col0\" >3.000000</td>\n",
              "      <td id=\"T_f2264_row25_col1\" class=\"data row25 col1\" >3.000000</td>\n",
              "      <td id=\"T_f2264_row25_col2\" class=\"data row25 col2\" >3.000000</td>\n",
              "      <td id=\"T_f2264_row25_col3\" class=\"data row25 col3\" >0.964284</td>\n",
              "      <td id=\"T_f2264_row25_col4\" class=\"data row25 col4\" >0.964285</td>\n",
              "      <td id=\"T_f2264_row25_col5\" class=\"data row25 col5\" >0.954250</td>\n",
              "    </tr>\n",
              "    <tr>\n",
              "      <th id=\"T_f2264_level0_row26\" class=\"row_heading level0 row26\" >26</th>\n",
              "      <td id=\"T_f2264_row26_col0\" class=\"data row26 col0\" >0.000000</td>\n",
              "      <td id=\"T_f2264_row26_col1\" class=\"data row26 col1\" >0.000000</td>\n",
              "      <td id=\"T_f2264_row26_col2\" class=\"data row26 col2\" >0.000000</td>\n",
              "      <td id=\"T_f2264_row26_col3\" class=\"data row26 col3\" >0.999902</td>\n",
              "      <td id=\"T_f2264_row26_col4\" class=\"data row26 col4\" >0.999902</td>\n",
              "      <td id=\"T_f2264_row26_col5\" class=\"data row26 col5\" >0.999799</td>\n",
              "    </tr>\n",
              "    <tr>\n",
              "      <th id=\"T_f2264_level0_row27\" class=\"row_heading level0 row27\" >27</th>\n",
              "      <td id=\"T_f2264_row27_col0\" class=\"data row27 col0\" >1.000000</td>\n",
              "      <td id=\"T_f2264_row27_col1\" class=\"data row27 col1\" >1.000000</td>\n",
              "      <td id=\"T_f2264_row27_col2\" class=\"data row27 col2\" >1.000000</td>\n",
              "      <td id=\"T_f2264_row27_col3\" class=\"data row27 col3\" >0.999907</td>\n",
              "      <td id=\"T_f2264_row27_col4\" class=\"data row27 col4\" >0.999907</td>\n",
              "      <td id=\"T_f2264_row27_col5\" class=\"data row27 col5\" >0.999927</td>\n",
              "    </tr>\n",
              "    <tr>\n",
              "      <th id=\"T_f2264_level0_row28\" class=\"row_heading level0 row28\" >28</th>\n",
              "      <td id=\"T_f2264_row28_col0\" class=\"data row28 col0\" >2.000000</td>\n",
              "      <td id=\"T_f2264_row28_col1\" class=\"data row28 col1\" >2.000000</td>\n",
              "      <td id=\"T_f2264_row28_col2\" class=\"data row28 col2\" >2.000000</td>\n",
              "      <td id=\"T_f2264_row28_col3\" class=\"data row28 col3\" >0.993129</td>\n",
              "      <td id=\"T_f2264_row28_col4\" class=\"data row28 col4\" >0.993129</td>\n",
              "      <td id=\"T_f2264_row28_col5\" class=\"data row28 col5\" >0.994145</td>\n",
              "    </tr>\n",
              "    <tr>\n",
              "      <th id=\"T_f2264_level0_row29\" class=\"row_heading level0 row29\" >29</th>\n",
              "      <td id=\"T_f2264_row29_col0\" class=\"data row29 col0\" >0.000000</td>\n",
              "      <td id=\"T_f2264_row29_col1\" class=\"data row29 col1\" >0.000000</td>\n",
              "      <td id=\"T_f2264_row29_col2\" class=\"data row29 col2\" >0.000000</td>\n",
              "      <td id=\"T_f2264_row29_col3\" class=\"data row29 col3\" >0.999826</td>\n",
              "      <td id=\"T_f2264_row29_col4\" class=\"data row29 col4\" >0.999826</td>\n",
              "      <td id=\"T_f2264_row29_col5\" class=\"data row29 col5\" >0.999674</td>\n",
              "    </tr>\n",
              "    <tr>\n",
              "      <th id=\"T_f2264_level0_row30\" class=\"row_heading level0 row30\" >30</th>\n",
              "      <td id=\"T_f2264_row30_col0\" class=\"data row30 col0\" >1.000000</td>\n",
              "      <td id=\"T_f2264_row30_col1\" class=\"data row30 col1\" >1.000000</td>\n",
              "      <td id=\"T_f2264_row30_col2\" class=\"data row30 col2\" >1.000000</td>\n",
              "      <td id=\"T_f2264_row30_col3\" class=\"data row30 col3\" >0.677917</td>\n",
              "      <td id=\"T_f2264_row30_col4\" class=\"data row30 col4\" >0.677910</td>\n",
              "      <td id=\"T_f2264_row30_col5\" class=\"data row30 col5\" >0.503369</td>\n",
              "    </tr>\n",
              "    <tr>\n",
              "      <th id=\"T_f2264_level0_row31\" class=\"row_heading level0 row31\" >31</th>\n",
              "      <td id=\"T_f2264_row31_col0\" class=\"data row31 col0\" >2.000000</td>\n",
              "      <td id=\"T_f2264_row31_col1\" class=\"data row31 col1\" >2.000000</td>\n",
              "      <td id=\"T_f2264_row31_col2\" class=\"data row31 col2\" >2.000000</td>\n",
              "      <td id=\"T_f2264_row31_col3\" class=\"data row31 col3\" >0.985539</td>\n",
              "      <td id=\"T_f2264_row31_col4\" class=\"data row31 col4\" >0.985539</td>\n",
              "      <td id=\"T_f2264_row31_col5\" class=\"data row31 col5\" >0.987565</td>\n",
              "    </tr>\n",
              "  </tbody>\n",
              "</table>\n"
            ]
          },
          "metadata": {},
          "execution_count": 84
        }
      ],
      "source": [
        "# Concatenate results from all models\n",
        "all_models_simple_dataframe = pd.concat([tf_model_simple_dataframe, \n",
        "                                         tflite_model_simple_dataframe, \n",
        "                                         tflite_q_model_simple_dataframe], \n",
        "                                        keys=['TF Model', 'TFLite', 'TFLite quantized'],\n",
        "                                        axis='columns')\n",
        "\n",
        "# Swap columns for side-by-side comparison\n",
        "all_models_simple_dataframe = all_models_simple_dataframe.swaplevel(axis='columns')[tf_model_simple_dataframe.columns]\n",
        "\n",
        "# Highlight differences\n",
        "all_models_simple_dataframe.style.apply(highlight_diff, axis=None)"
      ]
    },
    {
      "cell_type": "markdown",
      "metadata": {
        "id": "AGlSOG2DqjqY"
      },
      "source": [
        "## Visualize predictions from TFLite models\n",
        "\n",
        "At the end let's visualize predictions from TensorFlow Lite and quantized TensorFlow Lite models."
      ]
    },
    {
      "cell_type": "markdown",
      "metadata": {
        "id": "fqqvh-QvdB6g",
        "outputId": "13b1a360-87e6-440c-a193-8d1a32068bf8"
      },
      "source": [
        "# Print images batch and labels predictions for TFLite Model\n",
        "\n",
        "tflite_predicted_ids = np.argmax(tflite_model_predictions, axis=-1)\n",
        "tflite_predicted_labels = dataset_labels[tflite_predicted_ids]\n",
        "tflite_label_id = np.argmax(val_label_batch, axis=-1)\n",
        "\n",
        "plt.figure(figsize=(10,9))\n",
        "plt.subplots_adjust(hspace=0.5)\n",
        "for n in range(30):\n",
        "  plt.subplot(6,5,n+1)\n",
        "  plt.imshow(val_image_batch[n])\n",
        "  color = \"green\" if tflite_predicted_ids[n] == true_label_ids[n] else \"red\"\n",
        "  plt.title(tflite_predicted_labels[n].title(), color=color)\n",
        "  plt.axis('off')\n",
        "_ = plt.suptitle(\"TFLite model predictions (green: correct, red: incorrect)\")"
      ]
    },
    {
      "cell_type": "code",
      "source": [
        "# Print images batch and labels predictions for TFLite Model\n",
        "\n",
        "tflite_predicted_ids = np.argmax(tflite_model_predictions, axis=-1)\n",
        "tflite_predicted_labels = dataset_labels[tflite_predicted_ids]\n",
        "tflite_label_id = np.argmax(val_label_batch, axis=-1)\n",
        "\n",
        "plt.figure(figsize=(10,9))\n",
        "plt.subplots_adjust(hspace=0.5)\n",
        "for n in range(30):\n",
        "  plt.subplot(6,5,n+1)\n",
        "  plt.imshow(val_image_batch[n])\n",
        "  color = \"green\" if tflite_predicted_ids[n] == true_label_ids[n] else \"red\"\n",
        "  plt.title(tflite_predicted_labels[n].title(), color=color)\n",
        "  plt.axis('off')\n",
        "_ = plt.suptitle(\"TFLite model predictions (green: correct, red: incorrect)\")"
      ],
      "metadata": {
        "colab": {
          "base_uri": "https://localhost:8080/",
          "height": 585
        },
        "id": "HIYBiqPc9QQQ",
        "outputId": "05c27664-a067-46b0-b3cf-eed542e98ca4"
      },
      "execution_count": null,
      "outputs": [
        {
          "output_type": "display_data",
          "data": {
            "text/plain": [
              "<Figure size 720x648 with 30 Axes>"
            ],
            "image/png": "[encoded data removed]"
          },
          "metadata": {
            "needs_background": "light"
          }
        }
      ]
    },
    {
      "cell_type": "code",
      "source": [
        "import time # time 라이브러리 import\n",
        "start = time.time() # 시작\n",
        " \n",
        "time.sleep(1) # 측정하고자 하는 코드 부분\n",
        " \n",
        "print(f\"{time.time()-start:.4f} sec\") # 종료와 함께 수행시간 출력"
      ],
      "metadata": {
        "colab": {
          "base_uri": "https://localhost:8080/"
        },
        "id": "zBGu3yB09S7p",
        "outputId": "ca486082-73f8-4089-dff8-5879f8894ba0"
      },
      "execution_count": null,
      "outputs": [
        {
          "output_type": "stream",
          "name": "stdout",
          "text": [
            "1.0014 sec\n"
          ]
        }
      ]
    },
    {
      "cell_type": "code",
      "execution_count": null,
      "metadata": {
        "id": "HSWlmu9AXZiG",
        "colab": {
          "base_uri": "https://localhost:8080/",
          "height": 138
        },
        "outputId": "7ba03e81-a557-4fcb-f3ac-164ea7d1f9c9"
      },
      "outputs": [
        {
          "output_type": "error",
          "ename": "IndentationError",
          "evalue": "ignored",
          "traceback": [
            "\u001b[0;36m  File \u001b[0;32m\"<ipython-input-1-84b6b52e74ed>\"\u001b[0;36m, line \u001b[0;32m18\u001b[0m\n\u001b[0;31m    plt.title(tflite_predicted_labels[n].title(), color=color)\u001b[0m\n\u001b[0m    ^\u001b[0m\n\u001b[0;31mIndentationError\u001b[0m\u001b[0;31m:\u001b[0m unexpected indent\n"
          ]
        }
      ],
      "source": [
        "# Print images batch and labels predictions for TFLite Model\n",
        "\n",
        "# TF 모델 예측\n",
        "\n",
        "tflite_predicted_ids = np.argmax(tflite_model_predictions, axis=-1)\n",
        "tflite_predicted_labels = dataset_labels[tflite_predicted_ids]\n",
        "tflite_label_id = np.argmax(val_label_batch, axis=-1)\n",
        "\n",
        "plt.figure(figsize=(10,9))\n",
        "plt.subplots_adjust(hspace=0.5)\n",
        "for n in range(30):\n",
        "  plt.subplot(6,5,n+1)\n",
        "  plt.imshow(val_image_batch[n])\n",
        "\n",
        "\n",
        "\n",
        "color = \"green\" if tflite_predicted_ids[n] == true_label_ids[n] else \"red\"\n",
        "  plt.title(tflite_predicted_labels[n].title(), color=color)\n",
        "  plt.axis('off')\n",
        "_ = plt.suptitle(\"TFLite model predictions (green: correct, red: incorrect)\")\n",
        "\n",
        "## 이미지가 대부분 car_noise가 나오는 이유가 무엇일까\n",
        "## 인식을 잘 못 하는 거 같음 왜 인식을 못하는지 해결해야할듯함\n",
        "## 색이 들어가면 예측을 잘 못 하는 거 같음"
      ]
    },
    {
      "cell_type": "code",
      "source": [
        "len(tflite_predicted_labels)"
      ],
      "metadata": {
        "id": "U68mu36OlGqk",
        "colab": {
          "base_uri": "https://localhost:8080/"
        },
        "outputId": "d0a7cb29-426e-4869-c9ab-632828a31dff"
      },
      "execution_count": null,
      "outputs": [
        {
          "output_type": "execute_result",
          "data": {
            "text/plain": [
              "32"
            ]
          },
          "metadata": {},
          "execution_count": 88
        }
      ]
    },
    {
      "cell_type": "code",
      "source": [
        "# Print images batch and labels predictions for TFLite Model\n",
        "\n",
        "# TF 모델 예측\n",
        "\n",
        "tflite_predicted_ids = np.argmax(tflite_model_predictions, axis=-1)\n",
        "tflite_predicted_labels = dataset_labels[tflite_predicted_ids]\n",
        "tflite_label_id = np.argmax(val_label_batch, axis=-1)\n",
        "\n",
        "plt.figure(figsize=(10,9))\n",
        "plt.subplots_adjust(hspace=0.5)\n",
        "for n in range(5000):\n",
        "  # 총 개수가 분모로 가고 분자에는 green이 오는 개수\n",
        "  correct = 0\n",
        "  if tflite_predicted_ids[n] == true_label_ids[n]:\n",
        "    color = \"green\"\n",
        "    correct += 1\n",
        "  else:\n",
        "    color = \"red\"\n",
        "\n",
        "print(correct / len(tflite_predicted_labels))\n",
        "\n",
        "\n",
        "\n",
        " # color = \"green\" if tflite_predicted_ids[n] == true_label_ids[n] else \"red\"\n",
        "plt.title(tflite_predicted_labels[n].title(), color=color)\n",
        "plt.axis('off')\n",
        "_ = plt.suptitle(\"TFLite model predictions (green: correct, red: incorrect)\")\n",
        "\n",
        "## 이미지가 대부분 car_noise가 나오는 이유가 무엇일까\n",
        "## 인식을 잘 못 하는 거 같음 왜 인식을 못하는지 해결해야할듯함\n",
        "## 색이 들어가면 예측을 잘 못 하는 거 같음"
      ],
      "metadata": {
        "id": "9x6r6i4KkY8x",
        "colab": {
          "base_uri": "https://localhost:8080/",
          "height": 269
        },
        "outputId": "a8a54269-7dfb-4ad3-d297-f58ba40ca268"
      },
      "execution_count": null,
      "outputs": [
        {
          "output_type": "error",
          "ename": "IndexError",
          "evalue": "ignored",
          "traceback": [
            "\u001b[0;31m---------------------------------------------------------------------------\u001b[0m",
            "\u001b[0;31mIndexError\u001b[0m                                Traceback (most recent call last)",
            "\u001b[0;32m<ipython-input-65-2a4aa5a94505>\u001b[0m in \u001b[0;36m<module>\u001b[0;34m\u001b[0m\n\u001b[1;32m     12\u001b[0m   \u001b[0;31m# 총 개수가 분모로 가고 분자에는 green이 오는 개수\u001b[0m\u001b[0;34m\u001b[0m\u001b[0;34m\u001b[0m\u001b[0;34m\u001b[0m\u001b[0m\n\u001b[1;32m     13\u001b[0m   \u001b[0mcorrect\u001b[0m \u001b[0;34m=\u001b[0m \u001b[0;36m0\u001b[0m\u001b[0;34m\u001b[0m\u001b[0;34m\u001b[0m\u001b[0m\n\u001b[0;32m---> 14\u001b[0;31m   \u001b[0;32mif\u001b[0m \u001b[0mtflite_predicted_ids\u001b[0m\u001b[0;34m[\u001b[0m\u001b[0mn\u001b[0m\u001b[0;34m]\u001b[0m \u001b[0;34m==\u001b[0m \u001b[0mtrue_label_ids\u001b[0m\u001b[0;34m[\u001b[0m\u001b[0mn\u001b[0m\u001b[0;34m]\u001b[0m\u001b[0;34m:\u001b[0m\u001b[0;34m\u001b[0m\u001b[0;34m\u001b[0m\u001b[0m\n\u001b[0m\u001b[1;32m     15\u001b[0m     \u001b[0mcolor\u001b[0m \u001b[0;34m=\u001b[0m \u001b[0;34m\"green\"\u001b[0m\u001b[0;34m\u001b[0m\u001b[0;34m\u001b[0m\u001b[0m\n\u001b[1;32m     16\u001b[0m     \u001b[0mcorrect\u001b[0m \u001b[0;34m+=\u001b[0m \u001b[0;36m1\u001b[0m\u001b[0;34m\u001b[0m\u001b[0;34m\u001b[0m\u001b[0m\n",
            "\u001b[0;31mIndexError\u001b[0m: index 32 is out of bounds for axis 0 with size 32"
          ]
        },
        {
          "output_type": "display_data",
          "data": {
            "text/plain": [
              "<Figure size 720x648 with 0 Axes>"
            ]
          },
          "metadata": {}
        }
      ]
    },
    {
      "cell_type": "code",
      "source": [
        "final_loss, final_accuracy = tflite_interpreter.evaluate(feature_test, label_test)"
      ],
      "metadata": {
        "id": "FJRk7YKeg6_4",
        "colab": {
          "base_uri": "https://localhost:8080/",
          "height": 176
        },
        "outputId": "2d04668e-e4f2-4ba1-e5ed-d0f940844ce5"
      },
      "execution_count": null,
      "outputs": [
        {
          "output_type": "error",
          "ename": "AttributeError",
          "evalue": "ignored",
          "traceback": [
            "\u001b[0;31m---------------------------------------------------------------------------\u001b[0m",
            "\u001b[0;31mAttributeError\u001b[0m                            Traceback (most recent call last)",
            "\u001b[0;32m<ipython-input-89-effecbf2dc9b>\u001b[0m in \u001b[0;36m<module>\u001b[0;34m\u001b[0m\n\u001b[0;32m----> 1\u001b[0;31m \u001b[0mfinal_loss\u001b[0m\u001b[0;34m,\u001b[0m \u001b[0mfinal_accuracy\u001b[0m \u001b[0;34m=\u001b[0m \u001b[0mtflite_interpreter\u001b[0m\u001b[0;34m.\u001b[0m\u001b[0mevaluate\u001b[0m\u001b[0;34m(\u001b[0m\u001b[0mfeature_test\u001b[0m\u001b[0;34m,\u001b[0m \u001b[0mlabel_test\u001b[0m\u001b[0;34m)\u001b[0m\u001b[0;34m\u001b[0m\u001b[0;34m\u001b[0m\u001b[0m\n\u001b[0m",
            "\u001b[0;31mAttributeError\u001b[0m: 'Interpreter' object has no attribute 'evaluate'"
          ]
        }
      ]
    },
    {
      "cell_type": "markdown",
      "metadata": {
        "id": "bfQhjVbwo86M",
        "outputId": "1580cb90-f19d-4cea-da95-6bf215cf47e5"
      },
      "source": [
        "# Print images batch and labels predictions for TFLite Model\n",
        "\n",
        "tflite_q_predicted_ids = np.argmax(tflite_q_model_predictions, axis=-1)\n",
        "tflite_q_predicted_labels = dataset_labels[tflite_q_predicted_ids]\n",
        "tflite_q_label_id = np.argmax(val_label_batch, axis=-1)\n",
        "\n",
        "plt.figure(figsize=(10,9))\n",
        "plt.subplots_adjust(hspace=0.5)\n",
        "for n in range(30):\n",
        "  plt.subplot(6,5,n+1)\n",
        "  plt.imshow(val_image_batch[n])\n",
        "  color = \"green\" if tflite_q_predicted_ids[n] == true_label_ids[n] else \"red\"\n",
        "  plt.title(tflite_q_predicted_labels[n].title(), color=color)\n",
        "  plt.axis('off')\n",
        "_ = plt.suptitle(\"Quantized TFLite model predictions (green: correct, red: incorrect)\")"
      ]
    },
    {
      "cell_type": "code",
      "execution_count": null,
      "metadata": {
        "id": "8Cjvm7lTXa-w",
        "colab": {
          "base_uri": "https://localhost:8080/",
          "height": 585
        },
        "outputId": "de391b02-f6ff-41c0-e003-bbce95681de3"
      },
      "outputs": [
        {
          "output_type": "display_data",
          "data": {
            "text/plain": [
              "<Figure size 720x648 with 30 Axes>"
            ],
            "image/png": "[encoded data removed]"
          },
          "metadata": {
            "needs_background": "light"
          }
        }
      ],
      "source": [
        "# Print images batch and labels predictions for TFLite Model\n",
        "\n",
        "# 양자화된 TF 모델 예측\n",
        "\n",
        "tflite_q_predicted_ids = np.argmax(tflite_q_model_predictions, axis=-1)\n",
        "tflite_q_predicted_labels = dataset_labels[tflite_q_predicted_ids]\n",
        "tflite_q_label_id = np.argmax(val_label_batch, axis=-1)\n",
        "\n",
        "plt.figure(figsize=(10,9))\n",
        "plt.subplots_adjust(hspace=0.5)\n",
        "for n in range(30):\n",
        "  plt.subplot(6,5,n+1)\n",
        "  plt.imshow(val_image_batch[n])\n",
        "  color = \"green\" if tflite_q_predicted_ids[n] == true_label_ids[n] else \"red\"\n",
        "  plt.title(tflite_q_predicted_labels[n].title(), color=color)\n",
        "  plt.axis('off')\n",
        "_ = plt.suptitle(\"Quantized TFLite model predictions (green: correct, red: incorrect)\")"
      ]
    },
    {
      "cell_type": "code",
      "source": [
        "import time # time 라이브러리 import\n",
        "start = time.time() # 시작\n",
        " \n",
        "time.sleep(1) # 측정하고자 하는 코드 부분\n",
        " \n",
        "print(f\"{time.time()-start:.4f} sec\") # 종료와 함께 수행시간 출력"
      ],
      "metadata": {
        "colab": {
          "base_uri": "https://localhost:8080/"
        },
        "id": "PEyi0pbC9ZjY",
        "outputId": "f36a59de-fa1f-4af3-b2bb-cf63be37758f"
      },
      "execution_count": null,
      "outputs": [
        {
          "output_type": "stream",
          "name": "stdout",
          "text": [
            "1.0023 sec\n"
          ]
        }
      ]
    },
    {
      "cell_type": "markdown",
      "metadata": {
        "id": "5po0e7gAw_tn"
      },
      "source": [
        "## Export image validation batch"
      ]
    },
    {
      "cell_type": "markdown",
      "metadata": {
        "id": "QabY81a16vp_"
      },
      "source": [
        "Export validation batch so it can be tested client side. Below we create compressed file containing all images named with the convention:\n",
        "\n",
        "`n{}_true{}_pred{}.jpg`\n",
        "\n",
        "where the first number is index, the second - true label index, the third - value predicted by TFLite moder generated in this notebook. Example file will look similar to this: `n0_true1_pred1.jpg`.\n",
        "\n",
        "All images then will be put into client side testing code (res/assets in Android tests). Integration tests will run inference process on each image and then compare results with the ones saved in file names."
      ]
    },
    {
      "cell_type": "markdown",
      "metadata": {
        "id": "0_T9n8o01wPc"
      },
      "source": [
        "from PIL import Image"
      ]
    },
    {
      "cell_type": "code",
      "execution_count": null,
      "metadata": {
        "id": "RZGYgq2oXd7e"
      },
      "outputs": [],
      "source": [
        "from PIL import Image"
      ]
    },
    {
      "cell_type": "markdown",
      "metadata": {
        "id": "TN-a27dBpvID"
      },
      "source": [
        "VAL_BATCH_DIR = \"validation_batch\""
      ]
    },
    {
      "cell_type": "code",
      "execution_count": null,
      "metadata": {
        "id": "a18g2Jy5Xf94"
      },
      "outputs": [],
      "source": [
        "VAL_BATCH_DIR = \"validation_batch\""
      ]
    },
    {
      "cell_type": "markdown",
      "metadata": {
        "id": "SVlZZzEu1U9p",
        "outputId": "52731dd7-68f3-4603-924d-067ffe30f059"
      },
      "source": [
        "!mkdir {VAL_BATCH_DIR}"
      ]
    },
    {
      "cell_type": "code",
      "execution_count": null,
      "metadata": {
        "id": "0TAnPk6DXg92"
      },
      "outputs": [],
      "source": [
        "!mkdir {VAL_BATCH_DIR}"
      ]
    },
    {
      "cell_type": "markdown",
      "metadata": {
        "id": "PhWe3RrhxFZj"
      },
      "source": [
        "# Export batch to *.jpg files with specific naming convention.\n",
        "# Make sure they are exported in the full quality, otherwise the inference\n",
        "# process will return different results. \n",
        "\n",
        "for n in range(32):\n",
        "  filename = \"n{:0.0f}_true{:0.0f}_pred{:0.0f}.jpg\".format(\n",
        "      n,\n",
        "      true_label_ids[n],\n",
        "      tflite_model_pred_simplified[n][0]\n",
        "  )\n",
        "  img_arr = np.copy(val_image_batch[n])\n",
        "  img_arr *= 255\n",
        "  img_arr = img_arr.astype(\"uint8\")\n",
        "  img11 = Image.fromarray(img_arr, 'RGB')\n",
        "  img11.save(\"{}/{}\".format(VAL_BATCH_DIR, filename), \"JPEG\", quality=100)"
      ]
    },
    {
      "cell_type": "code",
      "execution_count": null,
      "metadata": {
        "id": "6SUtzMfEXij-"
      },
      "outputs": [],
      "source": [
        "# Export batch to *.jpg files with specific naming convention.\n",
        "# Make sure they are exported in the full quality, otherwise the inference\n",
        "# process will return different results. \n",
        "\n",
        "for n in range(32):\n",
        "  filename = \"n{:0.0f}_true{:0.0f}_pred{:0.0f}.jpg\".format(\n",
        "      n,\n",
        "      true_label_ids[n],\n",
        "      tflite_model_pred_simplified[n][0]\n",
        "  )\n",
        "  img_arr = np.copy(val_image_batch[n])\n",
        "  img_arr *= 255\n",
        "  img_arr = img_arr.astype(\"uint8\")\n",
        "  img11 = Image.fromarray(img_arr, 'RGB')\n",
        "  img11.save(\"{}/{}\".format(VAL_BATCH_DIR, filename), \"JPEG\", quality=100)"
      ]
    },
    {
      "cell_type": "markdown",
      "metadata": {
        "id": "NxsY9jwkxakd",
        "outputId": "b1694e6e-5378-4d13-b8c8-ccd4d6d887e3"
      },
      "source": [
        "!tar -zcvf {VAL_BATCH_DIR}.tar.gz {VAL_BATCH_DIR}"
      ]
    },
    {
      "cell_type": "code",
      "execution_count": null,
      "metadata": {
        "id": "_CQ005pZXj0-"
      },
      "outputs": [],
      "source": [
        "!tar -zcvf {VAL_BATCH_DIR}.tar.gz {VAL_BATCH_DIR}"
      ]
    },
    {
      "cell_type": "markdown",
      "metadata": {
        "id": "93k0utqr8Mq-"
      },
      "source": [
        "File `validation_batch.tar.gz` is ready to be downloaded, unpacked and put into client-side testing code."
      ]
    }
  ],
  "metadata": {
    "accelerator": "GPU",
    "colab": {
      "provenance": [],
      "include_colab_link": true
    },
    "kernelspec": {
      "display_name": "soten38",
      "language": "python",
      "name": "soten38"
    },
    "language_info": {
      "codemirror_mode": {
        "name": "ipython",
        "version": 3
      },
      "file_extension": ".py",
      "mimetype": "text/x-python",
      "name": "python",
      "nbconvert_exporter": "python",
      "pygments_lexer": "ipython3",
      "version": "3.8.13"
    },
    "toc": {
      "base_numbering": 1,
      "nav_menu": {},
      "number_sections": true,
      "sideBar": true,
      "skip_h1_title": false,
      "title_cell": "Table of Contents",
      "title_sidebar": "Contents",
      "toc_cell": false,
      "toc_position": {},
      "toc_section_display": true,
      "toc_window_display": false
    },
    "varInspector": {
      "cols": {
        "lenName": 16,
        "lenType": 16,
        "lenVar": 40
      },
      "kernels_config": {
        "python": {
          "delete_cmd_postfix": "",
          "delete_cmd_prefix": "del ",
          "library": "var_list.py",
          "varRefreshCmd": "print(var_dic_list())"
        },
        "r": {
          "delete_cmd_postfix": ") ",
          "delete_cmd_prefix": "rm(",
          "library": "var_list.r",
          "varRefreshCmd": "cat(var_dic_list()) "
        }
      },
      "types_to_exclude": [
        "module",
        "function",
        "builtin_function_or_method",
        "instance",
        "_Feature"
      ],
      "window_display": false
    }
  },
  "nbformat": 4,
  "nbformat_minor": 0
}